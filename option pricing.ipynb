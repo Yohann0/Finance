{
 "cells": [
  {
   "cell_type": "markdown",
   "metadata": {},
   "source": [
    "### How to install C++ kernel in Jupyter? \n",
    "1. Install miniconda\n",
    "2. Create a new environment: ```conda create -n cpp_env```\n",
    "<!-- (3. Initialise the environment: ```conda init```) -->\n",
    "4. Activate the environment: ```conda activate cpp_env```\n",
    "5. Install xeus-cling: ```conda install jupyter xeus-cling -c conda-forge```\n",
    "<!--6. Launch Jupyter: ```jupyter notebook --no-browser```\n",
    "7. Change kernel, select another kernel, existing jupyter server and copy-paste (if needed) the url provided in the terminal -->\n",
    "8. Change kernel and select a C++ kernel"
   ]
  },
  {
   "cell_type": "markdown",
   "metadata": {},
   "source": [
    "### Black-Scholes\n",
    "$$C(S_t, t) = N(d_+)S_t e^{-q(T - t)} - N(d_-)Ke^{-r(T - t)}$$\n",
    "$$d_+ = \\frac{1}{\\sigma\\sqrt{T - t}}\\left[\\ln\\left(\\frac{S_t}{K}\\right) + \\left(r-q + \\frac{\\sigma^2}{2}\\right)(T - t)\\right] $$\n",
    "$$     d_- = d_+ - \\sigma\\sqrt{T - t} $$"
   ]
  },
  {
   "cell_type": "code",
   "execution_count": 1,
   "metadata": {
    "vscode": {
     "languageId": "cpp"
    }
   },
   "outputs": [],
   "source": [
    "#include <cmath>\n",
    "#include <iostream>\n",
    "#include <string>\n",
    "#include <algorithm>\n",
    "#include <stdexcept>\n",
    "#include <random>\n",
    "using namespace std;"
   ]
  },
  {
   "cell_type": "code",
   "execution_count": 2,
   "metadata": {
    "vscode": {
     "languageId": "cpp"
    }
   },
   "outputs": [],
   "source": [
    "double normal_cdf_riemann(double b){\n",
    "    double a=-50; //Limit of integration\n",
    "\n",
    "    int n=100000; // Number of subintervals\n",
    "    double dx = (b-a)/n;\n",
    "    double s=0.0;\n",
    "    double x=a;\n",
    "\n",
    "    for (int i=0; i<n; i++){\n",
    "        s+= exp(-pow(x,2)/2)*dx;\n",
    "        x+=dx; \n",
    "    }\n",
    "    return s/sqrt(2*M_PI);;\n",
    "}"
   ]
  },
  {
   "cell_type": "code",
   "execution_count": 3,
   "metadata": {
    "vscode": {
     "languageId": "cpp"
    }
   },
   "outputs": [],
   "source": [
    "double Black_Scholes(string call_put, double sigma, double K, double T, double t, double St, double r, double q){\n",
    "    double d_plus = (log(St/K)+(r-q+pow(sigma,2)/2)*(T-t))/(sigma*sqrt(T-t));\n",
    "    double d_minus = d_plus - sigma*sqrt(T-t);\n",
    "    if(call_put==\"call\"){\n",
    "        return normal_cdf_riemann(d_plus)*St*exp(-q*(T-t))- normal_cdf_riemann(d_minus)*K*exp(-r*(T-t));;\n",
    "    }\n",
    "    else if (call_put==\"put\"){\n",
    "        return -normal_cdf_riemann(-d_plus)*St*exp(-q*(T-t))+ normal_cdf_riemann(-d_minus)*K*exp(-r*(T-t));;\n",
    "    }\n",
    "    else{\n",
    "        throw runtime_error(\"Please choose between call and put\");\n",
    "        //return -1.;\n",
    "    }\n",
    "}"
   ]
  },
  {
   "cell_type": "code",
   "execution_count": 4,
   "metadata": {
    "vscode": {
     "languageId": "cpp"
    }
   },
   "outputs": [
    {
     "name": "stdout",
     "output_type": "stream",
     "text": [
      "Black-Scholes call price: 0.064067\n",
      "Black-Scholes put price: 34.533943\n"
     ]
    }
   ],
   "source": [
    "double St=100;\n",
    "double K=100;\n",
    "double T=1.;\n",
    "double t=0;\n",
    "double r=.05;\n",
    "double q=0.5;\n",
    "double sigma=.2;\n",
    "cout << \"Black-Scholes call price: \"+to_string(Black_Scholes(\"call\", sigma, K, T, t, St, r, q)) << endl;\n",
    "cout << \"Black-Scholes put price: \"+to_string(Black_Scholes(\"put\", sigma, K, T, t, St, r, q)) << endl;\n"
   ]
  },
  {
   "cell_type": "markdown",
   "metadata": {},
   "source": [
    "### Monte-Carlo simulation"
   ]
  },
  {
   "cell_type": "code",
   "execution_count": 2,
   "metadata": {
    "vscode": {
     "languageId": "cpp"
    }
   },
   "outputs": [],
   "source": [
    "double Monte_Carlo(string call_put, double sigma, double K, double T, double t, double St, double r, double q){  \n",
    "    default_random_engine generator; // Create a generator\n",
    "    normal_distribution<double> distribution(0,1); //Specify the distribution\n",
    "    int n=10; // Number of time points\n",
    "    double dt=(T-t)/(n-1);\n",
    "    int N=50000; //Number of paths\n",
    "    double S[N][n];\n",
    "    for (int i=0; i<N; i++){\n",
    "      S[i][0]=St; //Initialise all the paths at St\n",
    "    }\n",
    "\n",
    "    for (int i = 0; i < N; i++) {\n",
    "      for (int j=1; j<n; j++){\n",
    "        S[i][j] = S[i][j-1]*exp((r-q-pow(sigma,2)/2)*dt+sigma*sqrt(dt)*distribution(generator));\n",
    "      }\n",
    "    }\n",
    "\n",
    "    double payoff_sum;\n",
    "    if (call_put==\"call\"){\n",
    "        for (int i=0; i<N; i++){\n",
    "            payoff_sum += max(S[i][n-1]-K,0.);\n",
    "        }\n",
    "    }\n",
    "    else if(call_put==\"put\"){\n",
    "        for (int i=0; i<N; i++){\n",
    "            payoff_sum += max(K-S[i][n-1],0.);\n",
    "        }\n",
    "    }\n",
    "    else{\n",
    "        throw runtime_error(\"Please choose between call and put\");\n",
    "    }\n",
    "    return payoff_sum/N*exp(-r*(T-t));\n",
    "}"
   ]
  },
  {
   "cell_type": "code",
   "execution_count": 3,
   "metadata": {
    "vscode": {
     "languageId": "cpp"
    }
   },
   "outputs": [
    {
     "name": "stdout",
     "output_type": "stream",
     "text": [
      "Monte-Carlo European call price: 10.375356\n",
      "Monte-Carlo European put price: 5.589298\n"
     ]
    },
    {
     "name": "stdout",
     "output_type": "stream",
     "text": [
      "Monte-Carlo American call price: 15.436859\n",
      "Monte-Carlo American put price: 9.609382\n"
     ]
    }
   ],
   "source": [
    "double St=100;\n",
    "double K=100;\n",
    "double T=1.;\n",
    "double t=0;\n",
    "double r=.05;\n",
    "double q=0.;\n",
    "double sigma=.2;\n",
    "\n",
    "cout << \"Monte-Carlo European call price: \"+to_string(Monte_Carlo(\"call\", sigma, K, T, t, St, r, q)) << endl;\n",
    "cout << \"Monte-Carlo European put price: \"+to_string(Monte_Carlo(\"put\", sigma, K, T, t, St, r, q)) << endl;"
   ]
  },
  {
   "cell_type": "markdown",
   "metadata": {},
   "source": [
    "### Tree"
   ]
  },
  {
   "cell_type": "code",
   "execution_count": 9,
   "metadata": {
    "vscode": {
     "languageId": "cpp"
    }
   },
   "outputs": [],
   "source": [
    "double Tree(string call_put, string am_eu, double sigma, double K, double T, double t, double St, double r, double q){  \n",
    "    int n=150; // Number of time periods\n",
    "    double dt=(T-t)/n;\n",
    "    double S[n][n+1];\n",
    "    double U=exp(sigma*sqrt(dt));\n",
    "    double D=1/U;\n",
    "\n",
    "    S[0][0]=St;\n",
    "    \n",
    "    for (int i = 0; i<n-1; i++) {\n",
    "      for (int j=0; j<i+1; j++){ //the tree recombines so there is exactly i+1 nodes after the ith time period\n",
    "        S[i+1][j] = S[i][j]*U; //the three recombines so all the i+1 nodes are created by taking the up of all previous nodes \n",
    "      }\n",
    "      S[i+1][i+1]=S[i][i]*D; // except the last node that must be created by taking the down of the last i node\n",
    "    }\n",
    "\n",
    "    double prices[n][n+1];\n",
    "    if(call_put==\"call\"){\n",
    "      for (int j=0; j<n+1; j++){ \n",
    "        prices[n-1][j]=max(S[n-1][j]-K,0.);\n",
    "      }\n",
    "    }\n",
    "    else if(call_put==\"put\"){\n",
    "      for (int j=0; j<n+1; j++){ \n",
    "        prices[n-1][j]=max(K-S[n-1][j],0.);\n",
    "      }\n",
    "    }\n",
    "    else{\n",
    "        throw runtime_error(\"Please choose between call and put\");\n",
    "    }\n",
    "\n",
    "    double p=(exp((r-q)*dt)-D)/(U-D);\n",
    "    if(am_eu==\"European\"){\n",
    "      for (int i = n-2; i>=0; i--) {\n",
    "        for (int j=0; j<i+1; j++){ \n",
    "          prices[i][j] = (p*prices[i+1][j]+(1-p)*prices[i+1][j+1])*exp(-r*dt);\n",
    "        }\n",
    "      }\n",
    "    }\n",
    "    else if(am_eu==\"American\"){\n",
    "      if(call_put==\"call\"){\n",
    "        for (int i = n-2; i>=0; i--) {\n",
    "          for (int j=0; j<i+1; j++){ \n",
    "            prices[i][j] = max((p*prices[i+1][j]+(1-p)*prices[i+1][j+1])*exp(-r*dt), S[i][j]-K);\n",
    "          }\n",
    "        }\n",
    "      }\n",
    "      else if(call_put==\"put\"){\n",
    "        for (int i = n-2; i>=0; i--) {\n",
    "          for (int j=0; j<i+1; j++){ \n",
    "            prices[i][j] = max((p*prices[i+1][j]+(1-p)*prices[i+1][j+1])*exp(-r*dt), K-S[i][j]);\n",
    "          }\n",
    "        }\n",
    "      }\n",
    "    }\n",
    "    else\n",
    "    {\n",
    "        throw runtime_error(\"Please choose American or European.\");\n",
    "    }\n",
    "\n",
    "    return prices[0][0];;\n",
    "}"
   ]
  },
  {
   "cell_type": "code",
   "execution_count": 11,
   "metadata": {
    "vscode": {
     "languageId": "cpp"
    }
   },
   "outputs": [
    {
     "name": "stdout",
     "output_type": "stream",
     "text": [
      "Binomial European tree call price: 0.062082\n",
      "Binomial European tree put price: 34.361158\n",
      "Binomial American tree call price: 1.556477\n",
      "Binomial American tree put price: 34.361158\n"
     ]
    }
   ],
   "source": [
    "double St=100;\n",
    "double K=100;\n",
    "double T=1.;\n",
    "double t=0;\n",
    "double r=.05;\n",
    "double q=0.5;\n",
    "double sigma=.2;\n",
    "\n",
    "cout << \"Binomial European tree call price: \"+to_string(Tree(\"call\", \"European\", sigma, K, T, t, St, r, q)) << endl;\n",
    "cout << \"Binomial European tree put price: \"+to_string(Tree(\"put\", \"European\", sigma, K, T, t, St, r, q)) << endl;\n",
    "\n",
    "cout << \"Binomial American tree call price: \"+to_string(Tree(\"call\", \"American\", sigma, K, T, t, St, r, q)) << endl;\n",
    "cout << \"Binomial American tree put price: \"+to_string(Tree(\"put\", \"American\", sigma, K, T, t, St, r, q)) << endl;"
   ]
  },
  {
   "cell_type": "markdown",
   "metadata": {
    "vscode": {
     "languageId": "cpp"
    }
   },
   "source": [
    "### PDE and finite difference methods"
   ]
  },
  {
   "cell_type": "markdown",
   "metadata": {},
   "source": [
    "$$\\frac{\\partial V}{\\partial t} + \\frac{1}{2}\\sigma^2 S^2 \\frac{\\partial^2 V}{\\partial S^2} +  (r-q)S\\frac{\\partial V}{\\partial S} -  rV = 0$$\n",
    "$$\\Theta + \\frac{1}{2}\\sigma^2 S^2 \\Gamma +  (r-q)S \\Delta -  rV = 0$$\n",
    "We can discretize the Greeks (I choose to use the explicit method, ie backward approximation for $\\Theta$, central approximation for $\\Delta$ and standard approximation for $\\Gamma$):\n",
    "$$\\Theta =\\frac{\\partial V}{\\partial t} = \\frac{V(t_i,S_j)-V(t_{i-1},S_j)}{\\delta t}$$\n",
    "$$\\Gamma =\\frac{\\partial^2 V}{\\partial S^2}= \\frac{V(t_i,S_{j+1})-2V(t_i,S_j)+V(t_i,S_{j-1})}{(\\delta S)^2}$$\n",
    "$$ \\Delta =\\frac{\\partial V}{\\partial S}= \\frac{V(t_i,S_{j+1})-V(t_i,S_{j-1})}{2\\delta S}$$\n",
    "Thus, we have:\n",
    "$$V(t_{i-1},S_j)=(1-r \\delta t) V(t_i,S_j)+\\frac{1}{2}\\sigma^2 \\delta t S_j^2 \\frac{V(t_i,S_{j+1})+2V(t_i,S_j)+V(t_i,S_{j-1})}{(\\delta S)^2} + (r-q) \\delta t S_j \\frac{V(t_i,S_{j+1})-V(t_i,S_{j-1})}{2\\delta S}$$\n",
    "$$V(t_{i-1},S_j)= a_j V(t_i,S_{j-1}) + b_j V(t_i, S_j) + c_j V(t_i, S_{j+1})$$\n",
    "with $a_j=\\frac{1}{2} \\delta t (\\sigma^2 j^2-(r-q)j) $, $b_j=1-\\delta t (\\sigma^2 j^2 +r)$ and $c_j=\\frac{1}{2} \\delta t (\\sigma^2 j^2+(r-q)j)$ using $S_j=j \\delta S$.\n",
    "\n",
    "We set boundaries conditions:\n",
    "$$ \\forall i, V(t_i,0) = 0 $$\n",
    "$$ \\forall i, V(t_i, S_j) \\underset{S_j \\rightarrow \\infty}{\\sim} S_j - K e^{-r(T-t_i)}$$\n",
    "$$ \\forall j, V(T, S_j) = \\max(S_j - K, 0)$$"
   ]
  },
  {
   "cell_type": "code",
   "execution_count": 1,
   "metadata": {
    "vscode": {
     "languageId": "cpp"
    }
   },
   "outputs": [],
   "source": [
    "#include <cmath>\n",
    "#include <iostream>\n",
    "#include <string>\n",
    "#include <algorithm>\n",
    "#include <stdexcept>\n",
    "#include <random>\n",
    "using namespace std;"
   ]
  },
  {
   "cell_type": "code",
   "execution_count": 2,
   "metadata": {
    "vscode": {
     "languageId": "cpp"
    }
   },
   "outputs": [],
   "source": [
    "double PDE(string call_put, string am_eu, double sigma, double K, double T, double St, double r, double q){  \n",
    "    //double S_min =0.;\n",
    "    //double S_max= St*(1+8*sigma*sqrt(T)); //good maximum value for a lognormal distribution\n",
    "    double S_max= St*(1+2*sigma*sqrt(T)); \n",
    "    int n_t=1000; // Number of time points\n",
    "    int n_S=50; // Number of price points\n",
    "    double dt=T/(n_t-1);\n",
    "    double dS=(S_max)/(n_S-1);\n",
    "    double V[n_t][n_S];\n",
    "\n",
    "    if(dt*sigma*sigma*n_S*n_S>1){\n",
    "        cout << \"Change the parameters in order to assure the stability.\" << endl;\n",
    "    }\n",
    "\n",
    "    if(call_put==\"call\"){\n",
    "        for(int i=0; i<n_t;i++){\n",
    "            V[i][0] = 0.;\n",
    "            V[i][n_S-1] = S_max - K*exp(-r*(T-i*dt));\n",
    "        }\n",
    "        for(int j=0; j<n_S;j++){\n",
    "            V[n_t-1][j] = max(j*dS-K,0.);\n",
    "        }\n",
    "    }\n",
    "    else if (call_put==\"put\"){\n",
    "        for(int i=0; i<n_t;i++){\n",
    "            V[i][0] = K*exp(-r*(T-i*dt));\n",
    "            V[i][n_S-1] = 0.;\n",
    "        }\n",
    "        for(int j=0; j<n_S;j++){\n",
    "            V[n_t-1][j] = max(K-j*dS,0.);\n",
    "        }\n",
    "    }\n",
    "    else{\n",
    "        throw runtime_error(\"Please choose between call and put\");\n",
    "    }\n",
    "    \n",
    "    double a,b,c;\n",
    "    if(am_eu==\"European\"){\n",
    "        for(int i=n_t-1; i>0;i--){\n",
    "            for(int j=1; j<n_S-1;j++){\n",
    "                a=.5*dt*(sigma*sigma*j*j-(r-q)*j);\n",
    "                b=1-dt*(sigma*sigma*j*j+r);\n",
    "                c=.5*dt*(sigma*sigma*j*j+(r-q)*j);\n",
    "                V[i-1][j] = a*V[i][j-1]+b*V[i][j]+c*V[i][j+1];\n",
    "            }\n",
    "        }\n",
    "    }\n",
    "    else if(am_eu==\"American\"){\n",
    "        if(call_put==\"call\"){\n",
    "            for(int i=n_t-1; i>0;i--){\n",
    "                for(int j=1; j<n_S-1;j++){\n",
    "                    a=.5*dt*(sigma*sigma*j*j-(r-q)*j);\n",
    "                    b=1-dt*(sigma*sigma*j*j+r);\n",
    "                    c=.5*dt*(sigma*sigma*j*j+(r-q)*j);\n",
    "                    V[i-1][j] = max(a*V[i][j-1]+b*V[i][j]+c*V[i][j+1], j*dS-K);\n",
    "                }\n",
    "            }\n",
    "        }\n",
    "        else if(call_put==\"put\"){\n",
    "            for(int i=n_t-1; i>0;i--){\n",
    "                for(int j=1; j<n_S-1;j++){\n",
    "                    a=.5*dt*(sigma*sigma*j*j-(r-q)*j);\n",
    "                    b=1-dt*(sigma*sigma*j*j+r);\n",
    "                    c=.5*dt*(sigma*sigma*j*j+(r-q)*j);\n",
    "                    V[i-1][j] = max(a*V[i][j-1]+b*V[i][j]+c*V[i][j+1], K-j*dS);\n",
    "                }\n",
    "            }\n",
    "        }\n",
    "    }\n",
    "    else{\n",
    "        throw runtime_error(\"Please choose between American and European\");\n",
    "    }\n",
    "    return V[0][int(round(St/dS))];;\n",
    "}"
   ]
  },
  {
   "cell_type": "code",
   "execution_count": 3,
   "metadata": {
    "vscode": {
     "languageId": "cpp"
    }
   },
   "outputs": [
    {
     "name": "stdout",
     "output_type": "stream",
     "text": [
      "PDE European call price: 0.061975\n",
      "PDE European put price: 34.533300\n",
      "PDE American call price: 1.461421\n",
      "PDE American put price: 34.533300\n"
     ]
    }
   ],
   "source": [
    "double St=100;\n",
    "double K=100;\n",
    "double T=1.;\n",
    "double t=0;\n",
    "double r=.05;\n",
    "double q=0.5;\n",
    "double sigma=.2;\n",
    "cout << \"PDE European call price: \"+to_string(PDE(\"call\", \"European\", sigma, K, T, St, r, q)) << endl;\n",
    "cout << \"PDE European put price: \"+to_string(PDE(\"put\", \"European\", sigma, K, T, St, r, q)) << endl;\n",
    "cout << \"PDE American call price: \"+to_string(PDE(\"call\", \"American\", sigma, K, T, St, r, q)) << endl;\n",
    "cout << \"PDE American put price: \"+to_string(PDE(\"put\", \"American\", sigma, K, T, St, r, q)) << endl;"
   ]
  },
  {
   "cell_type": "code",
   "execution_count": null,
   "metadata": {
    "vscode": {
     "languageId": "cpp"
    }
   },
   "outputs": [],
   "source": []
  },
  {
   "cell_type": "markdown",
   "metadata": {},
   "source": [
    "try on MC for am options:\n",
    "double Monte_Carlo(string call_put, string am_eu, double sigma, double K, double T, double t, double St, double r, double q){  \n",
    "    default_random_engine generator; // Create a generator\n",
    "    normal_distribution<double> distribution(0,1); //Specify the distribution\n",
    "    int n=10; // Number of time points\n",
    "    double dt=(T-t)/(n-1);\n",
    "    int N=50000; //Number of paths\n",
    "    double S[N][n];\n",
    "    for (int i=0; i<N; i++){\n",
    "      S[i][0]=St; //Initialise all the paths at St\n",
    "    }\n",
    "    \n",
    "\n",
    "    for (int i = 0; i < N; i++) {\n",
    "      for (int j=1; j<n; j++){\n",
    "        S[i][j] = S[i][j-1]*exp((r-q-pow(sigma,2)/2)*dt+sigma*sqrt(dt)*distribution(generator));\n",
    "      }\n",
    "    }\n",
    "\n",
    "    double option_price=-1.;\n",
    "    if (am_eu==\"European\")\n",
    "    {\n",
    "        double payoff_sum;\n",
    "        if (call_put==\"call\"){\n",
    "        for (int i=0; i<N; i++){\n",
    "            payoff_sum += max(S[i][n-1]-K,0.);\n",
    "        }\n",
    "        }\n",
    "        else if(call_put==\"put\"){\n",
    "        for (int i=0; i<N; i++){\n",
    "            payoff_sum += max(K-S[i][n-1],0.);\n",
    "        }\n",
    "        }\n",
    "        else{\n",
    "            throw runtime_error(\"Please choose between call and put\");\n",
    "        }\n",
    "        option_price=payoff_sum/N*exp(-r*(T-t));\n",
    "    }\n",
    "    else if (am_eu==\"American\")\n",
    "    {\n",
    "        double prices[N][n];\n",
    "        if (call_put==\"call\"){\n",
    "          for (int i=0; i<N; i++){\n",
    "              prices[i][n-1] = max(S[i][n-1]-K,0.);\n",
    "          }\n",
    "          for (int i = 0; i<N; i++) {\n",
    "              for (int j=n-2; j>=0; j--){ \n",
    "                  prices[i][j] = max(S[i][j]-K, prices[i][j+1]*exp(-r*dt));\n",
    "                  //prices[i][j] = max(S[i][j]-K, prices[i][j+1]*exp(-(r-q)*dt));\n",
    "              }\n",
    "          }\n",
    "        }\n",
    "        else if(call_put==\"put\"){\n",
    "          for (int i=0; i<N; i++){\n",
    "              prices[i][n-1] = max(K-S[i][n-1],0.);\n",
    "          }\n",
    "          for (int i = 0; i<N; i++) {\n",
    "              for (int j=n-2; j>=0; j--){ \n",
    "                  prices[i][j] = max(K-S[i][j], prices[i][j+1]*exp(-r*dt));\n",
    "                  //prices[i][j] = max(S[i][j]-K, prices[i][j+1]*exp(-(r-q)*dt));\n",
    "              }\n",
    "          }\n",
    "        }\n",
    "        else{\n",
    "            throw runtime_error(\"Please choose between call and put\");\n",
    "        }\n",
    "\n",
    "        double price_sum=0;\n",
    "        for (int i=0; i<N; i++){\n",
    "            price_sum += prices[i][0];\n",
    "        }\n",
    "        option_price=price_sum/N;\n",
    "    }\n",
    "    else\n",
    "    {\n",
    "        throw runtime_error(\"Please choose American or European.\");\n",
    "    }\n",
    "    return option_price;;\n",
    "}\n"
   ]
  },
  {
   "cell_type": "markdown",
   "metadata": {},
   "source": []
  }
 ],
 "metadata": {
  "kernelspec": {
   "display_name": "C++17",
   "language": "C++17",
   "name": "xcpp17"
  },
  "language_info": {
   "codemirror_mode": "text/x-c++src",
   "file_extension": ".cpp",
   "mimetype": "text/x-c++src",
   "name": "c++",
   "version": "17"
  }
 },
 "nbformat": 4,
 "nbformat_minor": 2
}
