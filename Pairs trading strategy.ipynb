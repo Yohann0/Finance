{
 "cells": [
  {
   "cell_type": "code",
   "execution_count": null,
   "metadata": {
    "execution": {
     "iopub.execute_input": "2024-06-08T07:58:25.075083Z",
     "iopub.status.busy": "2024-06-08T07:58:25.074655Z",
     "iopub.status.idle": "2024-06-08T08:00:02.012868Z",
     "shell.execute_reply": "2024-06-08T08:00:02.010977Z",
     "shell.execute_reply.started": "2024-06-08T07:58:25.075047Z"
    },
    "trusted": true
   },
   "outputs": [],
   "source": [
    "%%capture --no-stderr\n",
    "!pip install yfinance itertools statsmodels botorch torchsummary"
   ]
  },
  {
   "cell_type": "code",
   "execution_count": 2,
   "metadata": {
    "execution": {
     "iopub.execute_input": "2024-06-08T08:00:02.016538Z",
     "iopub.status.busy": "2024-06-08T08:00:02.016023Z",
     "iopub.status.idle": "2024-06-08T08:00:10.381356Z",
     "shell.execute_reply": "2024-06-08T08:00:10.379873Z",
     "shell.execute_reply.started": "2024-06-08T08:00:02.016489Z"
    },
    "trusted": true
   },
   "outputs": [],
   "source": [
    "import pandas as pd\n",
    "import yfinance as yf\n",
    "from itertools import combinations\n",
    "from statsmodels.tsa.stattools import coint, adfuller\n",
    "from statsmodels.regression.linear_model import OLS\n",
    "import statsmodels.api as sm\n",
    "import os\n",
    "import math\n",
    "import torch\n",
    "import random\n",
    "import numpy as np\n",
    "import torch.nn as nn\n",
    "from botorch.models import SingleTaskGP\n",
    "from gpytorch.mlls import ExactMarginalLogLikelihood\n",
    "from botorch.fit import fit_gpytorch_mll\n",
    "from botorch.acquisition import ExpectedImprovement, qExpectedImprovement, UpperConfidenceBound\n",
    "from botorch.acquisition.knowledge_gradient import qKnowledgeGradient\n",
    "from botorch.optim import optimize_acqf\n",
    "from sklearn.svm import SVR\n",
    "from sklearn.metrics import mean_squared_error\n",
    "from sklearn.ensemble import RandomForestRegressor\n",
    "from torchsummary import summary\n",
    "\n",
    "from matplotlib import pyplot as plt\n",
    "%matplotlib inline\n",
    "\n",
    "import warnings\n",
    "warnings.filterwarnings(action='ignore')"
   ]
  },
  {
   "cell_type": "markdown",
   "metadata": {},
   "source": [
    "# Pairs trading strategy"
   ]
  },
  {
   "cell_type": "markdown",
   "metadata": {},
   "source": [
    "Pairs trading is a market-neutral strategy designed to generate profits regardless of the overall market direction. In pairs trading, you take two simultaneous positions: going long on one asset and short on another. The key requirement is that these assets are highly correlated. The trading signal is derived from the spread or price difference between these two assets. When the spread becomes unusually large compared to historical data, it indicates a temporary divergence, which is expected to correct itself over time and revert to the mean.\n",
    "\n",
    "Pairs trading is fundamentally a statistical strategy involving hypothesis testing, which assesses whether the observed relationship among multiple financial instruments is statistically significant. It is based on the principle of mean reversion, which assumes that assets deviating significantly from their historical relationship will eventually return to their mean.\n",
    "\n",
    "### Data downloading"
   ]
  },
  {
   "cell_type": "code",
   "execution_count": 3,
   "metadata": {
    "execution": {
     "iopub.execute_input": "2024-06-08T08:00:10.383771Z",
     "iopub.status.busy": "2024-06-08T08:00:10.382884Z",
     "iopub.status.idle": "2024-06-08T08:00:12.269669Z",
     "shell.execute_reply": "2024-06-08T08:00:12.268019Z",
     "shell.execute_reply.started": "2024-06-08T08:00:10.383724Z"
    },
    "trusted": true
   },
   "outputs": [
    {
     "name": "stderr",
     "output_type": "stream",
     "text": [
      "[*********************100%%**********************]  24 of 24 completed\n"
     ]
    }
   ],
   "source": [
    "stocks = ['GOOG', 'MSFT', 'AAPL', 'TSLA', 'META', 'NFLX', 'NVDA', 'AMZN', 'BABA', 'INTC', 'PYPL', 'GM', 'PIO', 'C', 'SUP', 'DIS', 'XLI', 'COKE', 'ELP', 'VZ', 'CPK', 'WCN', 'F', 'WOOD']\n",
    "start_date_trading=\"2022-01-01\"\n",
    "end_date_trading=\"2023-12-31\"\n",
    "\n",
    "# Download data from Yahoo Finance\n",
    "df = yf.download(stocks, start=start_date_trading, end=end_date_trading)['Adj Close']"
   ]
  },
  {
   "cell_type": "markdown",
   "metadata": {},
   "source": [
    "### Cointegration test and pair selection\n",
    "The cointegration test determines whether two stocks are sufficiently correlated to apply a pairs trading strategy. The Engle-Granger method is commonly used for this:\n",
    "\n",
    "* Estimate the coefficients of a linear regression model between the two stocks using ordinary least squares (OLS): $Y = \\alpha + \\beta X + \\varepsilon$.\n",
    "* Calculate the residuals from this regression model.\n",
    "* Test the residuals for stationarity using a unit root test, such as the Augmented Dickey-Fuller (ADF) test. If the p-value is below 5%, the residuals are considered stationary with 95% confidence.\n",
    "\n",
    "If the residuals are stationary, the two stocks are cointegrated. If the residuals are non-stationary, the stocks are not cointegrated.\n",
    "\n",
    "Correlation measures the degree of linear association between two time series, indicating whether they move together and the strength of this relationship. In contrast, cointegration examines the long-term equilibrium relationship between potentially non-stationary time series. Cointegration suggests that, despite short-term fluctuations, the two series share a common long-term trend. This allows analysts to identify persistent relationships that might be obscured by short-term market volatility."
   ]
  },
  {
   "cell_type": "code",
   "execution_count": 4,
   "metadata": {
    "execution": {
     "iopub.execute_input": "2024-06-08T08:00:12.273407Z",
     "iopub.status.busy": "2024-06-08T08:00:12.272910Z",
     "iopub.status.idle": "2024-06-08T08:00:12.280361Z",
     "shell.execute_reply": "2024-06-08T08:00:12.278897Z",
     "shell.execute_reply.started": "2024-06-08T08:00:12.273367Z"
    },
    "trusted": true
   },
   "outputs": [],
   "source": [
    "def coint_custom(X, Y):\n",
    "    \"\"\" Custom function to calculate the result of the Augmented Dickey-Fuller test on the residuals of a linear regression between two time series\"\"\"\n",
    "    X_with_constant= sm.add_constant(X) #we add a constant of ones to be able to catch the alpha parameter of the linear regression\n",
    "    model = OLS(Y, X_with_constant).fit()\n",
    "    epsilon = Y - model.predict()\n",
    "    return adfuller(epsilon)"
   ]
  },
  {
   "cell_type": "code",
   "execution_count": 5,
   "metadata": {
    "execution": {
     "iopub.execute_input": "2024-06-08T08:00:12.282706Z",
     "iopub.status.busy": "2024-06-08T08:00:12.282223Z",
     "iopub.status.idle": "2024-06-08T08:00:33.103783Z",
     "shell.execute_reply": "2024-06-08T08:00:33.102013Z",
     "shell.execute_reply.started": "2024-06-08T08:00:12.282666Z"
    },
    "trusted": true
   },
   "outputs": [],
   "source": [
    "stock_pairs = list(combinations(df.columns,2)) #list of all stock pairs\n",
    "pvalues=[]  #list to store the pvalues of the Engle-Granger test using the statsmodels library\n",
    "pvalues_custom=[]   #list to store the pvalues of the Engle-Granger test using the custom function\n",
    "\n",
    "# run Engle-Granger test for cointegration on each pair of stocks\n",
    "for stock1, stock2 in stock_pairs:\n",
    "    score, pvalue, _ = coint(df[stock1], df[stock2])\n",
    "    score_custom, pvalue_custom, _, _, _,_ = coint_custom(df[stock1], df[stock2])\n",
    "    pvalues.append(pvalue)\n",
    "    pvalues_custom.append(pvalue_custom)"
   ]
  },
  {
   "cell_type": "code",
   "execution_count": 6,
   "metadata": {
    "execution": {
     "iopub.execute_input": "2024-06-08T08:00:33.107833Z",
     "iopub.status.busy": "2024-06-08T08:00:33.106322Z",
     "iopub.status.idle": "2024-06-08T08:00:33.117565Z",
     "shell.execute_reply": "2024-06-08T08:00:33.115841Z",
     "shell.execute_reply.started": "2024-06-08T08:00:33.107761Z"
    },
    "trusted": true
   },
   "outputs": [],
   "source": [
    "threshold = 0.02\n",
    "coint_stocks=[] #this will be the list of cointegrated pairs of stocks\n",
    "\n",
    "for i in range(len(pvalues)):\n",
    " # check if the current pair of stocks is cointegrated\n",
    " if pvalues[i] < threshold:\n",
    "    coint_stocks.append(stock_pairs[i])\n",
    "#coint_stocks"
   ]
  },
  {
   "cell_type": "code",
   "execution_count": 7,
   "metadata": {
    "execution": {
     "iopub.execute_input": "2024-06-08T08:00:33.120956Z",
     "iopub.status.busy": "2024-06-08T08:00:33.119968Z",
     "iopub.status.idle": "2024-06-08T08:00:33.137102Z",
     "shell.execute_reply": "2024-06-08T08:00:33.135424Z",
     "shell.execute_reply.started": "2024-06-08T08:00:33.120896Z"
    },
    "trusted": true
   },
   "outputs": [],
   "source": [
    "#stock1, stock2= stock_pairs[np.array(pvalues).argmin()]\n",
    "stock1, stock2= ('MSFT', 'NVDA')    # I have selected this pair of stocks as they are cointegrated"
   ]
  },
  {
   "cell_type": "markdown",
   "metadata": {},
   "source": [
    "### Trading strategy\n",
    "For each pair of cointegrated stocks, we calculate the residuals from the linear regression between the two. These residuals represent the spread between the stocks that is not explained by the other stock. Since the stocks are cointegrated, this spread behaves like white noise.\n",
    "\n",
    "We then standardize the spread using the Z-score: $ z = \\frac{X - \\mu}{\\sigma} $. This standardization allows us to compare values across stocks with different means and standard deviations. The Z-score measures how far the current observation is from the mean in terms of standard deviations. A positive Z-score indicates the deviation is above the mean, while a negative Z-score suggests it is below the mean.\n",
    "\n",
    "This Z-score serves as a trading signal. When it crosses a certain threshold, it indicates that the stocks are unusually far apart, presenting an opportunity for profit. For instance, if the Z-score falls below -2, it means the spread is unusually negative and might revert to its mean. In this case, we would consider going long on stock 1 and short on stock 2, because if the spread is lower than usual, stock 2 is likely overpriced. When the spread returns to a more typical level (e.g., when the Z-score is above -1), we can close our position."
   ]
  },
  {
   "cell_type": "code",
   "execution_count": null,
   "metadata": {
    "execution": {
     "iopub.execute_input": "2024-06-08T08:00:33.141166Z",
     "iopub.status.busy": "2024-06-08T08:00:33.139933Z",
     "iopub.status.idle": "2024-06-08T08:00:33.722450Z",
     "shell.execute_reply": "2024-06-08T08:00:33.720897Z",
     "shell.execute_reply.started": "2024-06-08T08:00:33.141099Z"
    },
    "trusted": true
   },
   "outputs": [
    {
     "data": {
      "image/png": "[encoded data removed]",
      "text/plain": [
       "<Figure size 640x480 with 1 Axes>"
      ]
     },
     "metadata": {},
     "output_type": "display_data"
    },
    {
     "name": "stdout",
     "output_type": "stream",
     "text": [
      "Sharpe ratio:  0.45\n"
     ]
    }
   ],
   "source": [
    "def sharpe_ratio(df, stock1, stock2, entry_threshold=2, exit_threshold=1, riskfree_rate=.04, plot_cum_returns=True):\n",
    "    \"\"\"\n",
    "    Calculate the Sharpe ratio of a pairs trading strategy between two stocks.\n",
    "\n",
    "    Parameters\n",
    "    ----------\n",
    "    df : pandas.DataFrame\n",
    "        DataFrame containing the price series of the two stocks.\n",
    "    stock1 : str\n",
    "        Name of the first stock in the DataFrame.\n",
    "    stock2 : str\n",
    "        Name of the second stock in the DataFrame.\n",
    "    entry_threshold : float, optional\n",
    "        Z-score threshold for entering a trade (default is 2).\n",
    "    exit_threshold : float, optional\n",
    "        Z-score threshold for exiting a trade (default is 1).\n",
    "    riskfree_rate : float, optional\n",
    "        Annualized risk-free rate (default is 0.04).\n",
    "    plot_cum_returns : bool, optional\n",
    "        If True, plot the cumulative returns of the strategy (default is True).\n",
    "\n",
    "    Returns\n",
    "    -------\n",
    "    float\n",
    "        The annualized Sharpe ratio of the pairs trading strategy.\n",
    "\n",
    "    Notes\n",
    "    -----\n",
    "    This function implements a pairs trading strategy by:\n",
    "    1. Estimating the linear relationship between the two stocks using OLS regression.\n",
    "    2. Calculating the spread as the residuals of the regression.\n",
    "    3. Converting the spread to a z-score using a rolling window.\n",
    "    4. Entering a trade when the z-score exceeds the entry threshold and exiting when it falls below the exit threshold.\n",
    "    5. Calculating the annualized Sharpe ratio based on the strategy's returns.\n",
    "\n",
    "    The Sharpe ratio is calculated as:\n",
    "    \\[\n",
    "    \\text{Sharpe Ratio} = \\frac{R_p - R_f}{\\sigma_p}\n",
    "    \\]\n",
    "    where \\( R_p \\) is the annualized return of the strategy, \\( R_f \\) is the risk-free rate, and \\( \\sigma_p \\) is the annualized volatility of the strategy's returns.\n",
    "    \"\"\"\n",
    "    Y = df[stock1]\n",
    "    X = df[stock2]\n",
    "    X_with_constant = sm.add_constant(X)\n",
    "    model_ols = OLS(Y, X_with_constant).fit()  # Estimate linear regression coefficients\n",
    "    spread = Y - model_ols.predict()  # Get the residuals\n",
    "\n",
    "    # Convert to z-score\n",
    "    window_size = 10\n",
    "    spread_pred = spread.rolling(window=window_size)\n",
    "    zscore = (spread - spread_pred.mean()) / spread_pred.std()\n",
    "\n",
    "    # The use of a rolling window makes the first window_size-1 numbers unusable\n",
    "    first_valid_idx = zscore.first_valid_index()\n",
    "    zscore = zscore[first_valid_idx:]\n",
    "\n",
    "    # Initialize the daily positions to be zeros\n",
    "    stock1_position = pd.Series(data=0, index=zscore.index)\n",
    "    stock2_position = pd.Series(data=0, index=zscore.index)\n",
    "\n",
    "    # Set up positions for each day\n",
    "    for i in range(1, len(zscore)):\n",
    "        if zscore.iloc[i] < -entry_threshold and stock1_position.iloc[i-1] == 0:\n",
    "            stock1_position.iloc[i] = 1  # Long stock 1\n",
    "            stock2_position.iloc[i] = -1  # Short stock 2\n",
    "        elif zscore.iloc[i] > entry_threshold and stock2_position.iloc[i-1] == 0:\n",
    "            stock1_position.iloc[i] = -1  # Short stock 1\n",
    "            stock2_position.iloc[i] = 1  # Long stock 2\n",
    "        elif abs(zscore.iloc[i]) < exit_threshold:  # Exit positions\n",
    "            stock1_position.iloc[i] = 0\n",
    "            stock2_position.iloc[i] = 0\n",
    "        else:  # Maintain positions\n",
    "            stock1_position.iloc[i] = stock1_position.iloc[i-1]\n",
    "            stock2_position.iloc[i] = stock2_position.iloc[i-1]\n",
    "\n",
    "    # Calculate returns for each stock\n",
    "    stock1_returns = (Y[first_valid_idx:].pct_change() * stock1_position.shift(1)).fillna(0)\n",
    "    stock2_returns = (X[first_valid_idx:].pct_change() * stock2_position.shift(1)).fillna(0)\n",
    "\n",
    "    # Calculate the total returns of the strategy\n",
    "    total_returns = stock1_returns + stock2_returns\n",
    "\n",
    "    if plot_cum_returns:\n",
    "        cumulative_returns = (1 + total_returns).cumprod()\n",
    "        cumulative_returns.plot(title=f\"{stock1} {stock2}\")\n",
    "        plt.ylabel('Cumulative Returns')\n",
    "        plt.show()\n",
    "\n",
    "    # Calculate annualized return\n",
    "    annualized_return = (1 + total_returns).prod() ** (252 / Y[first_valid_idx:].shape[0]) - 1\n",
    "\n",
    "    # Calculate annualized volatility\n",
    "    annualized_vol = total_returns.std() * (252 ** 0.5)\n",
    "\n",
    "    # Avoid division by zero\n",
    "    if annualized_vol == 0:\n",
    "        annualized_vol = 1e-10  # Small value to avoid division by zero\n",
    "\n",
    "    # Calculate Sharpe ratio\n",
    "    sharpe_ratio_value = (annualized_return - riskfree_rate) / annualized_vol\n",
    "    return sharpe_ratio_value"
   ]
  },
  {
   "cell_type": "markdown",
   "metadata": {},
   "source": [
    "# Optimization\n",
    "Since the initial results are not very satisfactory, we will enhance our algorithm using Bayesian Optimization. Our goal is to find the optimal set of parameters that maximizes profit across multiple backtesting periods to ensure robust performance under various market conditions. Manual parameter selection or grid search can be too time-consuming and computationally expensive, so optimization techniques offer a more efficient alternative by adjusting parameters based on previous results.\n",
    "\n",
    "We define an objective function for which we seek the global maximum. This function acts as a black-box, meaning we can evaluate it for specific inputs but lack knowledge of its mathematical form or derivatives. Bayesian Optimization balances exploration of new parameter spaces with exploitation of promising results, avoiding the risk of getting stuck in local optima.\n",
    "\n",
    "Unlike gradient-based methods, Bayesian Optimization is less likely to converge to local optima. It uses a probabilistic model to represent the unknown function and an acquisition function to determine where to sample next. The optimization process iteratively updates the probabilistic model with new sample points and selects the next sampling location based on this updated model. Given that the objective function can be noisy due to varying backtesting periods, Bayesian Optimization effectively manages the exploration-exploitation trade-off. This is achieved through a Gaussian process (GP) that approximates the black-box function and an acquisition function that encodes the trade-off into a scalar value, guiding the sampling process across all candidates in the domain.\n",
    "\n",
    "\n",
    "* Gaussian Process (GP): Each point of the objective function is treated as a random variable with a normal distribution. By sampling many points, we create a representation of the black-box function. Between two evaluated points, we can define a 95% confidence interval where we are 95% certain that the objective value falls within this range, assuming noise-free and exact observations.\n",
    "\n",
    "* Acquisition Function: The posterior predictive distribution from the updated Gaussian process provides insights into the objective value and associated uncertainty at unexplored locations. This helps the optimization policy quantify the potential of each candidate location. The acquisition function evaluates each candidate location with a scalar score, and the location with the highest score is chosen for the next sample. It considers both the expected value and uncertainty (variance) at unexplored locations as provided by the Gaussian process. Exploration involves sampling in areas of high uncertainty, while exploitation targets areas where the function value is expected to be high. Common acquisition functions include expected improvement and upper confidence bound. Additionally, there are short-term (myopic) and long-term (nonmyopic) trade-offs. A short-term acquisition function focuses solely on the immediate next step, assuming it’s the final chance to sample, and thus aims to maximize immediate utility. In contrast, a long-term acquisition function uses a multistep lookahead approach, simulating potential future developments to maximize long-term utility.\n",
    "\n",
    "We apply Bayesian Optimization to find the optimal entry and exit thresholds. For simplicity, we calculate the Sharpe ratio once for a single backtesting period. To reduce observational noise, a more robust approach would be to test over multiple representative backtesting periods and average the Sharpe ratios."
   ]
  },
  {
   "cell_type": "code",
   "execution_count": 9,
   "metadata": {
    "execution": {
     "iopub.execute_input": "2024-06-08T08:00:33.724363Z",
     "iopub.status.busy": "2024-06-08T08:00:33.724013Z",
     "iopub.status.idle": "2024-06-08T08:00:33.737443Z",
     "shell.execute_reply": "2024-06-08T08:00:33.736027Z",
     "shell.execute_reply.started": "2024-06-08T08:00:33.724334Z"
    },
    "trusted": true
   },
   "outputs": [
    {
     "data": {
      "text/plain": [
       "<torch._C.Generator at 0x79cab8aaf190>"
      ]
     },
     "execution_count": 9,
     "metadata": {},
     "output_type": "execute_result"
    }
   ],
   "source": [
    "SEED = 1\n",
    "random.seed(SEED)\n",
    "np.random.seed(SEED)\n",
    "torch.manual_seed(SEED)"
   ]
  },
  {
   "cell_type": "markdown",
   "metadata": {},
   "source": [
    "Our objective function will be the Sharpe ratio so we create a class for calculating the Sharpe ratio given the entry and exit thresholds (the parameters we want to optimize)."
   ]
  },
  {
   "cell_type": "code",
   "execution_count": 10,
   "metadata": {
    "execution": {
     "iopub.execute_input": "2024-06-08T08:00:33.743547Z",
     "iopub.status.busy": "2024-06-08T08:00:33.743041Z",
     "iopub.status.idle": "2024-06-08T08:00:33.754504Z",
     "shell.execute_reply": "2024-06-08T08:00:33.753058Z",
     "shell.execute_reply.started": "2024-06-08T08:00:33.743511Z"
    },
    "trusted": true
   },
   "outputs": [],
   "source": [
    "class QTS_OPTIMIZER(nn.Module):\n",
    "    def __init__(self, ticker_pair, df, function_to_maximize, model_type=None):\n",
    "        super(QTS_OPTIMIZER, self).__init__()\n",
    "        self.ticker_pair=ticker_pair\n",
    "        self.df=df\n",
    "        self.function_to_maximize = function_to_maximize\n",
    "        self.model_type= model_type\n",
    "    \n",
    "    #function to calculate Sharpe ratio\n",
    "    def forward(self, entry_threshold, exit_threshold):\n",
    "        if self.model_type==None:\n",
    "            return self.function_to_maximize(self.df, self.ticker_pair[0], self.ticker_pair[1], entry_threshold, exit_threshold, plot_cum_returns=False)\n",
    "        else:\n",
    "            return self.function_to_maximize(self.df, self.ticker_pair[0], self.ticker_pair[1], entry_threshold, exit_threshold, plot_cum_returns=False, model_type=self.model_type)"
   ]
  },
  {
   "cell_type": "code",
   "execution_count": 11,
   "metadata": {
    "execution": {
     "iopub.execute_input": "2024-06-08T08:00:33.756829Z",
     "iopub.status.busy": "2024-06-08T08:00:33.756384Z",
     "iopub.status.idle": "2024-06-08T08:00:33.771637Z",
     "shell.execute_reply": "2024-06-08T08:00:33.770225Z",
     "shell.execute_reply.started": "2024-06-08T08:00:33.756796Z"
    },
    "trusted": true
   },
   "outputs": [],
   "source": [
    "qts = QTS_OPTIMIZER([stock1, stock2], df, sharpe_ratio)"
   ]
  },
  {
   "cell_type": "markdown",
   "metadata": {},
   "source": [
    "Bayesian optimization model works as a machine learning model in the sense that it fine-tunes its weights from a training dataset to match the input distribution. Therefore, we create a training dataset for entry and exit thresholds and their corresponding Sharpe ratio. This is done in the `generate_initial_data` function."
   ]
  },
  {
   "cell_type": "code",
   "execution_count": null,
   "metadata": {
    "execution": {
     "iopub.execute_input": "2024-06-08T08:00:33.774581Z",
     "iopub.status.busy": "2024-06-08T08:00:33.773866Z",
     "iopub.status.idle": "2024-06-08T08:00:33.789418Z",
     "shell.execute_reply": "2024-06-08T08:00:33.787771Z",
     "shell.execute_reply.started": "2024-06-08T08:00:33.774535Z"
    },
    "trusted": true
   },
   "outputs": [],
   "source": [
    "# set up useful variables\n",
    "device = torch.device(\"cuda\" if torch.cuda.is_available() else \"cpu\")\n",
    "dtype = torch.double\n",
    "entry_bounds = [0,4] # bounds for the entry threshold\n",
    "exit_bounds = [0,3.5] # bounds for the exit threshold\n",
    "\n",
    "def generate_initial_data(n=10):\n",
    "    \"\"\"\n",
    "    Generate an initial training dataset for optimization of pairs trading thresholds.\n",
    "\n",
    "    Parameters\n",
    "    ----------\n",
    "    n : int, optional\n",
    "        Number of training points to generate (default is 10).\n",
    "\n",
    "    Returns\n",
    "    -------\n",
    "    train_x : torch.Tensor\n",
    "        Tensor of shape (n, 2) containing the entry and exit thresholds.\n",
    "        Each row is a pair of (entry_threshold, exit_threshold).\n",
    "    train_y : torch.Tensor\n",
    "        Tensor of shape (n, 1) containing the Sharpe ratios corresponding to each pair of thresholds.\n",
    "    best_observed_value : float\n",
    "        The maximum Sharpe ratio observed in the generated dataset.\n",
    "\n",
    "    Notes\n",
    "    -----\n",
    "    - The entry and exit thresholds are linearly spaced within their respective bounds.\n",
    "    - The Sharpe ratios are computed using the `qts` function for each pair of thresholds.\n",
    "    - The function returns tensors on the specified device and with the specified dtype.\n",
    "    - This dataset is intended for use in Bayesian optimization or other optimization algorithms.\n",
    "    \"\"\"\n",
    "    # Generate locations randomly distributed within the bounds\n",
    "    #train_x1 = entry_bounds[0] + (entry_bounds[1] - entry_bounds[0]) * torch.rand(size=(n,1), device=device, dtype=dtype)\n",
    "    #train_x2 = exit_bounds[0] + (exit_bounds[1] - exit_bounds[0]) * torch.rand(size=(n,1), device=device, dtype=dtype)\n",
    "    \n",
    "    # Generate locations linearly distributed within the bounds\n",
    "    train_x1 = torch.tensor(\n",
    "        np.linspace(entry_bounds[0], entry_bounds[1], n).reshape(n, 1),\n",
    "        dtype=dtype,\n",
    "        device=device\n",
    "    )\n",
    "    train_x2 = torch.tensor(\n",
    "        np.linspace(exit_bounds[0], exit_bounds[1], n).reshape(n, 1),\n",
    "        dtype=dtype,\n",
    "        device=device\n",
    "    )\n",
    "    train_x = torch.cat((train_x1, train_x2), 1)\n",
    "\n",
    "    # Obtain the exact value of the objective function and add output dimension\n",
    "    train_y = []\n",
    "    for i in range(len(train_x)):\n",
    "        train_y.append(qts(entry_threshold=train_x1[i], exit_threshold=train_x2[i]))\n",
    "    train_y = torch.Tensor(train_y).to(dtype).unsqueeze(-1)  # train_y stores the Sharpe ratios\n",
    "\n",
    "    # Get the current best observed value, i.e., utility of the available dataset\n",
    "    best_observed_value = train_y.max().item()\n",
    "    return train_x, train_y, best_observed_value\n"
   ]
  },
  {
   "cell_type": "code",
   "execution_count": 13,
   "metadata": {
    "execution": {
     "iopub.execute_input": "2024-06-08T08:00:33.791797Z",
     "iopub.status.busy": "2024-06-08T08:00:33.791293Z",
     "iopub.status.idle": "2024-06-08T08:00:34.935448Z",
     "shell.execute_reply": "2024-06-08T08:00:34.934078Z",
     "shell.execute_reply.started": "2024-06-08T08:00:33.791753Z"
    },
    "trusted": true
   },
   "outputs": [],
   "source": [
    "train_x, train_y, best_observed_value = generate_initial_data()"
   ]
  },
  {
   "cell_type": "markdown",
   "metadata": {
    "execution": {
     "iopub.execute_input": "2024-05-26T10:29:20.163357Z",
     "iopub.status.busy": "2024-05-26T10:29:20.162701Z",
     "iopub.status.idle": "2024-05-26T10:29:20.205903Z",
     "shell.execute_reply": "2024-05-26T10:29:20.204365Z",
     "shell.execute_reply.started": "2024-05-26T10:29:20.163308Z"
    }
   },
   "source": [
    "As previously noted, we can use this training set to optimize the hyperparameters of the Gaussian Process (GP) model to better fit the data. A GP model relies on several hyperparameters during initialization, such as the length scale. Since different GP models come with various hyperparameters, we will use the default settings provided by BoTorch."
   ]
  },
  {
   "cell_type": "code",
   "execution_count": null,
   "metadata": {
    "execution": {
     "iopub.execute_input": "2024-06-08T08:00:34.937881Z",
     "iopub.status.busy": "2024-06-08T08:00:34.937415Z",
     "iopub.status.idle": "2024-06-08T08:00:35.003308Z",
     "shell.execute_reply": "2024-06-08T08:00:35.000627Z",
     "shell.execute_reply.started": "2024-06-08T08:00:34.937843Z"
    },
    "trusted": true
   },
   "outputs": [],
   "source": [
    "def initialize_model(train_x, train_y):\n",
    "    \"\"\"\n",
    "    Initialize a single-task Gaussian Process (GP) model for Bayesian optimization.\n",
    "\n",
    "    Parameters\n",
    "    ----------\n",
    "    train_x : torch.Tensor\n",
    "        Input training data of shape (n, d), where `n` is the number of training points\n",
    "        and `d` is the dimensionality of the input space.\n",
    "    train_y : torch.Tensor\n",
    "        Output training data of shape (n, 1), representing the observed values\n",
    "        corresponding to the input data.\n",
    "\n",
    "    Returns\n",
    "    -------\n",
    "    mll : ExactMarginalLogLikelihood\n",
    "        The exact marginal log-likelihood object for the GP model.\n",
    "    model : SingleTaskGP\n",
    "        The initialized single-task Gaussian Process model.\n",
    "\n",
    "    Notes\n",
    "    -----\n",
    "    - The model uses a Matern kernel and a constant mean function by default.\n",
    "    - This function is typically used as part of a Bayesian optimization pipeline.\n",
    "    - The returned `mll` object is used for training the model via maximum likelihood estimation.\n",
    "    \"\"\"\n",
    "    # Create a single-task exact GP model instance\n",
    "    model = SingleTaskGP(train_X=train_x, train_Y=train_y)\n",
    "    mll = ExactMarginalLogLikelihood(model.likelihood, model)\n",
    "    return mll, model"
   ]
  },
  {
   "cell_type": "markdown",
   "metadata": {},
   "source": [
    "We create a function to initialize different models and MLLs. We define a training set for each model because it will be useful in the future."
   ]
  },
  {
   "cell_type": "code",
   "execution_count": null,
   "metadata": {
    "execution": {
     "iopub.execute_input": "2024-06-08T08:00:35.192818Z",
     "iopub.status.busy": "2024-06-08T08:00:35.192417Z",
     "iopub.status.idle": "2024-06-08T08:00:36.349395Z",
     "shell.execute_reply": "2024-06-08T08:00:36.348121Z",
     "shell.execute_reply.started": "2024-06-08T08:00:35.192786Z"
    },
    "trusted": true
   },
   "outputs": [],
   "source": [
    "beta=.8\n",
    "num_fantasies=64\n",
    "\n",
    "def initialize_model_and_mll(n=10):\n",
    "    \"\"\"\n",
    "    Initialize Gaussian Process (GP) models and acquisition functions for Bayesian optimization.\n",
    "\n",
    "    This function initializes models and acquisition functions for Expected Improvement (EI),\n",
    "    q-Expected Improvement (qEI), Upper Confidence Bound (UCB), and q-Knowledge Gradient (qKG).\n",
    "\n",
    "    Parameters\n",
    "    ----------\n",
    "    n : int, optional\n",
    "        Number of initial training points to generate (default is 10).\n",
    "\n",
    "    Returns\n",
    "    -------\n",
    "    train_x_ei : torch.Tensor\n",
    "        Input training data for the EI model.\n",
    "    train_y_ei : torch.Tensor\n",
    "        Output training data for the EI model.\n",
    "    train_x_qei : torch.Tensor\n",
    "        Input training data for the qEI model.\n",
    "    train_y_qei : torch.Tensor\n",
    "        Output training data for the qEI model.\n",
    "    train_x_ucb : torch.Tensor\n",
    "        Input training data for the UCB model.\n",
    "    train_y_ucb : torch.Tensor\n",
    "        Output training data for the UCB model.\n",
    "    train_x_qkg : torch.Tensor\n",
    "        Input training data for the qKG model.\n",
    "    train_y_qkg : torch.Tensor\n",
    "        Output training data for the qKG model.\n",
    "    best_observed_value : float\n",
    "        The maximum observed value in the initial training data.\n",
    "    mll_ei : ExactMarginalLogLikelihood\n",
    "        Marginal log-likelihood for the EI model.\n",
    "    model_ei : SingleTaskGP\n",
    "        Gaussian Process model for EI.\n",
    "    mll_qei : ExactMarginalLogLikelihood\n",
    "        Marginal log-likelihood for the qEI model.\n",
    "    model_qei : SingleTaskGP\n",
    "        Gaussian Process model for qEI.\n",
    "    mll_ucb : ExactMarginalLogLikelihood\n",
    "        Marginal log-likelihood for the UCB model.\n",
    "    model_ucb : SingleTaskGP\n",
    "        Gaussian Process model for UCB.\n",
    "    mll_qkg : ExactMarginalLogLikelihood\n",
    "        Marginal log-likelihood for the qKG model.\n",
    "    model_qkg : SingleTaskGP\n",
    "        Gaussian Process model for qKG.\n",
    "    EI : ExpectedImprovement\n",
    "        Expected Improvement acquisition function.\n",
    "    qEI : qExpectedImprovement\n",
    "        q-Expected Improvement acquisition function.\n",
    "    UCB : UpperConfidenceBound\n",
    "        Upper Confidence Bound acquisition function.\n",
    "    qKG : qKnowledgeGradient\n",
    "        q-Knowledge Gradient acquisition function.\n",
    "\n",
    "    Notes\n",
    "    -----\n",
    "    - This function initializes four GP models, each with the same initial training data.\n",
    "    - The acquisition functions are initialized with the best observed value from the initial data.\n",
    "    - The UCB acquisition function uses a `beta` parameter, and the qKG acquisition function uses a `num_fantasies` parameter.\n",
    "    - This function is typically used to set up the initial state for Bayesian optimization with multiple acquisition functions.\n",
    "    \"\"\"\n",
    "    train_x, train_y, best_observed_value = generate_initial_data(n)\n",
    "    train_x_ei, train_x_qei, train_x_ucb, train_x_qkg = train_x, train_x, train_x, train_x\n",
    "    train_y_ei, train_y_qei, train_y_ucb, train_y_qkg = train_y, train_y, train_y, train_y\n",
    "\n",
    "    mll_ei, model_ei = initialize_model(train_x_ei, train_y_ei)\n",
    "    mll_qei, model_qei = initialize_model(train_x_qei, train_y_qei)\n",
    "    mll_ucb, model_ucb = initialize_model(train_x_ucb, train_y_ucb)\n",
    "    mll_qkg, model_qkg = initialize_model(train_x_qkg, train_y_qkg)\n",
    "\n",
    "    EI = ExpectedImprovement(model=model_ei, best_f=best_observed_value)\n",
    "    qEI = qExpectedImprovement(model=model_qei, best_f=best_observed_value)\n",
    "    UCB = UpperConfidenceBound(model=model_ucb, beta=beta)\n",
    "    qKG = qKnowledgeGradient(model=model_qkg, num_fantasies=num_fantasies)\n",
    "\n",
    "    return (\n",
    "        train_x_ei, train_y_ei, train_x_qei, train_y_qei, train_x_ucb, train_y_ucb,\n",
    "        train_x_qkg, train_y_qkg, best_observed_value, mll_ei, model_ei, mll_qei,\n",
    "        model_qei, mll_ucb, model_ucb, mll_qkg, model_qkg, EI, qEI, UCB, qKG\n",
    "    )\n",
    "\n",
    "train_x_ei, train_y_ei, train_x_qei, train_y_qei, train_x_ucb, train_y_ucb, train_x_qkg, train_y_qkg, best_observed_value, mll_ei, model_ei, mll_qei, model_qei, mll_ucb, model_ucb, mll_qkg, model_qkg, EI, qEI, UCB, qKG = initialize_model_and_mll()"
   ]
  },
  {
   "cell_type": "markdown",
   "metadata": {},
   "source": [
    "The acquisition function determines the next parameter value to sample by maximizing the function itself. The `optimize_acqf()` function from the `botorch.optim` module handles the search for this maximum value within the defined domain. The new parameter value and its associated score from the objective function are then used as additional training data to refine the GP model and acquisition function for the next iteration."
   ]
  },
  {
   "cell_type": "code",
   "execution_count": null,
   "metadata": {
    "execution": {
     "iopub.execute_input": "2024-06-08T08:00:36.351358Z",
     "iopub.status.busy": "2024-06-08T08:00:36.350928Z",
     "iopub.status.idle": "2024-06-08T08:00:36.362351Z",
     "shell.execute_reply": "2024-06-08T08:00:36.360653Z",
     "shell.execute_reply.started": "2024-06-08T08:00:36.351317Z"
    },
    "trusted": true
   },
   "outputs": [],
   "source": [
    "# optimize and get new observation\n",
    "\n",
    "bounds = torch.tensor([[entry_bounds[0], exit_bounds[0]], [entry_bounds[1], exit_bounds[1]]], device=device, dtype=dtype)\n",
    "BATCH_SIZE = 1 # parallel candidate locations generated in each iteration\n",
    "NUM_RESTARTS = 10 # number of starting points for multistart optimization\n",
    "RAW_SAMPLES = 1024 # number of samples for initialization\n",
    "\n",
    "def optimize_acqf_and_get_observation(acq_func):\n",
    "    \"\"\"Optimize an acquisition function and observe new values for the optimization process.\n",
    "\n",
    "    Parameters\n",
    "    ----------\n",
    "    acq_func : callable\n",
    "        Acquisition function to optimize.\n",
    "\n",
    "    Returns\n",
    "    -------\n",
    "    tuple\n",
    "        new_x : torch.Tensor\n",
    "            Optimized candidate points (entry and exit thresholds).\n",
    "        new_y : torch.Tensor\n",
    "            Observed value for the optimized candidate points.\n",
    "    \"\"\"\n",
    "    # optimize\n",
    "    candidates, value = optimize_acqf(\n",
    "        acq_function=acq_func,\n",
    "        bounds=bounds,\n",
    "        q=BATCH_SIZE,\n",
    "        num_restarts=NUM_RESTARTS,\n",
    "        raw_samples=RAW_SAMPLES,  # used for initialization heuristic\n",
    "    )\n",
    "    # observe new values\n",
    "    new_x = candidates.detach()\n",
    "    # sample output value\n",
    "    new_y = qts(entry_threshold=new_x.squeeze()[0].item(), exit_threshold=new_x.squeeze()[1].item())\n",
    "    # add output dimension\n",
    "    new_y = torch.Tensor([new_y]).to(dtype).unsqueeze(-1)\n",
    "    return new_x, new_y"
   ]
  },
  {
   "cell_type": "markdown",
   "metadata": {},
   "source": [
    "We create a random search strategy that will serve as a baseline for comparison."
   ]
  },
  {
   "cell_type": "code",
   "execution_count": null,
   "metadata": {
    "execution": {
     "iopub.execute_input": "2024-06-08T08:00:36.364215Z",
     "iopub.status.busy": "2024-06-08T08:00:36.363798Z",
     "iopub.status.idle": "2024-06-08T08:00:36.381421Z",
     "shell.execute_reply": "2024-06-08T08:00:36.379894Z",
     "shell.execute_reply.started": "2024-06-08T08:00:36.364184Z"
    },
    "trusted": true
   },
   "outputs": [],
   "source": [
    "def update_random_observations(best_random, n):\n",
    "    \"\"\"Simulate a random policy by drawing new random points, observing their values, and updating the best observed value.\n",
    "\n",
    "    Parameters\n",
    "    ----------\n",
    "    best_random : list\n",
    "        List tracking the best observed value so far.\n",
    "    n : int\n",
    "        Number of random points to generate and evaluate.\n",
    "\n",
    "    Returns\n",
    "    -------\n",
    "    list\n",
    "        Updated list of the best observed values, including the new maximum if applicable.\n",
    "    \"\"\"\n",
    "    # generate random points\n",
    "    new_x1 = entry_bounds[0] + (entry_bounds[1] - entry_bounds[0]) * torch.rand(size=(n,1), device=device, dtype=dtype)\n",
    "    new_x2 = exit_bounds[0] + (exit_bounds[1] - exit_bounds[0]) * torch.rand(size=(n,1), device=device, dtype=dtype)\n",
    "    new_x = torch.cat((new_x1, new_x2), 1)\n",
    "    # observe new values\n",
    "    new_y = qts(entry_threshold=new_x[0,0].item(), exit_threshold=new_x[0,1].item())\n",
    "    # update the best observed value after observing the new values\n",
    "    best_random.append(max(best_random[-1], new_y))\n",
    "    return best_random"
   ]
  },
  {
   "cell_type": "markdown",
   "metadata": {},
   "source": [
    "We create a function to perform the optimization on several models."
   ]
  },
  {
   "cell_type": "code",
   "execution_count": null,
   "metadata": {
    "execution": {
     "iopub.execute_input": "2024-06-08T08:00:36.383464Z",
     "iopub.status.busy": "2024-06-08T08:00:36.383080Z",
     "iopub.status.idle": "2024-06-08T08:00:36.405226Z",
     "shell.execute_reply": "2024-06-08T08:00:36.403942Z",
     "shell.execute_reply.started": "2024-06-08T08:00:36.383433Z"
    },
    "trusted": true
   },
   "outputs": [],
   "source": [
    "def optimization(best_observed_value, train_x_ei, train_y_ei, train_x_qei, train_y_qei, train_x_ucb, train_y_ucb, train_x_qkg, train_y_qkg, mll_ei, model_ei, mll_qei, model_qei, mll_ucb, model_ucb, mll_qkg, model_qkg, N_ROUND, n=10):\n",
    "    \"\"\"Run the Bayesian optimization loop for multiple acquisition functions and track the best observed values.\n",
    "\n",
    "    Parameters\n",
    "    ----------\n",
    "    best_observed_value : float\n",
    "        Initial best observed value to start the optimization.\n",
    "    train_x_ei : torch.Tensor\n",
    "        Training inputs for Expected Improvement (EI).\n",
    "    train_y_ei : torch.Tensor\n",
    "        Training outputs for Expected Improvement (EI).\n",
    "    train_x_qei : torch.Tensor\n",
    "        Training inputs for q-Expected Improvement (qEI).\n",
    "    train_y_qei : torch.Tensor\n",
    "        Training outputs for q-Expected Improvement (qEI).\n",
    "    train_x_ucb : torch.Tensor\n",
    "        Training inputs for Upper Confidence Bound (UCB).\n",
    "    train_y_ucb : torch.Tensor\n",
    "        Training outputs for Upper Confidence Bound (UCB).\n",
    "    train_x_qkg : torch.Tensor\n",
    "        Training inputs for q-Knowledge Gradient (qKG).\n",
    "    train_y_qkg : torch.Tensor\n",
    "        Training outputs for q-Knowledge Gradient (qKG).\n",
    "    mll_ei : gpytorch.mlls.MarginalLogLikelihood\n",
    "        Marginal log-likelihood for EI model.\n",
    "    model_ei : gpytorch.models.ExactGP\n",
    "        GP model for EI.\n",
    "    mll_qei : gpytorch.mlls.MarginalLogLikelihood\n",
    "        Marginal log-likelihood for qEI model.\n",
    "    model_qei : gpytorch.models.ExactGP\n",
    "        GP model for qEI.\n",
    "    mll_ucb : gpytorch.mlls.MarginalLogLikelihood\n",
    "        Marginal log-likelihood for UCB model.\n",
    "    model_ucb : gpytorch.models.ExactGP\n",
    "        GP model for UCB.\n",
    "    mll_qkg : gpytorch.mlls.MarginalLogLikelihood\n",
    "        Marginal log-likelihood for qKG model.\n",
    "    model_qkg : gpytorch.models.ExactGP\n",
    "        GP model for qKG.\n",
    "    N_ROUND : int\n",
    "        Number of optimization rounds to perform.\n",
    "    n : int, optional\n",
    "        Number of random points to generate for the random policy (default is 10).\n",
    "\n",
    "    Returns\n",
    "    -------\n",
    "    tuple\n",
    "        best_random : list\n",
    "            Best observed values for the random policy.\n",
    "        best_observed_ei : list\n",
    "            Best observed values for EI.\n",
    "        best_observed_qei : list\n",
    "            Best observed values for qEI.\n",
    "        best_observed_ucb : list\n",
    "            Best observed values for UCB.\n",
    "        best_observed_qkg : list\n",
    "            Best observed values for qKG.\n",
    "        best_observed : float\n",
    "            Overall best observed value across all acquisition functions.\n",
    "        best_parameters : torch.Tensor\n",
    "            Parameters corresponding to the overall best observed value.\n",
    "    \"\"\"\n",
    "    # Initialize the best values\n",
    "    best_random, best_observed_ei, best_observed_qei, best_observed_ucb, best_observed_qkg = [best_observed_value], [best_observed_value], [best_observed_value], [best_observed_value], [best_observed_value]\n",
    "    # Run N_ROUND rounds of bayesian optimization after the initial random batch\n",
    "    for iteration in range(1, N_ROUND + 1):\n",
    "        # Fit GP models to optimize their hyperparameters\n",
    "        fit_gpytorch_mll(mll_ei)\n",
    "        fit_gpytorch_mll(mll_qei)\n",
    "        fit_gpytorch_mll(mll_ucb)\n",
    "        fit_gpytorch_mll(mll_qkg)\n",
    "\n",
    "        # Instantiate acquisition functions based on the updated GP model instance\n",
    "        EI = ExpectedImprovement(model=model_ei,best_f=train_y_ei.max())    # best_f is the best function value observed sor far\n",
    "        qEI = qExpectedImprovement(model=model_qei, best_f=train_y_qei.max())\n",
    "        UCB = UpperConfidenceBound(model=model_ucb,beta=beta)\n",
    "        qKG = qKnowledgeGradient(model=model_qkg, num_fantasies=num_fantasies, objective=None)\n",
    "\n",
    "        # Optimize and get new observation\n",
    "        new_x_ei, new_y_ei = optimize_acqf_and_get_observation(EI)\n",
    "        new_x_qei, new_y_qei = optimize_acqf_and_get_observation(qEI)\n",
    "        new_x_ucb, new_y_ucb = optimize_acqf_and_get_observation(UCB)\n",
    "        new_x_qkg, new_y_qkg = optimize_acqf_and_get_observation(qKG)\n",
    "\n",
    "        # Update training points\n",
    "        train_x_ei = torch.cat([train_x_ei, new_x_ei], dim=0)\n",
    "        train_x_qei = torch.cat([train_x_qei, new_x_qei], dim=0)\n",
    "        train_x_ucb = torch.cat([train_x_ucb, new_x_ucb], dim=0)\n",
    "        train_x_qkg = torch.cat([train_x_qkg, new_x_qkg], dim=0)\n",
    "        train_y_ei = torch.cat([train_y_ei, new_y_ei], dim=0)\n",
    "        train_y_qei = torch.cat([train_y_qei, new_y_qei], dim=0)\n",
    "        train_y_ucb = torch.cat([train_y_ucb, new_y_ucb], dim=0)\n",
    "        train_y_qkg = torch.cat([train_y_qkg, new_y_qkg], dim=0)\n",
    "\n",
    "        # Update progress\n",
    "        best_random = update_random_observations(best_random, n)\n",
    "        best_value_ei = max(best_observed_ei[-1], new_y_ei.item())\n",
    "        best_value_qei = max(best_observed_qei[-1], new_y_qei.item())\n",
    "        best_value_ucb = max(best_observed_ucb[-1], new_y_ucb.item())\n",
    "        best_value_qkg = max(best_observed_qkg[-1], new_y_qkg.item())\n",
    "        best_observed_ei.append(best_value_ei)\n",
    "        best_observed_qei.append(best_value_qei)\n",
    "        best_observed_ucb.append(best_value_ucb)\n",
    "        best_observed_qkg.append(best_value_qkg)\n",
    "\n",
    "        # Reinitialize the models so they are ready for fitting on next iteration\n",
    "        mll_ei, model_ei = initialize_model(train_x_ei,train_y_ei)\n",
    "        mll_qei, model_qei = initialize_model(train_x_qei,train_y_qei)\n",
    "        mll_ucb, model_ucb = initialize_model(train_x_ucb,train_y_ucb)\n",
    "        mll_qkg, model_qkg = initialize_model(train_x_qkg,train_y_qkg)\n",
    "        \n",
    "    # Get the best observed value and the best parameter\n",
    "    best_observed_all=np.array(best_observed_ei+best_observed_qei+best_observed_ucb+best_observed_qkg)\n",
    "    parameters_all = torch.cat([train_x_ei, train_x_qei, train_x_ucb, train_x_qkg], dim=0)\n",
    "    index_max = best_observed_all.argmax()\n",
    "    best_observed = best_observed_all[index_max]\n",
    "    best_parameters = parameters_all[index_max]\n",
    "        \n",
    "    return best_random, best_observed_ei, best_observed_qei, best_observed_ucb, best_observed_qkg, best_observed, best_parameters"
   ]
  },
  {
   "cell_type": "markdown",
   "metadata": {},
   "source": [
    "We run several times our optimization function to enhance the performance."
   ]
  },
  {
   "cell_type": "code",
   "execution_count": 20,
   "metadata": {
    "execution": {
     "iopub.execute_input": "2024-06-08T08:00:36.408661Z",
     "iopub.status.busy": "2024-06-08T08:00:36.407320Z",
     "iopub.status.idle": "2024-06-08T08:02:28.783101Z",
     "shell.execute_reply": "2024-06-08T08:02:28.781839Z",
     "shell.execute_reply.started": "2024-06-08T08:00:36.408616Z"
    },
    "trusted": true
   },
   "outputs": [],
   "source": [
    "# number of runs to assess standard deviations of different BO loops\n",
    "N_TRIALS = 2\n",
    "# number of steps in the outer BO loop\n",
    "N_ROUND = 2\n",
    "best_random_all, best_observed_ei_all, best_observed_qei_all, best_observed_ucb_all, best_observed_qkg_all = [], [], [], [], []\n",
    "overall_best=-1\n",
    "overall_best_parameters=[]\n",
    "\n",
    "# average over multiple trials\n",
    "for trial in range(1, N_TRIALS + 1):    \n",
    "    train_x_ei, train_y_ei, train_x_qei, train_y_qei, train_x_ucb, train_y_ucb, train_x_qkg, train_y_qkg, best_observed_value, mll_ei, model_ei, mll_qei, model_qei, mll_ucb, model_ucb, mll_qkg, model_qkg, EI, qEI, UCB, qKG = initialize_model_and_mll()\n",
    "    \n",
    "    # run N_ROUND rounds of bayesian optimization after the initial random batch\n",
    "    best_random, best_observed_ei, best_observed_qei, best_observed_ucb, best_observed_qkg, best_observed, best_parameters = optimization(best_observed_value, train_x_ei, train_y_ei, train_x_qei, train_y_qei, train_x_ucb, train_y_ucb, train_x_qkg, train_y_qkg, mll_ei, model_ei, mll_qei, model_qei, mll_ucb, model_ucb, mll_qkg, model_qkg, N_ROUND)\n",
    "            \n",
    "    best_observed_ei_all.append(best_observed_ei)\n",
    "    best_observed_qei_all.append(best_observed_qei)\n",
    "    best_observed_ucb_all.append(best_observed_ucb)\n",
    "    best_observed_qkg_all.append(best_observed_qkg)\n",
    "    best_random_all.append(best_random)\n",
    "    \n",
    "    # get the best observed value and the best parameter\n",
    "    if(best_observed>overall_best):\n",
    "        overall_best=best_observed\n",
    "        overall_best_parameters=best_parameters"
   ]
  },
  {
   "cell_type": "code",
   "execution_count": 21,
   "metadata": {
    "execution": {
     "iopub.execute_input": "2024-06-08T08:02:28.785526Z",
     "iopub.status.busy": "2024-06-08T08:02:28.785040Z",
     "iopub.status.idle": "2024-06-08T08:02:28.796360Z",
     "shell.execute_reply": "2024-06-08T08:02:28.794726Z",
     "shell.execute_reply.started": "2024-06-08T08:02:28.785480Z"
    },
    "trusted": true
   },
   "outputs": [
    {
     "data": {
      "text/plain": [
       "tensor([0.6780, 0.5320], dtype=torch.float64)"
      ]
     },
     "execution_count": 21,
     "metadata": {},
     "output_type": "execute_result"
    }
   ],
   "source": [
    "overall_best_parameters"
   ]
  },
  {
   "cell_type": "markdown",
   "metadata": {},
   "source": [
    "We put the obtained parameters in the `sharpe_ratio` function."
   ]
  },
  {
   "cell_type": "code",
   "execution_count": 25,
   "metadata": {
    "execution": {
     "iopub.execute_input": "2024-06-08T08:02:46.362082Z",
     "iopub.status.busy": "2024-06-08T08:02:46.360943Z",
     "iopub.status.idle": "2024-06-08T08:02:46.909398Z",
     "shell.execute_reply": "2024-06-08T08:02:46.907947Z",
     "shell.execute_reply.started": "2024-06-08T08:02:46.362045Z"
    },
    "trusted": true
   },
   "outputs": [
    {
     "data": {
      "image/png": "[encoded data removed]",
      "text/plain": [
       "<Figure size 640x480 with 1 Axes>"
      ]
     },
     "metadata": {},
     "output_type": "display_data"
    },
    {
     "data": {
      "text/plain": [
       "1.7142823867216634"
      ]
     },
     "execution_count": 25,
     "metadata": {},
     "output_type": "execute_result"
    }
   ],
   "source": [
    "sharpe_ratio(df, stock1, stock2, entry_threshold=overall_best_parameters[0], exit_threshold=overall_best_parameters[1])"
   ]
  },
  {
   "cell_type": "markdown",
   "metadata": {},
   "source": [
    "We see that the performance of the strategy has greatly improved. As a reminder, the cumulative return for the strategy before optimization was between 1.20 and 1.25 and the Sharpe ration at 0.45."
   ]
  },
  {
   "cell_type": "markdown",
   "metadata": {},
   "source": [
    "## References\n",
    "This notebook is based on the work of Peng Liu in the chapter 8 of his book: Quantitative Trading Strategies Using Python."
   ]
  }
 ],
 "metadata": {
  "kaggle": {
   "accelerator": "none",
   "dataSources": [],
   "dockerImageVersionId": 30715,
   "isGpuEnabled": false,
   "isInternetEnabled": true,
   "language": "python",
   "sourceType": "notebook"
  },
  "kernelspec": {
   "display_name": "Python 3",
   "language": "python",
   "name": "python3"
  },
  "language_info": {
   "codemirror_mode": {
    "name": "ipython",
    "version": 3
   },
   "file_extension": ".py",
   "mimetype": "text/x-python",
   "name": "python",
   "nbconvert_exporter": "python",
   "pygments_lexer": "ipython3",
   "version": "3.12.3"
  }
 },
 "nbformat": 4,
 "nbformat_minor": 4
}
