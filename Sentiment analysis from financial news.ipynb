{
 "cells": [
  {
   "cell_type": "markdown",
   "metadata": {},
   "source": [
    "# Requirements and imports"
   ]
  },
  {
   "cell_type": "markdown",
   "metadata": {},
   "source": [
    "```\n",
    "pip install requests beautifulsoup4 pandas textblob vaderSentiment transformers torch plotly WordCloud matplotlib datetime\n",
    "```"
   ]
  },
  {
   "cell_type": "code",
   "execution_count": 2,
   "metadata": {},
   "outputs": [
    {
     "name": "stderr",
     "output_type": "stream",
     "text": [
      "/home/yohann/miniconda3/lib/python3.12/site-packages/tqdm/auto.py:21: TqdmWarning: IProgress not found. Please update jupyter and ipywidgets. See https://ipywidgets.readthedocs.io/en/stable/user_install.html\n",
      "  from .autonotebook import tqdm as notebook_tqdm\n"
     ]
    }
   ],
   "source": [
    "import requests\n",
    "from bs4 import BeautifulSoup\n",
    "import pandas as pd\n",
    "import plotly.express as px\n",
    "from transformers import pipeline\n",
    "from wordcloud import WordCloud\n",
    "import matplotlib.pyplot as plt\n",
    "from datetime import datetime\n",
    "import yfinance as yf\n",
    "import numpy as np\n",
    "\n",
    "tickers_stocks = ['AAPL', 'GOOGL', 'AMZN', 'MSFT', 'TSLA']\n",
    "tickers = ['BTCUSD', 'ETHUSD']"
   ]
  },
  {
   "cell_type": "markdown",
   "metadata": {},
   "source": [
    "I have decided to work with cryptocurrencies to have continuous data for both price and news. We can do the same work with stocks but we would have to decide how to handle news coming out of market hours (which may represent a significant portion of the news)."
   ]
  },
  {
   "cell_type": "markdown",
   "metadata": {},
   "source": [
    "# Data Collection"
   ]
  },
  {
   "cell_type": "code",
   "execution_count": 46,
   "metadata": {},
   "outputs": [],
   "source": [
    "def scrap_google_news(ticker, nb_news):\n",
    "    url = f'https://news.google.com/rss/search?q={ticker}'\n",
    "    response = requests.get(url)\n",
    "    soup = BeautifulSoup(response.content, 'xml')\n",
    "    items = soup.findAll('item')\n",
    "\n",
    "    news = []\n",
    "    for item in items[:nb_news]:\n",
    "        news.append({\n",
    "            'Source': \"Google News\",\n",
    "            'Ticker': ticker,\n",
    "            'Title': item.title.text,\n",
    "            #'link': item.link.text,\n",
    "            'Date': item.pubDate.text\n",
    "        })\n",
    "    data = pd.DataFrame(news)\n",
    "    data['Date'] = pd.to_datetime(data['Date'], format=\"%a, %d %b %Y %H:%M:%S %Z\")\n",
    "    return data"
   ]
  },
  {
   "cell_type": "code",
   "execution_count": 50,
   "metadata": {},
   "outputs": [],
   "source": [
    "def scrap_finviz_news(ticker, nb_news=5, crypto=False):\n",
    "    if crypto:\n",
    "        url = \"https://finviz.com/crypto_charts.ashx?t={ticker}\"\n",
    "    else:\n",
    "        url = f\"https://finviz.com/quote.ashx?t={ticker}\"\n",
    "    headers = {'User-Agent': 'Mozilla/5.0'}  # Set User-Agent to avoid getting blocked\n",
    "    response = requests.get(url, headers=headers)\n",
    "\n",
    "    # Check if the request was successful\n",
    "    if response.status_code != 200:\n",
    "        print(f\"Failed to retrieve data for {ticker}: {response.status_code}\")\n",
    "        return []\n",
    "\n",
    "    soup = BeautifulSoup(response.content, 'html.parser')\n",
    "    \n",
    "    # Find the news table\n",
    "    news_table = soup.find(id='news-table')\n",
    "    \n",
    "    news_titles = []\n",
    "    if news_table:\n",
    "        rows = news_table.find_all('tr')\n",
    "        for row in rows[:nb_news]:\n",
    "            # The news title is usually in the second column\n",
    "            title_column = row.find_all('td')[1] if len(row.find_all('td')) > 1 else None\n",
    "            if title_column:\n",
    "                title = title_column.get_text(strip=True)\n",
    "                #link = title_column.find('a')['href'] if title_column.find('a') else None\n",
    "                date = row.find_all('td')[0].get_text(strip=True)\n",
    "                news_titles.append({'Source': \"Finviz\",\n",
    "                                    'Ticker': ticker,\n",
    "                                    'Title': title,\n",
    "                                    #'link': link,\n",
    "                                    'Date': date})\n",
    "    data = pd.DataFrame(news_titles)\n",
    "    #Change the date format to have a datetime object\n",
    "    for i in range(len(data)):\n",
    "        if(\"Today\" in data.loc[i, 'Date']):\n",
    "            data.loc[i, 'Date'] = data.loc[i, 'Date'].replace(\"Today\", datetime.today().strftime('%b-%d-%y'))\n",
    "        elif(data.loc[i, 'Date'][0] in '0123456789'):\n",
    "            data.loc[i, 'Date'] = str(data.loc[i-1, 'Date'])[:10]+\" \"+data.loc[i, 'Date']\n",
    "    data['Date'] = pd.to_datetime(data['Date'], format=\"%b-%d-%y %I:%M%p\")\n",
    "    return data"
   ]
  },
  {
   "cell_type": "code",
   "execution_count": 51,
   "metadata": {},
   "outputs": [],
   "source": [
    "df = pd.DataFrame(columns=['Source', 'Ticker', 'Title', 'Date'])\n",
    "nb_news = 50\n",
    "crypto=True\n",
    "\n",
    "for ticker in tickers:\n",
    "    if(df.empty): #to avoid a warning\n",
    "        df = scrap_google_news(ticker, nb_news)\n",
    "        df = pd.concat([df, scrap_finviz_news(ticker, nb_news, crypto)], ignore_index=True)\n",
    "    else:\n",
    "        df = pd.concat([df, scrap_google_news(ticker, nb_news)], ignore_index=True)\n",
    "        df = pd.concat([df, scrap_finviz_news(ticker, nb_news, crypto)], ignore_index=True)"
   ]
  },
  {
   "cell_type": "markdown",
   "metadata": {},
   "source": [
    "# Sentiment analysis"
   ]
  },
  {
   "cell_type": "markdown",
   "metadata": {},
   "source": [
    "TextBlob and VADER are two popular sentiment analysis tools but seem to be too general for financial news. Even BERT seems to struggle with some financial news."
   ]
  },
  {
   "cell_type": "code",
   "execution_count": null,
   "metadata": {},
   "outputs": [],
   "source": [
    "# Load sentiment analysis pipeline\n",
    "# model from https://huggingface.co/ProsusAI/finbert/discussions/21\n",
    "sentiment_analysis = pipeline(\"sentiment-analysis\", model=\"ProsusAI/finbert\")\n",
    "\n",
    "# Function to get sentiment using BERT\n",
    "def get_sentiment_bert(text):\n",
    "    result = sentiment_analysis(text)\n",
    "    return result[0]['label'], result[0]['score']\n",
    "\n",
    "# Apply sentiment analysis\n",
    "df['sentiment_label'], df['sentiment_score'] = zip(*df['Title'].apply(get_sentiment_bert))"
   ]
  },
  {
   "cell_type": "code",
   "execution_count": 54,
   "metadata": {},
   "outputs": [
    {
     "data": {
      "text/html": [
       "<div>\n",
       "<style scoped>\n",
       "    .dataframe tbody tr th:only-of-type {\n",
       "        vertical-align: middle;\n",
       "    }\n",
       "\n",
       "    .dataframe tbody tr th {\n",
       "        vertical-align: top;\n",
       "    }\n",
       "\n",
       "    .dataframe thead th {\n",
       "        text-align: right;\n",
       "    }\n",
       "</style>\n",
       "<table border=\"1\" class=\"dataframe\">\n",
       "  <thead>\n",
       "    <tr style=\"text-align: right;\">\n",
       "      <th></th>\n",
       "      <th>Source</th>\n",
       "      <th>Ticker</th>\n",
       "      <th>Title</th>\n",
       "      <th>Date</th>\n",
       "      <th>sentiment_label</th>\n",
       "      <th>sentiment_score</th>\n",
       "    </tr>\n",
       "  </thead>\n",
       "  <tbody>\n",
       "    <tr>\n",
       "      <th>0</th>\n",
       "      <td>Google News</td>\n",
       "      <td>BTCUSD</td>\n",
       "      <td>Bitcoin price (BTCUSD) forecast update - 27-09...</td>\n",
       "      <td>2024-09-27 09:14:00+00:00</td>\n",
       "      <td>neutral</td>\n",
       "      <td>0.944342</td>\n",
       "    </tr>\n",
       "    <tr>\n",
       "      <th>1</th>\n",
       "      <td>Google News</td>\n",
       "      <td>BTCUSD</td>\n",
       "      <td>BTC/USD: Bitcoin Hits 2-Month High of $66,000 ...</td>\n",
       "      <td>2024-09-27 07:21:36+00:00</td>\n",
       "      <td>positive</td>\n",
       "      <td>0.698428</td>\n",
       "    </tr>\n",
       "    <tr>\n",
       "      <th>2</th>\n",
       "      <td>Google News</td>\n",
       "      <td>BTCUSD</td>\n",
       "      <td>MicroStrategy 2X Leveraged ETF Sees Massive In...</td>\n",
       "      <td>2024-09-27 17:04:00+00:00</td>\n",
       "      <td>positive</td>\n",
       "      <td>0.690726</td>\n",
       "    </tr>\n",
       "    <tr>\n",
       "      <th>3</th>\n",
       "      <td>Google News</td>\n",
       "      <td>BTCUSD</td>\n",
       "      <td>FxWirePro- BTCUSD Daily Outlook - TOKENPOST</td>\n",
       "      <td>2024-09-25 21:15:00+00:00</td>\n",
       "      <td>neutral</td>\n",
       "      <td>0.883113</td>\n",
       "    </tr>\n",
       "    <tr>\n",
       "      <th>4</th>\n",
       "      <td>Google News</td>\n",
       "      <td>BTCUSD</td>\n",
       "      <td>BTC/USD Signal Today - 26/09: Bullish Above $6...</td>\n",
       "      <td>2024-09-26 07:30:48+00:00</td>\n",
       "      <td>neutral</td>\n",
       "      <td>0.883784</td>\n",
       "    </tr>\n",
       "    <tr>\n",
       "      <th>...</th>\n",
       "      <td>...</td>\n",
       "      <td>...</td>\n",
       "      <td>...</td>\n",
       "      <td>...</td>\n",
       "      <td>...</td>\n",
       "      <td>...</td>\n",
       "    </tr>\n",
       "    <tr>\n",
       "      <th>195</th>\n",
       "      <td>Finviz</td>\n",
       "      <td>ETHUSD</td>\n",
       "      <td>Key Indicators Challenge Fed's 'Normalization'...</td>\n",
       "      <td>2024-09-26 03:40:00</td>\n",
       "      <td>neutral</td>\n",
       "      <td>0.575999</td>\n",
       "    </tr>\n",
       "    <tr>\n",
       "      <th>196</th>\n",
       "      <td>Finviz</td>\n",
       "      <td>ETHUSD</td>\n",
       "      <td>Taurus, Aktionariat partner to enable trading ...</td>\n",
       "      <td>2024-09-26 03:00:00</td>\n",
       "      <td>neutral</td>\n",
       "      <td>0.903161</td>\n",
       "    </tr>\n",
       "    <tr>\n",
       "      <th>197</th>\n",
       "      <td>Finviz</td>\n",
       "      <td>ETHUSD</td>\n",
       "      <td>Bitcoin ETF Demand Grows Among U.S. Investors ...</td>\n",
       "      <td>2024-09-26 02:15:00</td>\n",
       "      <td>positive</td>\n",
       "      <td>0.934928</td>\n",
       "    </tr>\n",
       "    <tr>\n",
       "      <th>198</th>\n",
       "      <td>Finviz</td>\n",
       "      <td>ETHUSD</td>\n",
       "      <td>NYC’s pro-crypto Mayor Eric Adams indicted on ...</td>\n",
       "      <td>2024-09-25 22:15:00</td>\n",
       "      <td>neutral</td>\n",
       "      <td>0.537830</td>\n",
       "    </tr>\n",
       "    <tr>\n",
       "      <th>199</th>\n",
       "      <td>Finviz</td>\n",
       "      <td>ETHUSD</td>\n",
       "      <td>Ethereum bulls and bears fight to win this wee...</td>\n",
       "      <td>2024-09-25 21:45:00</td>\n",
       "      <td>neutral</td>\n",
       "      <td>0.532338</td>\n",
       "    </tr>\n",
       "  </tbody>\n",
       "</table>\n",
       "<p>200 rows × 6 columns</p>\n",
       "</div>"
      ],
      "text/plain": [
       "          Source  Ticker                                              Title  \\\n",
       "0    Google News  BTCUSD  Bitcoin price (BTCUSD) forecast update - 27-09...   \n",
       "1    Google News  BTCUSD  BTC/USD: Bitcoin Hits 2-Month High of $66,000 ...   \n",
       "2    Google News  BTCUSD  MicroStrategy 2X Leveraged ETF Sees Massive In...   \n",
       "3    Google News  BTCUSD        FxWirePro- BTCUSD Daily Outlook - TOKENPOST   \n",
       "4    Google News  BTCUSD  BTC/USD Signal Today - 26/09: Bullish Above $6...   \n",
       "..           ...     ...                                                ...   \n",
       "195       Finviz  ETHUSD  Key Indicators Challenge Fed's 'Normalization'...   \n",
       "196       Finviz  ETHUSD  Taurus, Aktionariat partner to enable trading ...   \n",
       "197       Finviz  ETHUSD  Bitcoin ETF Demand Grows Among U.S. Investors ...   \n",
       "198       Finviz  ETHUSD  NYC’s pro-crypto Mayor Eric Adams indicted on ...   \n",
       "199       Finviz  ETHUSD  Ethereum bulls and bears fight to win this wee...   \n",
       "\n",
       "                          Date sentiment_label  sentiment_score  \n",
       "0    2024-09-27 09:14:00+00:00         neutral         0.944342  \n",
       "1    2024-09-27 07:21:36+00:00        positive         0.698428  \n",
       "2    2024-09-27 17:04:00+00:00        positive         0.690726  \n",
       "3    2024-09-25 21:15:00+00:00         neutral         0.883113  \n",
       "4    2024-09-26 07:30:48+00:00         neutral         0.883784  \n",
       "..                         ...             ...              ...  \n",
       "195        2024-09-26 03:40:00         neutral         0.575999  \n",
       "196        2024-09-26 03:00:00         neutral         0.903161  \n",
       "197        2024-09-26 02:15:00        positive         0.934928  \n",
       "198        2024-09-25 22:15:00         neutral         0.537830  \n",
       "199        2024-09-25 21:45:00         neutral         0.532338  \n",
       "\n",
       "[200 rows x 6 columns]"
      ]
     },
     "execution_count": 54,
     "metadata": {},
     "output_type": "execute_result"
    }
   ],
   "source": [
    "df"
   ]
  },
  {
   "cell_type": "code",
   "execution_count": 56,
   "metadata": {},
   "outputs": [],
   "source": [
    "# transform the sentiment_score as negative when the sentiment_label is negative\n",
    "df['sentiment_score'] = df['sentiment_score'].where(df['sentiment_label'] == 'positive', -df['sentiment_score'])"
   ]
  },
  {
   "cell_type": "code",
   "execution_count": null,
   "metadata": {},
   "outputs": [
    {
     "name": "stderr",
     "output_type": "stream",
     "text": [
      "[*********************100%%**********************]  2 of 2 completed\n"
     ]
    }
   ],
   "source": [
    "tickers_yf = [str(ticker[:3])+\"-\"+str(ticker[3:]) for ticker in tickers]    #change the ticker for cryptos to the one used by yfinance\n",
    "prices = yf.download(tickers_yf, period=\"5d\", interval='1h')['Adj Close']\n",
    "\n",
    "hourly_returns = prices.pct_change(fill_method=None).dropna()   #calculate the hourly returns from the prices\n",
    "hourly_returns.index=pd.to_datetime(hourly_returns.index.strftime('%Y-%m-%d %H'))"
   ]
  },
  {
   "cell_type": "code",
   "execution_count": null,
   "metadata": {},
   "outputs": [],
   "source": [
    "# Process the data to have sentiments per hour and per ticker\n",
    "hourly_sentiments = pd.DataFrame(df.groupby([\"Date\",\"Ticker\"])['sentiment_score'].mean())\n",
    "hourly_sentiments[\"Ticker\"] = hourly_sentiments.index.get_level_values(1)   #to have the ticker as a column\n",
    "hourly_sentiments.index = hourly_sentiments.index.get_level_values(0)   #to have the date as the index\n",
    "hourly_sentiments = hourly_sentiments[hourly_sentiments.index>hourly_returns.index[0]]   #remove the old news\n",
    "hourly_sentiments = hourly_sentiments.reset_index().pivot(index='Date', columns='Ticker', values='sentiment_score').fillna(0)   #pivot the table to have the tickers as columns\n",
    "hourly_returns.columns = hourly_sentiments.columns   #to have the same columns for the returns and the sentiments\n",
    "hourly_returns.index.name = hourly_sentiments.index.name    #to have the same index name for the returns and the sentiments"
   ]
  },
  {
   "cell_type": "markdown",
   "metadata": {},
   "source": [
    "```python\n",
    "df.to_csv('news.csv', index=False)\n",
    "hourly_returns.to_csv('hourly_returns.csv')\n",
    "hourly_sentiments.to_csv('hourly_sentiments.csv')\n",
    "```"
   ]
  },
  {
   "cell_type": "markdown",
   "metadata": {},
   "source": [
    "```python\n",
    "df = pd.read_csv('news.csv')\n",
    "df['Date'] = pd.to_datetime(pd.to_datetime(df['Date'], format='ISO8601').dt.strftime('%Y-%m-%d %H'))\n",
    "\n",
    "hourly_returns = pd.read_csv('hourly_returns.csv')\n",
    "hourly_sentiments = pd.read_csv('hourly_sentiments.csv')\n",
    "hourly_returns.index = pd.to_datetime(hourly_returns['Date'])\n",
    "hourly_sentiments.index = pd.to_datetime(hourly_sentiments['Date'])\n",
    "hourly_returns.drop(columns=['Date'], inplace=True)\n",
    "hourly_sentiments.drop(columns=['Date'], inplace=True)\n",
    "```"
   ]
  },
  {
   "cell_type": "markdown",
   "metadata": {},
   "source": [
    "# Data Visualization"
   ]
  },
  {
   "cell_type": "code",
   "execution_count": 61,
   "metadata": {},
   "outputs": [
    {
     "data": {
      "application/vnd.plotly.v1+json": {
       "config": {
        "plotlyServerURL": "https://plot.ly"
       },
       "data": [
        {
         "domain": {
          "x": [
           0,
           1
          ],
          "y": [
           0,
           1
          ]
         },
         "hovertemplate": "label=%{label}<br>value=%{value}<extra></extra>",
         "labels": [
          "neutral",
          "positive",
          "positive",
          "neutral",
          "neutral",
          "positive",
          "neutral",
          "positive",
          "neutral",
          "positive",
          "neutral",
          "neutral",
          "neutral",
          "neutral",
          "neutral",
          "neutral",
          "neutral",
          "neutral",
          "neutral",
          "neutral",
          "neutral",
          "neutral",
          "neutral",
          "neutral",
          "neutral",
          "neutral",
          "neutral",
          "neutral",
          "positive",
          "neutral",
          "neutral",
          "negative",
          "positive",
          "neutral",
          "neutral",
          "negative",
          "neutral",
          "neutral",
          "neutral",
          "negative",
          "neutral",
          "negative",
          "neutral",
          "neutral",
          "neutral",
          "negative",
          "neutral",
          "neutral",
          "neutral",
          "neutral",
          "neutral",
          "neutral",
          "positive",
          "neutral",
          "neutral",
          "neutral",
          "neutral",
          "positive",
          "neutral",
          "neutral",
          "positive",
          "neutral",
          "neutral",
          "neutral",
          "positive",
          "negative",
          "neutral",
          "neutral",
          "positive",
          "neutral",
          "negative",
          "neutral",
          "neutral",
          "negative",
          "neutral",
          "neutral",
          "neutral",
          "neutral",
          "neutral",
          "positive",
          "positive",
          "neutral",
          "positive",
          "neutral",
          "positive",
          "neutral",
          "negative",
          "neutral",
          "neutral",
          "neutral",
          "positive",
          "neutral",
          "neutral",
          "negative",
          "neutral",
          "neutral",
          "neutral",
          "neutral",
          "neutral",
          "neutral"
         ],
         "legendgroup": "",
         "name": "",
         "showlegend": true,
         "type": "pie",
         "values": [
          1,
          1,
          1,
          1,
          1,
          1,
          1,
          1,
          1,
          1,
          1,
          1,
          1,
          1,
          1,
          1,
          1,
          1,
          1,
          1,
          1,
          1,
          1,
          1,
          1,
          1,
          1,
          1,
          1,
          1,
          1,
          1,
          1,
          1,
          1,
          1,
          1,
          1,
          1,
          1,
          1,
          1,
          1,
          1,
          1,
          1,
          1,
          1,
          1,
          1,
          1,
          1,
          1,
          1,
          1,
          1,
          1,
          1,
          1,
          1,
          1,
          1,
          1,
          1,
          1,
          1,
          1,
          1,
          1,
          1,
          1,
          1,
          1,
          1,
          1,
          1,
          1,
          1,
          1,
          1,
          1,
          1,
          1,
          1,
          1,
          1,
          1,
          1,
          1,
          1,
          1,
          1,
          1,
          1,
          1,
          1,
          1,
          1,
          1,
          1
         ],
         "visible": true
        },
        {
         "domain": {
          "x": [
           0,
           1
          ],
          "y": [
           0,
           1
          ]
         },
         "hovertemplate": "label=%{label}<br>value=%{value}<extra></extra>",
         "labels": [
          "positive",
          "neutral",
          "neutral",
          "neutral",
          "neutral",
          "neutral",
          "neutral",
          "neutral",
          "negative",
          "positive",
          "negative",
          "neutral",
          "neutral",
          "neutral",
          "positive",
          "positive",
          "neutral",
          "positive",
          "neutral",
          "positive",
          "positive",
          "positive",
          "neutral",
          "positive",
          "neutral",
          "positive",
          "positive",
          "neutral",
          "negative",
          "positive",
          "positive",
          "neutral",
          "positive",
          "positive",
          "neutral",
          "positive",
          "neutral",
          "neutral",
          "positive",
          "positive",
          "neutral",
          "neutral",
          "neutral",
          "neutral",
          "neutral",
          "neutral",
          "neutral",
          "positive",
          "neutral",
          "neutral",
          "positive",
          "neutral",
          "neutral",
          "neutral",
          "neutral",
          "neutral",
          "neutral",
          "neutral",
          "negative",
          "positive",
          "negative",
          "neutral",
          "neutral",
          "neutral",
          "positive",
          "positive",
          "neutral",
          "positive",
          "neutral",
          "positive",
          "positive",
          "positive",
          "neutral",
          "positive",
          "neutral",
          "positive",
          "positive",
          "neutral",
          "negative",
          "positive",
          "positive",
          "neutral",
          "positive",
          "positive",
          "neutral",
          "positive",
          "neutral",
          "neutral",
          "positive",
          "positive",
          "neutral",
          "neutral",
          "neutral",
          "neutral",
          "neutral",
          "neutral",
          "neutral",
          "positive",
          "neutral",
          "neutral"
         ],
         "legendgroup": "",
         "name": "",
         "showlegend": true,
         "type": "pie",
         "values": [
          1,
          1,
          1,
          1,
          1,
          1,
          1,
          1,
          1,
          1,
          1,
          1,
          1,
          1,
          1,
          1,
          1,
          1,
          1,
          1,
          1,
          1,
          1,
          1,
          1,
          1,
          1,
          1,
          1,
          1,
          1,
          1,
          1,
          1,
          1,
          1,
          1,
          1,
          1,
          1,
          1,
          1,
          1,
          1,
          1,
          1,
          1,
          1,
          1,
          1,
          1,
          1,
          1,
          1,
          1,
          1,
          1,
          1,
          1,
          1,
          1,
          1,
          1,
          1,
          1,
          1,
          1,
          1,
          1,
          1,
          1,
          1,
          1,
          1,
          1,
          1,
          1,
          1,
          1,
          1,
          1,
          1,
          1,
          1,
          1,
          1,
          1,
          1,
          1,
          1,
          1,
          1,
          1,
          1,
          1,
          1,
          1,
          1,
          1,
          1
         ]
        }
       ],
       "layout": {
        "legend": {
         "tracegroupgap": 0
        },
        "margin": {
         "t": 60
        },
        "template": {
         "data": {
          "bar": [
           {
            "error_x": {
             "color": "#2a3f5f"
            },
            "error_y": {
             "color": "#2a3f5f"
            },
            "marker": {
             "line": {
              "color": "#E5ECF6",
              "width": 0.5
             },
             "pattern": {
              "fillmode": "overlay",
              "size": 10,
              "solidity": 0.2
             }
            },
            "type": "bar"
           }
          ],
          "barpolar": [
           {
            "marker": {
             "line": {
              "color": "#E5ECF6",
              "width": 0.5
             },
             "pattern": {
              "fillmode": "overlay",
              "size": 10,
              "solidity": 0.2
             }
            },
            "type": "barpolar"
           }
          ],
          "carpet": [
           {
            "aaxis": {
             "endlinecolor": "#2a3f5f",
             "gridcolor": "white",
             "linecolor": "white",
             "minorgridcolor": "white",
             "startlinecolor": "#2a3f5f"
            },
            "baxis": {
             "endlinecolor": "#2a3f5f",
             "gridcolor": "white",
             "linecolor": "white",
             "minorgridcolor": "white",
             "startlinecolor": "#2a3f5f"
            },
            "type": "carpet"
           }
          ],
          "choropleth": [
           {
            "colorbar": {
             "outlinewidth": 0,
             "ticks": ""
            },
            "type": "choropleth"
           }
          ],
          "contour": [
           {
            "colorbar": {
             "outlinewidth": 0,
             "ticks": ""
            },
            "colorscale": [
             [
              0,
              "#0d0887"
             ],
             [
              0.1111111111111111,
              "#46039f"
             ],
             [
              0.2222222222222222,
              "#7201a8"
             ],
             [
              0.3333333333333333,
              "#9c179e"
             ],
             [
              0.4444444444444444,
              "#bd3786"
             ],
             [
              0.5555555555555556,
              "#d8576b"
             ],
             [
              0.6666666666666666,
              "#ed7953"
             ],
             [
              0.7777777777777778,
              "#fb9f3a"
             ],
             [
              0.8888888888888888,
              "#fdca26"
             ],
             [
              1,
              "#f0f921"
             ]
            ],
            "type": "contour"
           }
          ],
          "contourcarpet": [
           {
            "colorbar": {
             "outlinewidth": 0,
             "ticks": ""
            },
            "type": "contourcarpet"
           }
          ],
          "heatmap": [
           {
            "colorbar": {
             "outlinewidth": 0,
             "ticks": ""
            },
            "colorscale": [
             [
              0,
              "#0d0887"
             ],
             [
              0.1111111111111111,
              "#46039f"
             ],
             [
              0.2222222222222222,
              "#7201a8"
             ],
             [
              0.3333333333333333,
              "#9c179e"
             ],
             [
              0.4444444444444444,
              "#bd3786"
             ],
             [
              0.5555555555555556,
              "#d8576b"
             ],
             [
              0.6666666666666666,
              "#ed7953"
             ],
             [
              0.7777777777777778,
              "#fb9f3a"
             ],
             [
              0.8888888888888888,
              "#fdca26"
             ],
             [
              1,
              "#f0f921"
             ]
            ],
            "type": "heatmap"
           }
          ],
          "heatmapgl": [
           {
            "colorbar": {
             "outlinewidth": 0,
             "ticks": ""
            },
            "colorscale": [
             [
              0,
              "#0d0887"
             ],
             [
              0.1111111111111111,
              "#46039f"
             ],
             [
              0.2222222222222222,
              "#7201a8"
             ],
             [
              0.3333333333333333,
              "#9c179e"
             ],
             [
              0.4444444444444444,
              "#bd3786"
             ],
             [
              0.5555555555555556,
              "#d8576b"
             ],
             [
              0.6666666666666666,
              "#ed7953"
             ],
             [
              0.7777777777777778,
              "#fb9f3a"
             ],
             [
              0.8888888888888888,
              "#fdca26"
             ],
             [
              1,
              "#f0f921"
             ]
            ],
            "type": "heatmapgl"
           }
          ],
          "histogram": [
           {
            "marker": {
             "pattern": {
              "fillmode": "overlay",
              "size": 10,
              "solidity": 0.2
             }
            },
            "type": "histogram"
           }
          ],
          "histogram2d": [
           {
            "colorbar": {
             "outlinewidth": 0,
             "ticks": ""
            },
            "colorscale": [
             [
              0,
              "#0d0887"
             ],
             [
              0.1111111111111111,
              "#46039f"
             ],
             [
              0.2222222222222222,
              "#7201a8"
             ],
             [
              0.3333333333333333,
              "#9c179e"
             ],
             [
              0.4444444444444444,
              "#bd3786"
             ],
             [
              0.5555555555555556,
              "#d8576b"
             ],
             [
              0.6666666666666666,
              "#ed7953"
             ],
             [
              0.7777777777777778,
              "#fb9f3a"
             ],
             [
              0.8888888888888888,
              "#fdca26"
             ],
             [
              1,
              "#f0f921"
             ]
            ],
            "type": "histogram2d"
           }
          ],
          "histogram2dcontour": [
           {
            "colorbar": {
             "outlinewidth": 0,
             "ticks": ""
            },
            "colorscale": [
             [
              0,
              "#0d0887"
             ],
             [
              0.1111111111111111,
              "#46039f"
             ],
             [
              0.2222222222222222,
              "#7201a8"
             ],
             [
              0.3333333333333333,
              "#9c179e"
             ],
             [
              0.4444444444444444,
              "#bd3786"
             ],
             [
              0.5555555555555556,
              "#d8576b"
             ],
             [
              0.6666666666666666,
              "#ed7953"
             ],
             [
              0.7777777777777778,
              "#fb9f3a"
             ],
             [
              0.8888888888888888,
              "#fdca26"
             ],
             [
              1,
              "#f0f921"
             ]
            ],
            "type": "histogram2dcontour"
           }
          ],
          "mesh3d": [
           {
            "colorbar": {
             "outlinewidth": 0,
             "ticks": ""
            },
            "type": "mesh3d"
           }
          ],
          "parcoords": [
           {
            "line": {
             "colorbar": {
              "outlinewidth": 0,
              "ticks": ""
             }
            },
            "type": "parcoords"
           }
          ],
          "pie": [
           {
            "automargin": true,
            "type": "pie"
           }
          ],
          "scatter": [
           {
            "fillpattern": {
             "fillmode": "overlay",
             "size": 10,
             "solidity": 0.2
            },
            "type": "scatter"
           }
          ],
          "scatter3d": [
           {
            "line": {
             "colorbar": {
              "outlinewidth": 0,
              "ticks": ""
             }
            },
            "marker": {
             "colorbar": {
              "outlinewidth": 0,
              "ticks": ""
             }
            },
            "type": "scatter3d"
           }
          ],
          "scattercarpet": [
           {
            "marker": {
             "colorbar": {
              "outlinewidth": 0,
              "ticks": ""
             }
            },
            "type": "scattercarpet"
           }
          ],
          "scattergeo": [
           {
            "marker": {
             "colorbar": {
              "outlinewidth": 0,
              "ticks": ""
             }
            },
            "type": "scattergeo"
           }
          ],
          "scattergl": [
           {
            "marker": {
             "colorbar": {
              "outlinewidth": 0,
              "ticks": ""
             }
            },
            "type": "scattergl"
           }
          ],
          "scattermapbox": [
           {
            "marker": {
             "colorbar": {
              "outlinewidth": 0,
              "ticks": ""
             }
            },
            "type": "scattermapbox"
           }
          ],
          "scatterpolar": [
           {
            "marker": {
             "colorbar": {
              "outlinewidth": 0,
              "ticks": ""
             }
            },
            "type": "scatterpolar"
           }
          ],
          "scatterpolargl": [
           {
            "marker": {
             "colorbar": {
              "outlinewidth": 0,
              "ticks": ""
             }
            },
            "type": "scatterpolargl"
           }
          ],
          "scatterternary": [
           {
            "marker": {
             "colorbar": {
              "outlinewidth": 0,
              "ticks": ""
             }
            },
            "type": "scatterternary"
           }
          ],
          "surface": [
           {
            "colorbar": {
             "outlinewidth": 0,
             "ticks": ""
            },
            "colorscale": [
             [
              0,
              "#0d0887"
             ],
             [
              0.1111111111111111,
              "#46039f"
             ],
             [
              0.2222222222222222,
              "#7201a8"
             ],
             [
              0.3333333333333333,
              "#9c179e"
             ],
             [
              0.4444444444444444,
              "#bd3786"
             ],
             [
              0.5555555555555556,
              "#d8576b"
             ],
             [
              0.6666666666666666,
              "#ed7953"
             ],
             [
              0.7777777777777778,
              "#fb9f3a"
             ],
             [
              0.8888888888888888,
              "#fdca26"
             ],
             [
              1,
              "#f0f921"
             ]
            ],
            "type": "surface"
           }
          ],
          "table": [
           {
            "cells": {
             "fill": {
              "color": "#EBF0F8"
             },
             "line": {
              "color": "white"
             }
            },
            "header": {
             "fill": {
              "color": "#C8D4E3"
             },
             "line": {
              "color": "white"
             }
            },
            "type": "table"
           }
          ]
         },
         "layout": {
          "annotationdefaults": {
           "arrowcolor": "#2a3f5f",
           "arrowhead": 0,
           "arrowwidth": 1
          },
          "autotypenumbers": "strict",
          "coloraxis": {
           "colorbar": {
            "outlinewidth": 0,
            "ticks": ""
           }
          },
          "colorscale": {
           "diverging": [
            [
             0,
             "#8e0152"
            ],
            [
             0.1,
             "#c51b7d"
            ],
            [
             0.2,
             "#de77ae"
            ],
            [
             0.3,
             "#f1b6da"
            ],
            [
             0.4,
             "#fde0ef"
            ],
            [
             0.5,
             "#f7f7f7"
            ],
            [
             0.6,
             "#e6f5d0"
            ],
            [
             0.7,
             "#b8e186"
            ],
            [
             0.8,
             "#7fbc41"
            ],
            [
             0.9,
             "#4d9221"
            ],
            [
             1,
             "#276419"
            ]
           ],
           "sequential": [
            [
             0,
             "#0d0887"
            ],
            [
             0.1111111111111111,
             "#46039f"
            ],
            [
             0.2222222222222222,
             "#7201a8"
            ],
            [
             0.3333333333333333,
             "#9c179e"
            ],
            [
             0.4444444444444444,
             "#bd3786"
            ],
            [
             0.5555555555555556,
             "#d8576b"
            ],
            [
             0.6666666666666666,
             "#ed7953"
            ],
            [
             0.7777777777777778,
             "#fb9f3a"
            ],
            [
             0.8888888888888888,
             "#fdca26"
            ],
            [
             1,
             "#f0f921"
            ]
           ],
           "sequentialminus": [
            [
             0,
             "#0d0887"
            ],
            [
             0.1111111111111111,
             "#46039f"
            ],
            [
             0.2222222222222222,
             "#7201a8"
            ],
            [
             0.3333333333333333,
             "#9c179e"
            ],
            [
             0.4444444444444444,
             "#bd3786"
            ],
            [
             0.5555555555555556,
             "#d8576b"
            ],
            [
             0.6666666666666666,
             "#ed7953"
            ],
            [
             0.7777777777777778,
             "#fb9f3a"
            ],
            [
             0.8888888888888888,
             "#fdca26"
            ],
            [
             1,
             "#f0f921"
            ]
           ]
          },
          "colorway": [
           "#636efa",
           "#EF553B",
           "#00cc96",
           "#ab63fa",
           "#FFA15A",
           "#19d3f3",
           "#FF6692",
           "#B6E880",
           "#FF97FF",
           "#FECB52"
          ],
          "font": {
           "color": "#2a3f5f"
          },
          "geo": {
           "bgcolor": "white",
           "lakecolor": "white",
           "landcolor": "#E5ECF6",
           "showlakes": true,
           "showland": true,
           "subunitcolor": "white"
          },
          "hoverlabel": {
           "align": "left"
          },
          "hovermode": "closest",
          "mapbox": {
           "style": "light"
          },
          "paper_bgcolor": "white",
          "plot_bgcolor": "#E5ECF6",
          "polar": {
           "angularaxis": {
            "gridcolor": "white",
            "linecolor": "white",
            "ticks": ""
           },
           "bgcolor": "#E5ECF6",
           "radialaxis": {
            "gridcolor": "white",
            "linecolor": "white",
            "ticks": ""
           }
          },
          "scene": {
           "xaxis": {
            "backgroundcolor": "#E5ECF6",
            "gridcolor": "white",
            "gridwidth": 2,
            "linecolor": "white",
            "showbackground": true,
            "ticks": "",
            "zerolinecolor": "white"
           },
           "yaxis": {
            "backgroundcolor": "#E5ECF6",
            "gridcolor": "white",
            "gridwidth": 2,
            "linecolor": "white",
            "showbackground": true,
            "ticks": "",
            "zerolinecolor": "white"
           },
           "zaxis": {
            "backgroundcolor": "#E5ECF6",
            "gridcolor": "white",
            "gridwidth": 2,
            "linecolor": "white",
            "showbackground": true,
            "ticks": "",
            "zerolinecolor": "white"
           }
          },
          "shapedefaults": {
           "line": {
            "color": "#2a3f5f"
           }
          },
          "ternary": {
           "aaxis": {
            "gridcolor": "white",
            "linecolor": "white",
            "ticks": ""
           },
           "baxis": {
            "gridcolor": "white",
            "linecolor": "white",
            "ticks": ""
           },
           "bgcolor": "#E5ECF6",
           "caxis": {
            "gridcolor": "white",
            "linecolor": "white",
            "ticks": ""
           }
          },
          "title": {
           "x": 0.05
          },
          "xaxis": {
           "automargin": true,
           "gridcolor": "white",
           "linecolor": "white",
           "ticks": "",
           "title": {
            "standoff": 15
           },
           "zerolinecolor": "white",
           "zerolinewidth": 2
          },
          "yaxis": {
           "automargin": true,
           "gridcolor": "white",
           "linecolor": "white",
           "ticks": "",
           "title": {
            "standoff": 15
           },
           "zerolinecolor": "white",
           "zerolinewidth": 2
          }
         }
        },
        "updatemenus": [
         {
          "buttons": [
           {
            "args": [
             {
              "visible": [
               false,
               true
              ]
             },
             {
              "title": "Finviz"
             }
            ],
            "label": "Finviz",
            "method": "update"
           },
           {
            "args": [
             {
              "visible": [
               true,
               false
              ]
             },
             {
              "title": "Google News"
             }
            ],
            "label": "Google News",
            "method": "update"
           }
          ]
         }
        ]
       }
      }
     },
     "metadata": {},
     "output_type": "display_data"
    }
   ],
   "source": [
    "# Create a pie chart of sentiment_label\n",
    "categories=df[\"Source\"].unique()\n",
    "figs = {categorie: px.pie(df[df['Source']==categorie], values=[1]*df[df['Source']==categorie].shape[0], names=df[df['Source']==categorie][\"sentiment_label\"]) for categorie in categories}\n",
    "\n",
    "categorie_1 = categories[0]\n",
    "fig = figs[categorie_1].update_traces(visible=True)\n",
    "for categorie in categories:\n",
    "    if categorie != categorie_1:\n",
    "        fig.add_traces(figs[categorie].data)\n",
    "        \n",
    "fig.update_layout(\n",
    "    updatemenus=[\n",
    "        {\n",
    "            \"buttons\": [\n",
    "                {\n",
    "                    \"label\": categorie,\n",
    "                    \"method\": \"update\",\n",
    "                    \"args\": [{\"visible\": [categorie_2 == categorie for categorie_2 in categories]}, {\"title\": categorie}]\n",
    "                }\n",
    "                for categorie in categories[::-1]\n",
    "            ]\n",
    "        }\n",
    "    ]\n",
    ")\n",
    "\n",
    "fig.show()"
   ]
  },
  {
   "cell_type": "code",
   "execution_count": 64,
   "metadata": {},
   "outputs": [
    {
     "data": {
      "application/vnd.plotly.v1+json": {
       "config": {
        "plotlyServerURL": "https://plot.ly"
       },
       "data": [
        {
         "alignmentgroup": "True",
         "bingroup": "x",
         "hovertemplate": "x=%{x}<br>count=%{y}<extra></extra>",
         "legendgroup": "",
         "marker": {
          "color": "#636efa",
          "pattern": {
           "shape": ""
          }
         },
         "name": "",
         "nbinsx": 20,
         "offsetgroup": "",
         "orientation": "v",
         "showlegend": false,
         "type": "histogram",
         "visible": true,
         "x": [
          -0.9443415999412537,
          0.6984278559684753,
          0.6907262802124023,
          -0.8831129670143127,
          -0.8837836384773254,
          0.9433108568191528,
          -0.544636607170105,
          0.8101009130477905,
          -0.8831129670143127,
          0.8487875461578369,
          -0.925581157207489,
          -0.8098949790000916,
          -0.9442628026008606,
          -0.9299148321151733,
          -0.4957813620567322,
          -0.9441795945167542,
          -0.9446234703063965,
          -0.5546444058418274,
          -0.9449241757392883,
          -0.9330487847328186,
          -0.7110894918441772,
          -0.6777057647705078,
          -0.943257749080658,
          -0.9407492876052856,
          -0.9446234107017517,
          -0.8831129670143127,
          -0.8561672568321228,
          -0.9452286958694458,
          0.9002998471260071,
          -0.9450456500053406,
          -0.9277095794677734,
          -0.8501812219619751,
          0.7411065101623535,
          -0.8642956614494324,
          -0.5445619225502014,
          -0.8202815055847168,
          -0.9433383345603943,
          -0.9450085163116455,
          -0.9432972073554993,
          -0.8454340696334839,
          -0.7979813814163208,
          -0.9452130794525146,
          -0.8630651831626892,
          -0.9440925717353821,
          -0.9432633519172668,
          -0.9643985629081726,
          -0.9439283013343811,
          -0.83121258020401,
          -0.584552526473999,
          -0.9446589350700378,
          -0.9459772109985352,
          -0.9457570910453796,
          0.7771600484848022,
          -0.616282045841217,
          -0.8623444437980652,
          -0.7546465992927551,
          -0.9459170699119568,
          0.5921490788459778,
          -0.9467130899429321,
          -0.9461026787757874,
          0.8570241332054138,
          -0.5529298782348633,
          -0.9466879963874817,
          -0.9455319046974182,
          0.8466781973838806,
          -0.9357233047485352,
          -0.9450057148933411,
          -0.8918710947036743,
          0.6349367499351501,
          -0.9474928379058838,
          -0.960641622543335,
          -0.5518794655799866,
          -0.9460272192955017,
          -0.6612711548805237,
          -0.7022302150726318,
          -0.9463788866996765,
          -0.9465048313140869,
          -0.9467451572418213,
          -0.9461225271224976,
          0.8964990377426147,
          0.9252597093582153,
          -0.9468222856521606,
          0.6140341758728027,
          -0.9463179707527161,
          0.5452119708061218,
          -0.9462549686431885,
          -0.6158573031425476,
          -0.9464378356933594,
          -0.9467220902442932,
          -0.9468581080436707,
          0.7276888489723206,
          -0.9456239342689514,
          -0.9465932250022888,
          -0.8094817399978638,
          -0.9455296993255615,
          -0.5109503269195557,
          -0.9457365870475769,
          -0.9473375678062439,
          -0.9456825256347656,
          -0.9463011622428894
         ],
         "xaxis": "x",
         "yaxis": "y"
        },
        {
         "alignmentgroup": "True",
         "bingroup": "x",
         "hovertemplate": "x=%{x}<br>count=%{y}<extra></extra>",
         "legendgroup": "",
         "marker": {
          "color": "#636efa",
          "pattern": {
           "shape": ""
          }
         },
         "name": "",
         "nbinsx": 20,
         "offsetgroup": "",
         "orientation": "v",
         "showlegend": false,
         "type": "histogram",
         "x": [
          0.7142720818519592,
          -0.867595911026001,
          -0.8754199147224426,
          -0.9136819243431091,
          -0.7824133038520813,
          -0.8280251622200012,
          -0.556337296962738,
          -0.9402915835380554,
          -0.8156685829162598,
          0.8855182528495789,
          -0.7216822504997253,
          -0.9205477237701416,
          -0.6362901926040649,
          -0.7239669561386108,
          0.9436547756195068,
          0.8892983198165894,
          -0.8592346906661987,
          0.8000224828720093,
          -0.8908835053443909,
          0.9396480917930603,
          0.5596451163291931,
          0.8991940021514893,
          -0.9032415747642517,
          0.8138811588287354,
          -0.8976023197174072,
          0.8703679442405701,
          0.8376896977424622,
          -0.7560116052627563,
          -0.8462622165679932,
          0.9200531840324402,
          0.9410098791122437,
          -0.8034263253211975,
          0.5137980580329895,
          0.948457658290863,
          -0.6306542158126831,
          0.6782627701759338,
          -0.8727510571479797,
          -0.5265571475028992,
          0.9368694424629211,
          0.9323269724845886,
          -0.6526208519935608,
          -0.5113691091537476,
          -0.8713600039482117,
          -0.9319895505905151,
          -0.8684653043746948,
          -0.5759994387626648,
          -0.9031605124473572,
          0.9349277019500732,
          -0.5378301739692688,
          -0.5323384404182434,
          0.7142720818519592,
          -0.867595911026001,
          -0.8754199147224426,
          -0.9136819243431091,
          -0.7824133038520813,
          -0.8280251622200012,
          -0.556337296962738,
          -0.9402915835380554,
          -0.8156685829162598,
          0.8855182528495789,
          -0.7216822504997253,
          -0.9205477237701416,
          -0.6362901926040649,
          -0.7239669561386108,
          0.9436547756195068,
          0.8892983198165894,
          -0.8592346906661987,
          0.8000224828720093,
          -0.8908835053443909,
          0.9396480917930603,
          0.5596451163291931,
          0.8991940021514893,
          -0.9032415747642517,
          0.8138811588287354,
          -0.8976023197174072,
          0.8703679442405701,
          0.8376896977424622,
          -0.7560116052627563,
          -0.8462622165679932,
          0.9200531840324402,
          0.9410098791122437,
          -0.8034263253211975,
          0.5137980580329895,
          0.948457658290863,
          -0.6306542158126831,
          0.6782627701759338,
          -0.8727510571479797,
          -0.5265571475028992,
          0.9368694424629211,
          0.9323269724845886,
          -0.6526208519935608,
          -0.5113691091537476,
          -0.8713600039482117,
          -0.9319895505905151,
          -0.8684653043746948,
          -0.5759994387626648,
          -0.9031605124473572,
          0.9349277019500732,
          -0.5378301739692688,
          -0.5323384404182434
         ],
         "xaxis": "x",
         "yaxis": "y"
        }
       ],
       "layout": {
        "barmode": "relative",
        "legend": {
         "tracegroupgap": 0
        },
        "margin": {
         "t": 60
        },
        "template": {
         "data": {
          "bar": [
           {
            "error_x": {
             "color": "#2a3f5f"
            },
            "error_y": {
             "color": "#2a3f5f"
            },
            "marker": {
             "line": {
              "color": "#E5ECF6",
              "width": 0.5
             },
             "pattern": {
              "fillmode": "overlay",
              "size": 10,
              "solidity": 0.2
             }
            },
            "type": "bar"
           }
          ],
          "barpolar": [
           {
            "marker": {
             "line": {
              "color": "#E5ECF6",
              "width": 0.5
             },
             "pattern": {
              "fillmode": "overlay",
              "size": 10,
              "solidity": 0.2
             }
            },
            "type": "barpolar"
           }
          ],
          "carpet": [
           {
            "aaxis": {
             "endlinecolor": "#2a3f5f",
             "gridcolor": "white",
             "linecolor": "white",
             "minorgridcolor": "white",
             "startlinecolor": "#2a3f5f"
            },
            "baxis": {
             "endlinecolor": "#2a3f5f",
             "gridcolor": "white",
             "linecolor": "white",
             "minorgridcolor": "white",
             "startlinecolor": "#2a3f5f"
            },
            "type": "carpet"
           }
          ],
          "choropleth": [
           {
            "colorbar": {
             "outlinewidth": 0,
             "ticks": ""
            },
            "type": "choropleth"
           }
          ],
          "contour": [
           {
            "colorbar": {
             "outlinewidth": 0,
             "ticks": ""
            },
            "colorscale": [
             [
              0,
              "#0d0887"
             ],
             [
              0.1111111111111111,
              "#46039f"
             ],
             [
              0.2222222222222222,
              "#7201a8"
             ],
             [
              0.3333333333333333,
              "#9c179e"
             ],
             [
              0.4444444444444444,
              "#bd3786"
             ],
             [
              0.5555555555555556,
              "#d8576b"
             ],
             [
              0.6666666666666666,
              "#ed7953"
             ],
             [
              0.7777777777777778,
              "#fb9f3a"
             ],
             [
              0.8888888888888888,
              "#fdca26"
             ],
             [
              1,
              "#f0f921"
             ]
            ],
            "type": "contour"
           }
          ],
          "contourcarpet": [
           {
            "colorbar": {
             "outlinewidth": 0,
             "ticks": ""
            },
            "type": "contourcarpet"
           }
          ],
          "heatmap": [
           {
            "colorbar": {
             "outlinewidth": 0,
             "ticks": ""
            },
            "colorscale": [
             [
              0,
              "#0d0887"
             ],
             [
              0.1111111111111111,
              "#46039f"
             ],
             [
              0.2222222222222222,
              "#7201a8"
             ],
             [
              0.3333333333333333,
              "#9c179e"
             ],
             [
              0.4444444444444444,
              "#bd3786"
             ],
             [
              0.5555555555555556,
              "#d8576b"
             ],
             [
              0.6666666666666666,
              "#ed7953"
             ],
             [
              0.7777777777777778,
              "#fb9f3a"
             ],
             [
              0.8888888888888888,
              "#fdca26"
             ],
             [
              1,
              "#f0f921"
             ]
            ],
            "type": "heatmap"
           }
          ],
          "heatmapgl": [
           {
            "colorbar": {
             "outlinewidth": 0,
             "ticks": ""
            },
            "colorscale": [
             [
              0,
              "#0d0887"
             ],
             [
              0.1111111111111111,
              "#46039f"
             ],
             [
              0.2222222222222222,
              "#7201a8"
             ],
             [
              0.3333333333333333,
              "#9c179e"
             ],
             [
              0.4444444444444444,
              "#bd3786"
             ],
             [
              0.5555555555555556,
              "#d8576b"
             ],
             [
              0.6666666666666666,
              "#ed7953"
             ],
             [
              0.7777777777777778,
              "#fb9f3a"
             ],
             [
              0.8888888888888888,
              "#fdca26"
             ],
             [
              1,
              "#f0f921"
             ]
            ],
            "type": "heatmapgl"
           }
          ],
          "histogram": [
           {
            "marker": {
             "pattern": {
              "fillmode": "overlay",
              "size": 10,
              "solidity": 0.2
             }
            },
            "type": "histogram"
           }
          ],
          "histogram2d": [
           {
            "colorbar": {
             "outlinewidth": 0,
             "ticks": ""
            },
            "colorscale": [
             [
              0,
              "#0d0887"
             ],
             [
              0.1111111111111111,
              "#46039f"
             ],
             [
              0.2222222222222222,
              "#7201a8"
             ],
             [
              0.3333333333333333,
              "#9c179e"
             ],
             [
              0.4444444444444444,
              "#bd3786"
             ],
             [
              0.5555555555555556,
              "#d8576b"
             ],
             [
              0.6666666666666666,
              "#ed7953"
             ],
             [
              0.7777777777777778,
              "#fb9f3a"
             ],
             [
              0.8888888888888888,
              "#fdca26"
             ],
             [
              1,
              "#f0f921"
             ]
            ],
            "type": "histogram2d"
           }
          ],
          "histogram2dcontour": [
           {
            "colorbar": {
             "outlinewidth": 0,
             "ticks": ""
            },
            "colorscale": [
             [
              0,
              "#0d0887"
             ],
             [
              0.1111111111111111,
              "#46039f"
             ],
             [
              0.2222222222222222,
              "#7201a8"
             ],
             [
              0.3333333333333333,
              "#9c179e"
             ],
             [
              0.4444444444444444,
              "#bd3786"
             ],
             [
              0.5555555555555556,
              "#d8576b"
             ],
             [
              0.6666666666666666,
              "#ed7953"
             ],
             [
              0.7777777777777778,
              "#fb9f3a"
             ],
             [
              0.8888888888888888,
              "#fdca26"
             ],
             [
              1,
              "#f0f921"
             ]
            ],
            "type": "histogram2dcontour"
           }
          ],
          "mesh3d": [
           {
            "colorbar": {
             "outlinewidth": 0,
             "ticks": ""
            },
            "type": "mesh3d"
           }
          ],
          "parcoords": [
           {
            "line": {
             "colorbar": {
              "outlinewidth": 0,
              "ticks": ""
             }
            },
            "type": "parcoords"
           }
          ],
          "pie": [
           {
            "automargin": true,
            "type": "pie"
           }
          ],
          "scatter": [
           {
            "fillpattern": {
             "fillmode": "overlay",
             "size": 10,
             "solidity": 0.2
            },
            "type": "scatter"
           }
          ],
          "scatter3d": [
           {
            "line": {
             "colorbar": {
              "outlinewidth": 0,
              "ticks": ""
             }
            },
            "marker": {
             "colorbar": {
              "outlinewidth": 0,
              "ticks": ""
             }
            },
            "type": "scatter3d"
           }
          ],
          "scattercarpet": [
           {
            "marker": {
             "colorbar": {
              "outlinewidth": 0,
              "ticks": ""
             }
            },
            "type": "scattercarpet"
           }
          ],
          "scattergeo": [
           {
            "marker": {
             "colorbar": {
              "outlinewidth": 0,
              "ticks": ""
             }
            },
            "type": "scattergeo"
           }
          ],
          "scattergl": [
           {
            "marker": {
             "colorbar": {
              "outlinewidth": 0,
              "ticks": ""
             }
            },
            "type": "scattergl"
           }
          ],
          "scattermapbox": [
           {
            "marker": {
             "colorbar": {
              "outlinewidth": 0,
              "ticks": ""
             }
            },
            "type": "scattermapbox"
           }
          ],
          "scatterpolar": [
           {
            "marker": {
             "colorbar": {
              "outlinewidth": 0,
              "ticks": ""
             }
            },
            "type": "scatterpolar"
           }
          ],
          "scatterpolargl": [
           {
            "marker": {
             "colorbar": {
              "outlinewidth": 0,
              "ticks": ""
             }
            },
            "type": "scatterpolargl"
           }
          ],
          "scatterternary": [
           {
            "marker": {
             "colorbar": {
              "outlinewidth": 0,
              "ticks": ""
             }
            },
            "type": "scatterternary"
           }
          ],
          "surface": [
           {
            "colorbar": {
             "outlinewidth": 0,
             "ticks": ""
            },
            "colorscale": [
             [
              0,
              "#0d0887"
             ],
             [
              0.1111111111111111,
              "#46039f"
             ],
             [
              0.2222222222222222,
              "#7201a8"
             ],
             [
              0.3333333333333333,
              "#9c179e"
             ],
             [
              0.4444444444444444,
              "#bd3786"
             ],
             [
              0.5555555555555556,
              "#d8576b"
             ],
             [
              0.6666666666666666,
              "#ed7953"
             ],
             [
              0.7777777777777778,
              "#fb9f3a"
             ],
             [
              0.8888888888888888,
              "#fdca26"
             ],
             [
              1,
              "#f0f921"
             ]
            ],
            "type": "surface"
           }
          ],
          "table": [
           {
            "cells": {
             "fill": {
              "color": "#EBF0F8"
             },
             "line": {
              "color": "white"
             }
            },
            "header": {
             "fill": {
              "color": "#C8D4E3"
             },
             "line": {
              "color": "white"
             }
            },
            "type": "table"
           }
          ]
         },
         "layout": {
          "annotationdefaults": {
           "arrowcolor": "#2a3f5f",
           "arrowhead": 0,
           "arrowwidth": 1
          },
          "autotypenumbers": "strict",
          "coloraxis": {
           "colorbar": {
            "outlinewidth": 0,
            "ticks": ""
           }
          },
          "colorscale": {
           "diverging": [
            [
             0,
             "#8e0152"
            ],
            [
             0.1,
             "#c51b7d"
            ],
            [
             0.2,
             "#de77ae"
            ],
            [
             0.3,
             "#f1b6da"
            ],
            [
             0.4,
             "#fde0ef"
            ],
            [
             0.5,
             "#f7f7f7"
            ],
            [
             0.6,
             "#e6f5d0"
            ],
            [
             0.7,
             "#b8e186"
            ],
            [
             0.8,
             "#7fbc41"
            ],
            [
             0.9,
             "#4d9221"
            ],
            [
             1,
             "#276419"
            ]
           ],
           "sequential": [
            [
             0,
             "#0d0887"
            ],
            [
             0.1111111111111111,
             "#46039f"
            ],
            [
             0.2222222222222222,
             "#7201a8"
            ],
            [
             0.3333333333333333,
             "#9c179e"
            ],
            [
             0.4444444444444444,
             "#bd3786"
            ],
            [
             0.5555555555555556,
             "#d8576b"
            ],
            [
             0.6666666666666666,
             "#ed7953"
            ],
            [
             0.7777777777777778,
             "#fb9f3a"
            ],
            [
             0.8888888888888888,
             "#fdca26"
            ],
            [
             1,
             "#f0f921"
            ]
           ],
           "sequentialminus": [
            [
             0,
             "#0d0887"
            ],
            [
             0.1111111111111111,
             "#46039f"
            ],
            [
             0.2222222222222222,
             "#7201a8"
            ],
            [
             0.3333333333333333,
             "#9c179e"
            ],
            [
             0.4444444444444444,
             "#bd3786"
            ],
            [
             0.5555555555555556,
             "#d8576b"
            ],
            [
             0.6666666666666666,
             "#ed7953"
            ],
            [
             0.7777777777777778,
             "#fb9f3a"
            ],
            [
             0.8888888888888888,
             "#fdca26"
            ],
            [
             1,
             "#f0f921"
            ]
           ]
          },
          "colorway": [
           "#636efa",
           "#EF553B",
           "#00cc96",
           "#ab63fa",
           "#FFA15A",
           "#19d3f3",
           "#FF6692",
           "#B6E880",
           "#FF97FF",
           "#FECB52"
          ],
          "font": {
           "color": "#2a3f5f"
          },
          "geo": {
           "bgcolor": "white",
           "lakecolor": "white",
           "landcolor": "#E5ECF6",
           "showlakes": true,
           "showland": true,
           "subunitcolor": "white"
          },
          "hoverlabel": {
           "align": "left"
          },
          "hovermode": "closest",
          "mapbox": {
           "style": "light"
          },
          "paper_bgcolor": "white",
          "plot_bgcolor": "#E5ECF6",
          "polar": {
           "angularaxis": {
            "gridcolor": "white",
            "linecolor": "white",
            "ticks": ""
           },
           "bgcolor": "#E5ECF6",
           "radialaxis": {
            "gridcolor": "white",
            "linecolor": "white",
            "ticks": ""
           }
          },
          "scene": {
           "xaxis": {
            "backgroundcolor": "#E5ECF6",
            "gridcolor": "white",
            "gridwidth": 2,
            "linecolor": "white",
            "showbackground": true,
            "ticks": "",
            "zerolinecolor": "white"
           },
           "yaxis": {
            "backgroundcolor": "#E5ECF6",
            "gridcolor": "white",
            "gridwidth": 2,
            "linecolor": "white",
            "showbackground": true,
            "ticks": "",
            "zerolinecolor": "white"
           },
           "zaxis": {
            "backgroundcolor": "#E5ECF6",
            "gridcolor": "white",
            "gridwidth": 2,
            "linecolor": "white",
            "showbackground": true,
            "ticks": "",
            "zerolinecolor": "white"
           }
          },
          "shapedefaults": {
           "line": {
            "color": "#2a3f5f"
           }
          },
          "ternary": {
           "aaxis": {
            "gridcolor": "white",
            "linecolor": "white",
            "ticks": ""
           },
           "baxis": {
            "gridcolor": "white",
            "linecolor": "white",
            "ticks": ""
           },
           "bgcolor": "#E5ECF6",
           "caxis": {
            "gridcolor": "white",
            "linecolor": "white",
            "ticks": ""
           }
          },
          "title": {
           "x": 0.05
          },
          "xaxis": {
           "automargin": true,
           "gridcolor": "white",
           "linecolor": "white",
           "ticks": "",
           "title": {
            "standoff": 15
           },
           "zerolinecolor": "white",
           "zerolinewidth": 2
          },
          "yaxis": {
           "automargin": true,
           "gridcolor": "white",
           "linecolor": "white",
           "ticks": "",
           "title": {
            "standoff": 15
           },
           "zerolinecolor": "white",
           "zerolinewidth": 2
          }
         }
        },
        "updatemenus": [
         {
          "buttons": [
           {
            "args": [
             {
              "visible": [
               true,
               false
              ]
             },
             {
              "title": "Google News"
             }
            ],
            "label": "Google News",
            "method": "update"
           },
           {
            "args": [
             {
              "visible": [
               false,
               true
              ]
             },
             {
              "title": "Finviz"
             }
            ],
            "label": "Finviz",
            "method": "update"
           }
          ]
         }
        ],
        "xaxis": {
         "anchor": "y",
         "domain": [
          0,
          1
         ],
         "title": {
          "text": "x"
         }
        },
        "yaxis": {
         "anchor": "x",
         "domain": [
          0,
          1
         ],
         "title": {
          "text": "count"
         }
        }
       }
      }
     },
     "metadata": {},
     "output_type": "display_data"
    }
   ],
   "source": [
    "# Create a pie chart of sentiment_label\n",
    "categories=df[\"Source\"].unique()\n",
    "figs = {categorie: px.histogram(df[df['Source']==categorie], x=df[df['Source']==categorie][\"sentiment_score\"], nbins=20) for categorie in categories}\n",
    "\n",
    "categorie_1 = categories[0]\n",
    "fig = figs[categorie_1].update_traces(visible=True)\n",
    "for categorie in categories:\n",
    "    if categorie != categorie_1:\n",
    "        fig.add_traces(figs[categorie].data)\n",
    "        \n",
    "fig.update_layout(\n",
    "    updatemenus=[\n",
    "        {\n",
    "            \"buttons\": [\n",
    "                {\n",
    "                    \"label\": categorie,\n",
    "                    \"method\": \"update\",\n",
    "                    \"args\": [{\"visible\": [categorie_2 == categorie for categorie_2 in categories]}, {\"title\": categorie}]\n",
    "                }\n",
    "                for categorie in categories\n",
    "            ]\n",
    "        }\n",
    "    ]\n",
    ")\n",
    "\n",
    "fig.show()"
   ]
  },
  {
   "cell_type": "code",
   "execution_count": 66,
   "metadata": {},
   "outputs": [
    {
     "data": {
      "image/png": "[encoded data removed]",
      "text/plain": [
       "<Figure size 800x800 with 1 Axes>"
      ]
     },
     "metadata": {},
     "output_type": "display_data"
    }
   ],
   "source": [
    "text = ' '.join(df['Title'].values)\n",
    "\n",
    "# Generate a word cloud image\n",
    "wordcloud = WordCloud(width=800, height=400, background_color ='white').generate(text)\n",
    "\n",
    "# Display the generated image:\n",
    "plt.figure(figsize = (8, 8), facecolor = None)\n",
    "plt.imshow(wordcloud)\n",
    "plt.axis(\"off\")\n",
    "plt.tight_layout(pad = 0)\n",
    "plt.show()"
   ]
  },
  {
   "cell_type": "code",
   "execution_count": 24,
   "metadata": {},
   "outputs": [
    {
     "data": {
      "application/vnd.plotly.v1+json": {
       "config": {
        "plotlyServerURL": "https://plot.ly"
       },
       "data": [
        {
         "hovertemplate": "variable=BTCUSD<br>Date=%{x}<br>value=%{y}<extra></extra>",
         "legendgroup": "BTCUSD",
         "line": {
          "color": "#636efa",
          "dash": "solid"
         },
         "marker": {
          "symbol": "circle"
         },
         "mode": "lines",
         "name": "BTCUSD",
         "orientation": "v",
         "showlegend": true,
         "type": "scatter",
         "x": [
          "2024-09-25T01:00:00",
          "2024-09-25T02:00:00",
          "2024-09-25T03:00:00",
          "2024-09-25T04:00:00",
          "2024-09-25T05:00:00",
          "2024-09-25T06:00:00",
          "2024-09-25T07:00:00",
          "2024-09-25T08:00:00",
          "2024-09-25T09:00:00",
          "2024-09-25T10:00:00",
          "2024-09-25T11:00:00",
          "2024-09-25T12:00:00",
          "2024-09-25T13:00:00",
          "2024-09-25T14:00:00",
          "2024-09-25T15:00:00",
          "2024-09-25T16:00:00",
          "2024-09-25T17:00:00",
          "2024-09-25T18:00:00",
          "2024-09-25T19:00:00",
          "2024-09-25T20:00:00",
          "2024-09-25T21:00:00",
          "2024-09-25T22:00:00",
          "2024-09-25T23:00:00",
          "2024-09-26T00:00:00",
          "2024-09-26T01:00:00",
          "2024-09-26T02:00:00",
          "2024-09-26T03:00:00",
          "2024-09-26T04:00:00",
          "2024-09-26T05:00:00",
          "2024-09-26T06:00:00",
          "2024-09-26T07:00:00",
          "2024-09-26T08:00:00",
          "2024-09-26T09:00:00",
          "2024-09-26T10:00:00",
          "2024-09-26T11:00:00",
          "2024-09-26T12:00:00",
          "2024-09-26T13:00:00",
          "2024-09-26T14:00:00",
          "2024-09-26T15:00:00",
          "2024-09-26T16:00:00",
          "2024-09-26T17:00:00",
          "2024-09-26T18:00:00",
          "2024-09-26T19:00:00",
          "2024-09-26T20:00:00",
          "2024-09-26T21:00:00",
          "2024-09-26T22:00:00",
          "2024-09-26T23:00:00",
          "2024-09-27T00:00:00",
          "2024-09-27T01:00:00",
          "2024-09-27T02:00:00",
          "2024-09-27T03:00:00",
          "2024-09-27T04:00:00",
          "2024-09-27T05:00:00",
          "2024-09-27T06:00:00",
          "2024-09-27T07:00:00",
          "2024-09-27T08:00:00",
          "2024-09-27T09:00:00",
          "2024-09-27T10:00:00",
          "2024-09-27T11:00:00",
          "2024-09-27T12:00:00",
          "2024-09-27T13:00:00",
          "2024-09-27T14:00:00",
          "2024-09-27T15:00:00",
          "2024-09-27T16:00:00",
          "2024-09-27T17:00:00",
          "2024-09-27T18:00:00",
          "2024-09-27T19:00:00",
          "2024-09-27T20:00:00",
          "2024-09-27T21:00:00",
          "2024-09-27T22:00:00",
          "2024-09-27T23:00:00",
          "2024-09-28T00:00:00",
          "2024-09-28T01:00:00",
          "2024-09-28T02:00:00",
          "2024-09-28T03:00:00",
          "2024-09-28T04:00:00",
          "2024-09-28T05:00:00",
          "2024-09-28T06:00:00",
          "2024-09-28T07:00:00",
          "2024-09-28T08:00:00",
          "2024-09-28T09:00:00",
          "2024-09-28T10:00:00",
          "2024-09-28T11:00:00",
          "2024-09-28T12:00:00",
          "2024-09-28T13:00:00",
          "2024-09-28T14:00:00",
          "2024-09-28T15:00:00",
          "2024-09-28T16:00:00",
          "2024-09-28T17:00:00",
          "2024-09-28T18:00:00",
          "2024-09-28T19:00:00",
          "2024-09-28T20:00:00",
          "2024-09-28T21:00:00",
          "2024-09-28T22:00:00",
          "2024-09-28T23:00:00",
          "2024-09-29T00:00:00",
          "2024-09-29T01:00:00",
          "2024-09-29T02:00:00",
          "2024-09-29T03:00:00",
          "2024-09-29T04:00:00",
          "2024-09-29T05:00:00",
          "2024-09-29T06:00:00",
          "2024-09-29T07:00:00",
          "2024-09-29T08:00:00",
          "2024-09-29T09:00:00",
          "2024-09-29T10:00:00",
          "2024-09-29T11:00:00",
          "2024-09-29T12:00:00",
          "2024-09-29T13:00:00",
          "2024-09-29T14:00:00",
          "2024-09-29T15:00:00",
          "2024-09-29T16:00:00"
         ],
         "xaxis": "x",
         "y": [
          0.46339658436165,
          -0.012960088443809999,
          0.02567497135286,
          -0.369745906666,
          -0.05342533538663,
          -0.56831434346542,
          0.05008036671487,
          -0.03839347270582,
          -0.31353960413765,
          -0.016793127822280002,
          0.35627676259352997,
          -0.26560265685879,
          0.11987139763042999,
          0.21480788170638002,
          -0.60769078784794,
          -0.04812497777403,
          -0.46183320476591,
          0.23759692242693,
          -0.15305614104682,
          0.42103211784079,
          -0.04718682765769,
          -0.29730839776646,
          -0.19518473522378,
          -0.29679233407721,
          0.27813106546423,
          0.29810004994528,
          0.23920000325727003,
          -0.09581109557477001,
          0.26580304701413,
          0.19989284981403,
          0.2029216822498,
          -0.17259980801438002,
          0.08690885291531,
          0.88479656899718,
          0.08777772172403,
          0.22969963512513,
          -0.29403402850218996,
          0.23802457266708,
          1.18004895718484,
          0.12187812965005002,
          -0.25642388114975,
          0.12745991035258,
          -0.68796393771691,
          -0.15159167644485,
          0.4882621298728,
          0.04671566025089,
          0.17582532635114,
          0.12846735870164,
          -0.18645373765139,
          -0.39854259272928,
          0.7530034529866101,
          -0.08622324614567,
          0.07275197300479999,
          -0.035635399248239996,
          0.2377058284857,
          0.38642202972953,
          0.04465316916302,
          -0.37636580918114,
          -0.13878680908364,
          0.47723942620481,
          -0.17533668576474,
          1.0049369038502298,
          -0.37772566350928,
          0.43122787215847,
          -0.68432139384756,
          0.01474084398507,
          -0.29516471977077,
          0.21468233567054,
          0.03132878551708,
          0.06459538317993001,
          -0.14526653736168998,
          0.1659466384853,
          0.09042780923608999,
          0.33021509574686,
          -0.16295885884889,
          -0.07862126905132,
          -0.08737968728129,
          -0.23774797388419,
          0.051554101536540005,
          -0.29146338323662,
          -0.04119497802042,
          0.21469024073044,
          0.03457856556563,
          -0.37170686514781,
          -0.004755594617378289,
          0.27595679902985,
          -0.13939355542239001,
          -0.13355323989209,
          0.13783199943169,
          0.15497254772012,
          -0.00884187168161965,
          -0.12210943877198001,
          0.01770692890692,
          0.07777533742503,
          0.27419555216865,
          -0.3291569146486,
          0.29258401754004,
          -0.05649112432281,
          -0.01924845579204,
          -0.09969106334127001,
          -0.22475744148874,
          -0.15707254547429,
          -0.016369449347830002,
          0.11735446906646001,
          0.028190202129469998,
          -0.04411964571352,
          0.21360521632875998,
          -0.08119317339975,
          0.2656036490928,
          -0.14916207164716,
          0.07635069587543,
          -0.14842758928698999
         ],
         "yaxis": "y"
        },
        {
         "hovertemplate": "variable=ETHUSD<br>Date=%{x}<br>value=%{y}<extra></extra>",
         "legendgroup": "ETHUSD",
         "line": {
          "color": "#EF553B",
          "dash": "solid"
         },
         "marker": {
          "symbol": "circle"
         },
         "mode": "lines",
         "name": "ETHUSD",
         "orientation": "v",
         "showlegend": true,
         "type": "scatter",
         "x": [
          "2024-09-25T01:00:00",
          "2024-09-25T02:00:00",
          "2024-09-25T03:00:00",
          "2024-09-25T04:00:00",
          "2024-09-25T05:00:00",
          "2024-09-25T06:00:00",
          "2024-09-25T07:00:00",
          "2024-09-25T08:00:00",
          "2024-09-25T09:00:00",
          "2024-09-25T10:00:00",
          "2024-09-25T11:00:00",
          "2024-09-25T12:00:00",
          "2024-09-25T13:00:00",
          "2024-09-25T14:00:00",
          "2024-09-25T15:00:00",
          "2024-09-25T16:00:00",
          "2024-09-25T17:00:00",
          "2024-09-25T18:00:00",
          "2024-09-25T19:00:00",
          "2024-09-25T20:00:00",
          "2024-09-25T21:00:00",
          "2024-09-25T22:00:00",
          "2024-09-25T23:00:00",
          "2024-09-26T00:00:00",
          "2024-09-26T01:00:00",
          "2024-09-26T02:00:00",
          "2024-09-26T03:00:00",
          "2024-09-26T04:00:00",
          "2024-09-26T05:00:00",
          "2024-09-26T06:00:00",
          "2024-09-26T07:00:00",
          "2024-09-26T08:00:00",
          "2024-09-26T09:00:00",
          "2024-09-26T10:00:00",
          "2024-09-26T11:00:00",
          "2024-09-26T12:00:00",
          "2024-09-26T13:00:00",
          "2024-09-26T14:00:00",
          "2024-09-26T15:00:00",
          "2024-09-26T16:00:00",
          "2024-09-26T17:00:00",
          "2024-09-26T18:00:00",
          "2024-09-26T19:00:00",
          "2024-09-26T20:00:00",
          "2024-09-26T21:00:00",
          "2024-09-26T22:00:00",
          "2024-09-26T23:00:00",
          "2024-09-27T00:00:00",
          "2024-09-27T01:00:00",
          "2024-09-27T02:00:00",
          "2024-09-27T03:00:00",
          "2024-09-27T04:00:00",
          "2024-09-27T05:00:00",
          "2024-09-27T06:00:00",
          "2024-09-27T07:00:00",
          "2024-09-27T08:00:00",
          "2024-09-27T09:00:00",
          "2024-09-27T10:00:00",
          "2024-09-27T11:00:00",
          "2024-09-27T12:00:00",
          "2024-09-27T13:00:00",
          "2024-09-27T14:00:00",
          "2024-09-27T15:00:00",
          "2024-09-27T16:00:00",
          "2024-09-27T17:00:00",
          "2024-09-27T18:00:00",
          "2024-09-27T19:00:00",
          "2024-09-27T20:00:00",
          "2024-09-27T21:00:00",
          "2024-09-27T22:00:00",
          "2024-09-27T23:00:00",
          "2024-09-28T00:00:00",
          "2024-09-28T01:00:00",
          "2024-09-28T02:00:00",
          "2024-09-28T03:00:00",
          "2024-09-28T04:00:00",
          "2024-09-28T05:00:00",
          "2024-09-28T06:00:00",
          "2024-09-28T07:00:00",
          "2024-09-28T08:00:00",
          "2024-09-28T09:00:00",
          "2024-09-28T10:00:00",
          "2024-09-28T11:00:00",
          "2024-09-28T12:00:00",
          "2024-09-28T13:00:00",
          "2024-09-28T14:00:00",
          "2024-09-28T15:00:00",
          "2024-09-28T16:00:00",
          "2024-09-28T17:00:00",
          "2024-09-28T18:00:00",
          "2024-09-28T19:00:00",
          "2024-09-28T20:00:00",
          "2024-09-28T21:00:00",
          "2024-09-28T22:00:00",
          "2024-09-28T23:00:00",
          "2024-09-29T00:00:00",
          "2024-09-29T01:00:00",
          "2024-09-29T02:00:00",
          "2024-09-29T03:00:00",
          "2024-09-29T04:00:00",
          "2024-09-29T05:00:00",
          "2024-09-29T06:00:00",
          "2024-09-29T07:00:00",
          "2024-09-29T08:00:00",
          "2024-09-29T09:00:00",
          "2024-09-29T10:00:00",
          "2024-09-29T11:00:00",
          "2024-09-29T12:00:00",
          "2024-09-29T13:00:00",
          "2024-09-29T14:00:00",
          "2024-09-29T15:00:00",
          "2024-09-29T16:00:00"
         ],
         "xaxis": "x",
         "y": [
          0.54149130156408,
          -0.20862397049585002,
          -0.07392746405751,
          -0.74631657609949,
          -0.06770645589049999,
          -0.26393085169811,
          0.23730369286327,
          0.033634189530460004,
          -0.17119301328629,
          0.03277680162703,
          0.23284580699187,
          -0.28413676290934,
          -0.07194947862487,
          0.29594103373737,
          -0.9807204080275901,
          -0.004751317809925659,
          -0.94022342208609,
          0.21603851343889002,
          -0.28784028505931,
          0.23192354339862,
          0.08578578558682,
          -0.39264610776613,
          0.30049191167709,
          -0.28776019642884,
          0.55116237898855,
          0.40013375238889,
          0.17669803169564,
          -0.19058775273057,
          0.58529676741041,
          0.16714009157596,
          0.62055154640858,
          -0.46975101248317996,
          -0.02339336293945,
          0.37384069717718,
          -0.02290303703,
          0.1321453106065,
          -0.4785001052984,
          0.052501497812170006,
          1.28540675462327,
          0.02051346773548,
          -0.8690684206407,
          0.95373795697082,
          -0.26555303975337,
          -0.59780442303585,
          0.20758886836442,
          -0.09529084150573,
          -0.166040696082,
          0.31263709407400003,
          -0.51016417306286,
          -0.29453472797055,
          0.7164449491772801,
          0.29135999121931,
          0.32461888032645997,
          0.05847025370682,
          0.16164835172915998,
          0.24484824300573999,
          -0.08369636547937,
          -0.77639299103124,
          0.33910979845581,
          0.23429771381644002,
          0.07637413999899,
          0.86581520388342,
          0.0365660379006,
          1.26675012557024,
          -0.69162261811669,
          -0.009059579483616798,
          -0.08546796786794,
          -0.03537664772008,
          -0.041599698997420005,
          0.40594473876742,
          -0.39684361660796,
          0.03969394995555,
          0.03492550673669,
          0.14493821212344,
          -0.38642747917495,
          0.10824169030485001,
          -0.31388047078627,
          -0.18775953289827,
          -0.051966654638859994,
          -0.45615200158332,
          0.10523278634741999,
          0.16708352200944,
          0.038816445319200005,
          -0.6013119467015701,
          0.04011024855867,
          0.47849621087641003,
          -0.1159285223438,
          -0.15377236989309,
          0.37879100081523,
          0.03233328832461,
          0.04700674474735,
          -0.05968346160065,
          -0.21794234803257,
          0.24651941138107,
          0.03478914268699,
          -0.33987609709495,
          0.24898020561630002,
          0.01969011158582,
          -0.02775047632844,
          -0.16893069507137,
          -0.1808797268185,
          -0.5669269996327899,
          -0.42082315794553005,
          0.22936233737431,
          0.07165645720548,
          -0.059950639840759996,
          0.24717949030207997,
          -0.22993998000530003,
          0.37257074923895,
          -0.13242003425331,
          0.50028181975039,
          -0.48065970530818003
         ],
         "yaxis": "y"
        },
        {
         "mode": "lines",
         "name": "BTCUSD Sentiment",
         "type": "scatter",
         "x": [
          "2024-09-25T02:00:00",
          "2024-09-25T04:00:00",
          "2024-09-25T07:00:00",
          "2024-09-25T21:00:00",
          "2024-09-25T22:00:00",
          "2024-09-26T02:00:00",
          "2024-09-26T03:00:00",
          "2024-09-26T04:00:00",
          "2024-09-26T05:00:00",
          "2024-09-26T07:00:00",
          "2024-09-26T08:00:00",
          "2024-09-26T09:00:00",
          "2024-09-26T10:00:00",
          "2024-09-26T11:00:00",
          "2024-09-26T13:00:00",
          "2024-09-26T16:00:00",
          "2024-09-26T18:00:00",
          "2024-09-26T22:00:00",
          "2024-09-26T23:00:00",
          "2024-09-27T01:00:00",
          "2024-09-27T02:00:00",
          "2024-09-27T04:00:00",
          "2024-09-27T05:00:00",
          "2024-09-27T07:00:00",
          "2024-09-27T08:00:00",
          "2024-09-27T09:00:00",
          "2024-09-27T10:00:00",
          "2024-09-27T11:00:00",
          "2024-09-27T12:00:00",
          "2024-09-27T13:00:00",
          "2024-09-27T14:00:00",
          "2024-09-27T15:00:00",
          "2024-09-27T16:00:00",
          "2024-09-27T17:00:00",
          "2024-09-28T03:00:00",
          "2024-09-28T04:00:00",
          "2024-09-28T09:00:00"
         ],
         "y": [
          -0.8831129670143127,
          -0.9441795945167542,
          -0.925581157207489,
          -0.7077257037162781,
          -0.5378301739692688,
          0.9349277019500732,
          -0.739579975605011,
          -0.4957813620567322,
          -0.900227427482605,
          -0.7555042505264282,
          0.4055251876513163,
          -0.5265571475028992,
          -0.9085069298744202,
          0.3320220708847046,
          0.5137980580329895,
          0.068791776895523,
          0.9200531840324402,
          -0.8462622165679932,
          -0.7560116052627563,
          0.8376896977424622,
          -0.0136171877384185,
          0.1346222758293151,
          -0.0020237863063811,
          0.6984278559684753,
          0.7496466040611267,
          -0.3450675408045451,
          0.3245728015899658,
          -0.6801285743713379,
          -0.9205477237701416,
          -0.7216822504997253,
          0.8855182528495789,
          -0.8156685829162598,
          -0.9402915835380554,
          -0.2312120596567789,
          -0.8480476140975952,
          -0.8754199147224426,
          -0.0766619145870208
         ]
        },
        {
         "mode": "lines",
         "name": "ETHUSD Sentiment",
         "type": "scatter",
         "x": [
          "2024-09-25T02:00:00",
          "2024-09-25T04:00:00",
          "2024-09-25T07:00:00",
          "2024-09-25T21:00:00",
          "2024-09-25T22:00:00",
          "2024-09-26T02:00:00",
          "2024-09-26T03:00:00",
          "2024-09-26T04:00:00",
          "2024-09-26T05:00:00",
          "2024-09-26T07:00:00",
          "2024-09-26T08:00:00",
          "2024-09-26T09:00:00",
          "2024-09-26T10:00:00",
          "2024-09-26T11:00:00",
          "2024-09-26T13:00:00",
          "2024-09-26T16:00:00",
          "2024-09-26T18:00:00",
          "2024-09-26T22:00:00",
          "2024-09-26T23:00:00",
          "2024-09-27T01:00:00",
          "2024-09-27T02:00:00",
          "2024-09-27T04:00:00",
          "2024-09-27T05:00:00",
          "2024-09-27T07:00:00",
          "2024-09-27T08:00:00",
          "2024-09-27T09:00:00",
          "2024-09-27T10:00:00",
          "2024-09-27T11:00:00",
          "2024-09-27T12:00:00",
          "2024-09-27T13:00:00",
          "2024-09-27T14:00:00",
          "2024-09-27T15:00:00",
          "2024-09-27T16:00:00",
          "2024-09-27T17:00:00",
          "2024-09-28T03:00:00",
          "2024-09-28T04:00:00",
          "2024-09-28T09:00:00"
         ],
         "y": [
          0,
          -0.8623444437980652,
          0,
          -0.5323384404182434,
          -0.5378301739692688,
          0.9349277019500732,
          -0.739579975605011,
          -0.616282045841217,
          -0.900227427482605,
          -0.6913645565509796,
          0.4055251876513163,
          -0.5265571475028992,
          -0.9092540740966796,
          0.3320220708847046,
          0.5137980580329895,
          0.068791776895523,
          0.9200531840324402,
          -0.8462622165679932,
          -0.7560116052627563,
          0.8376896977424622,
          -0.0136171877384185,
          0.7955206036567688,
          -0.0020237863063811,
          0,
          0.7496466040611267,
          -0.3456127444903056,
          0.3245728015899658,
          -0.6801285743713379,
          -0.9205477237701416,
          -0.7216822504997253,
          0.8855182528495789,
          -0.8156685829162598,
          -0.9402915835380554,
          -0.6921812295913696,
          -0.8480476140975952,
          -0.8754199147224426,
          -0.0766619145870208
         ]
        }
       ],
       "layout": {
        "legend": {
         "title": {
          "text": "variable"
         },
         "tracegroupgap": 0
        },
        "template": {
         "data": {
          "bar": [
           {
            "error_x": {
             "color": "#2a3f5f"
            },
            "error_y": {
             "color": "#2a3f5f"
            },
            "marker": {
             "line": {
              "color": "#E5ECF6",
              "width": 0.5
             },
             "pattern": {
              "fillmode": "overlay",
              "size": 10,
              "solidity": 0.2
             }
            },
            "type": "bar"
           }
          ],
          "barpolar": [
           {
            "marker": {
             "line": {
              "color": "#E5ECF6",
              "width": 0.5
             },
             "pattern": {
              "fillmode": "overlay",
              "size": 10,
              "solidity": 0.2
             }
            },
            "type": "barpolar"
           }
          ],
          "carpet": [
           {
            "aaxis": {
             "endlinecolor": "#2a3f5f",
             "gridcolor": "white",
             "linecolor": "white",
             "minorgridcolor": "white",
             "startlinecolor": "#2a3f5f"
            },
            "baxis": {
             "endlinecolor": "#2a3f5f",
             "gridcolor": "white",
             "linecolor": "white",
             "minorgridcolor": "white",
             "startlinecolor": "#2a3f5f"
            },
            "type": "carpet"
           }
          ],
          "choropleth": [
           {
            "colorbar": {
             "outlinewidth": 0,
             "ticks": ""
            },
            "type": "choropleth"
           }
          ],
          "contour": [
           {
            "colorbar": {
             "outlinewidth": 0,
             "ticks": ""
            },
            "colorscale": [
             [
              0,
              "#0d0887"
             ],
             [
              0.1111111111111111,
              "#46039f"
             ],
             [
              0.2222222222222222,
              "#7201a8"
             ],
             [
              0.3333333333333333,
              "#9c179e"
             ],
             [
              0.4444444444444444,
              "#bd3786"
             ],
             [
              0.5555555555555556,
              "#d8576b"
             ],
             [
              0.6666666666666666,
              "#ed7953"
             ],
             [
              0.7777777777777778,
              "#fb9f3a"
             ],
             [
              0.8888888888888888,
              "#fdca26"
             ],
             [
              1,
              "#f0f921"
             ]
            ],
            "type": "contour"
           }
          ],
          "contourcarpet": [
           {
            "colorbar": {
             "outlinewidth": 0,
             "ticks": ""
            },
            "type": "contourcarpet"
           }
          ],
          "heatmap": [
           {
            "colorbar": {
             "outlinewidth": 0,
             "ticks": ""
            },
            "colorscale": [
             [
              0,
              "#0d0887"
             ],
             [
              0.1111111111111111,
              "#46039f"
             ],
             [
              0.2222222222222222,
              "#7201a8"
             ],
             [
              0.3333333333333333,
              "#9c179e"
             ],
             [
              0.4444444444444444,
              "#bd3786"
             ],
             [
              0.5555555555555556,
              "#d8576b"
             ],
             [
              0.6666666666666666,
              "#ed7953"
             ],
             [
              0.7777777777777778,
              "#fb9f3a"
             ],
             [
              0.8888888888888888,
              "#fdca26"
             ],
             [
              1,
              "#f0f921"
             ]
            ],
            "type": "heatmap"
           }
          ],
          "heatmapgl": [
           {
            "colorbar": {
             "outlinewidth": 0,
             "ticks": ""
            },
            "colorscale": [
             [
              0,
              "#0d0887"
             ],
             [
              0.1111111111111111,
              "#46039f"
             ],
             [
              0.2222222222222222,
              "#7201a8"
             ],
             [
              0.3333333333333333,
              "#9c179e"
             ],
             [
              0.4444444444444444,
              "#bd3786"
             ],
             [
              0.5555555555555556,
              "#d8576b"
             ],
             [
              0.6666666666666666,
              "#ed7953"
             ],
             [
              0.7777777777777778,
              "#fb9f3a"
             ],
             [
              0.8888888888888888,
              "#fdca26"
             ],
             [
              1,
              "#f0f921"
             ]
            ],
            "type": "heatmapgl"
           }
          ],
          "histogram": [
           {
            "marker": {
             "pattern": {
              "fillmode": "overlay",
              "size": 10,
              "solidity": 0.2
             }
            },
            "type": "histogram"
           }
          ],
          "histogram2d": [
           {
            "colorbar": {
             "outlinewidth": 0,
             "ticks": ""
            },
            "colorscale": [
             [
              0,
              "#0d0887"
             ],
             [
              0.1111111111111111,
              "#46039f"
             ],
             [
              0.2222222222222222,
              "#7201a8"
             ],
             [
              0.3333333333333333,
              "#9c179e"
             ],
             [
              0.4444444444444444,
              "#bd3786"
             ],
             [
              0.5555555555555556,
              "#d8576b"
             ],
             [
              0.6666666666666666,
              "#ed7953"
             ],
             [
              0.7777777777777778,
              "#fb9f3a"
             ],
             [
              0.8888888888888888,
              "#fdca26"
             ],
             [
              1,
              "#f0f921"
             ]
            ],
            "type": "histogram2d"
           }
          ],
          "histogram2dcontour": [
           {
            "colorbar": {
             "outlinewidth": 0,
             "ticks": ""
            },
            "colorscale": [
             [
              0,
              "#0d0887"
             ],
             [
              0.1111111111111111,
              "#46039f"
             ],
             [
              0.2222222222222222,
              "#7201a8"
             ],
             [
              0.3333333333333333,
              "#9c179e"
             ],
             [
              0.4444444444444444,
              "#bd3786"
             ],
             [
              0.5555555555555556,
              "#d8576b"
             ],
             [
              0.6666666666666666,
              "#ed7953"
             ],
             [
              0.7777777777777778,
              "#fb9f3a"
             ],
             [
              0.8888888888888888,
              "#fdca26"
             ],
             [
              1,
              "#f0f921"
             ]
            ],
            "type": "histogram2dcontour"
           }
          ],
          "mesh3d": [
           {
            "colorbar": {
             "outlinewidth": 0,
             "ticks": ""
            },
            "type": "mesh3d"
           }
          ],
          "parcoords": [
           {
            "line": {
             "colorbar": {
              "outlinewidth": 0,
              "ticks": ""
             }
            },
            "type": "parcoords"
           }
          ],
          "pie": [
           {
            "automargin": true,
            "type": "pie"
           }
          ],
          "scatter": [
           {
            "fillpattern": {
             "fillmode": "overlay",
             "size": 10,
             "solidity": 0.2
            },
            "type": "scatter"
           }
          ],
          "scatter3d": [
           {
            "line": {
             "colorbar": {
              "outlinewidth": 0,
              "ticks": ""
             }
            },
            "marker": {
             "colorbar": {
              "outlinewidth": 0,
              "ticks": ""
             }
            },
            "type": "scatter3d"
           }
          ],
          "scattercarpet": [
           {
            "marker": {
             "colorbar": {
              "outlinewidth": 0,
              "ticks": ""
             }
            },
            "type": "scattercarpet"
           }
          ],
          "scattergeo": [
           {
            "marker": {
             "colorbar": {
              "outlinewidth": 0,
              "ticks": ""
             }
            },
            "type": "scattergeo"
           }
          ],
          "scattergl": [
           {
            "marker": {
             "colorbar": {
              "outlinewidth": 0,
              "ticks": ""
             }
            },
            "type": "scattergl"
           }
          ],
          "scattermapbox": [
           {
            "marker": {
             "colorbar": {
              "outlinewidth": 0,
              "ticks": ""
             }
            },
            "type": "scattermapbox"
           }
          ],
          "scatterpolar": [
           {
            "marker": {
             "colorbar": {
              "outlinewidth": 0,
              "ticks": ""
             }
            },
            "type": "scatterpolar"
           }
          ],
          "scatterpolargl": [
           {
            "marker": {
             "colorbar": {
              "outlinewidth": 0,
              "ticks": ""
             }
            },
            "type": "scatterpolargl"
           }
          ],
          "scatterternary": [
           {
            "marker": {
             "colorbar": {
              "outlinewidth": 0,
              "ticks": ""
             }
            },
            "type": "scatterternary"
           }
          ],
          "surface": [
           {
            "colorbar": {
             "outlinewidth": 0,
             "ticks": ""
            },
            "colorscale": [
             [
              0,
              "#0d0887"
             ],
             [
              0.1111111111111111,
              "#46039f"
             ],
             [
              0.2222222222222222,
              "#7201a8"
             ],
             [
              0.3333333333333333,
              "#9c179e"
             ],
             [
              0.4444444444444444,
              "#bd3786"
             ],
             [
              0.5555555555555556,
              "#d8576b"
             ],
             [
              0.6666666666666666,
              "#ed7953"
             ],
             [
              0.7777777777777778,
              "#fb9f3a"
             ],
             [
              0.8888888888888888,
              "#fdca26"
             ],
             [
              1,
              "#f0f921"
             ]
            ],
            "type": "surface"
           }
          ],
          "table": [
           {
            "cells": {
             "fill": {
              "color": "#EBF0F8"
             },
             "line": {
              "color": "white"
             }
            },
            "header": {
             "fill": {
              "color": "#C8D4E3"
             },
             "line": {
              "color": "white"
             }
            },
            "type": "table"
           }
          ]
         },
         "layout": {
          "annotationdefaults": {
           "arrowcolor": "#2a3f5f",
           "arrowhead": 0,
           "arrowwidth": 1
          },
          "autotypenumbers": "strict",
          "coloraxis": {
           "colorbar": {
            "outlinewidth": 0,
            "ticks": ""
           }
          },
          "colorscale": {
           "diverging": [
            [
             0,
             "#8e0152"
            ],
            [
             0.1,
             "#c51b7d"
            ],
            [
             0.2,
             "#de77ae"
            ],
            [
             0.3,
             "#f1b6da"
            ],
            [
             0.4,
             "#fde0ef"
            ],
            [
             0.5,
             "#f7f7f7"
            ],
            [
             0.6,
             "#e6f5d0"
            ],
            [
             0.7,
             "#b8e186"
            ],
            [
             0.8,
             "#7fbc41"
            ],
            [
             0.9,
             "#4d9221"
            ],
            [
             1,
             "#276419"
            ]
           ],
           "sequential": [
            [
             0,
             "#0d0887"
            ],
            [
             0.1111111111111111,
             "#46039f"
            ],
            [
             0.2222222222222222,
             "#7201a8"
            ],
            [
             0.3333333333333333,
             "#9c179e"
            ],
            [
             0.4444444444444444,
             "#bd3786"
            ],
            [
             0.5555555555555556,
             "#d8576b"
            ],
            [
             0.6666666666666666,
             "#ed7953"
            ],
            [
             0.7777777777777778,
             "#fb9f3a"
            ],
            [
             0.8888888888888888,
             "#fdca26"
            ],
            [
             1,
             "#f0f921"
            ]
           ],
           "sequentialminus": [
            [
             0,
             "#0d0887"
            ],
            [
             0.1111111111111111,
             "#46039f"
            ],
            [
             0.2222222222222222,
             "#7201a8"
            ],
            [
             0.3333333333333333,
             "#9c179e"
            ],
            [
             0.4444444444444444,
             "#bd3786"
            ],
            [
             0.5555555555555556,
             "#d8576b"
            ],
            [
             0.6666666666666666,
             "#ed7953"
            ],
            [
             0.7777777777777778,
             "#fb9f3a"
            ],
            [
             0.8888888888888888,
             "#fdca26"
            ],
            [
             1,
             "#f0f921"
            ]
           ]
          },
          "colorway": [
           "#636efa",
           "#EF553B",
           "#00cc96",
           "#ab63fa",
           "#FFA15A",
           "#19d3f3",
           "#FF6692",
           "#B6E880",
           "#FF97FF",
           "#FECB52"
          ],
          "font": {
           "color": "#2a3f5f"
          },
          "geo": {
           "bgcolor": "white",
           "lakecolor": "white",
           "landcolor": "#E5ECF6",
           "showlakes": true,
           "showland": true,
           "subunitcolor": "white"
          },
          "hoverlabel": {
           "align": "left"
          },
          "hovermode": "closest",
          "mapbox": {
           "style": "light"
          },
          "paper_bgcolor": "white",
          "plot_bgcolor": "#E5ECF6",
          "polar": {
           "angularaxis": {
            "gridcolor": "white",
            "linecolor": "white",
            "ticks": ""
           },
           "bgcolor": "#E5ECF6",
           "radialaxis": {
            "gridcolor": "white",
            "linecolor": "white",
            "ticks": ""
           }
          },
          "scene": {
           "xaxis": {
            "backgroundcolor": "#E5ECF6",
            "gridcolor": "white",
            "gridwidth": 2,
            "linecolor": "white",
            "showbackground": true,
            "ticks": "",
            "zerolinecolor": "white"
           },
           "yaxis": {
            "backgroundcolor": "#E5ECF6",
            "gridcolor": "white",
            "gridwidth": 2,
            "linecolor": "white",
            "showbackground": true,
            "ticks": "",
            "zerolinecolor": "white"
           },
           "zaxis": {
            "backgroundcolor": "#E5ECF6",
            "gridcolor": "white",
            "gridwidth": 2,
            "linecolor": "white",
            "showbackground": true,
            "ticks": "",
            "zerolinecolor": "white"
           }
          },
          "shapedefaults": {
           "line": {
            "color": "#2a3f5f"
           }
          },
          "ternary": {
           "aaxis": {
            "gridcolor": "white",
            "linecolor": "white",
            "ticks": ""
           },
           "baxis": {
            "gridcolor": "white",
            "linecolor": "white",
            "ticks": ""
           },
           "bgcolor": "#E5ECF6",
           "caxis": {
            "gridcolor": "white",
            "linecolor": "white",
            "ticks": ""
           }
          },
          "title": {
           "x": 0.05
          },
          "xaxis": {
           "automargin": true,
           "gridcolor": "white",
           "linecolor": "white",
           "ticks": "",
           "title": {
            "standoff": 15
           },
           "zerolinecolor": "white",
           "zerolinewidth": 2
          },
          "yaxis": {
           "automargin": true,
           "gridcolor": "white",
           "linecolor": "white",
           "ticks": "",
           "title": {
            "standoff": 15
           },
           "zerolinecolor": "white",
           "zerolinewidth": 2
          }
         }
        },
        "title": {
         "text": "Hourly returns and sentiments"
        },
        "xaxis": {
         "anchor": "y",
         "domain": [
          0,
          1
         ],
         "title": {
          "text": "Date"
         }
        },
        "yaxis": {
         "anchor": "x",
         "domain": [
          0,
          1
         ],
         "title": {
          "text": "value"
         }
        }
       }
      }
     },
     "metadata": {},
     "output_type": "display_data"
    }
   ],
   "source": [
    "#plot the hourly returns and sentiments on the same graph\n",
    "fig = px.line(hourly_returns*100, title='Hourly returns and sentiments')\n",
    "fig.add_scatter(x=hourly_sentiments.index, y=hourly_sentiments['BTCUSD'], mode='lines', name='BTCUSD Sentiment')\n",
    "fig.add_scatter(x=hourly_sentiments.index, y=hourly_sentiments['ETHUSD'], mode='lines', name='ETHUSD Sentiment')\n",
    "fig.show()"
   ]
  },
  {
   "cell_type": "markdown",
   "metadata": {},
   "source": [
    "From the chart above, no correlation is observed between the sentiment and the returns. "
   ]
  },
  {
   "cell_type": "code",
   "execution_count": 25,
   "metadata": {},
   "outputs": [
    {
     "name": "stdout",
     "output_type": "stream",
     "text": [
      "BTCUSD: 0.08\n",
      "ETHUSD: 0.04\n"
     ]
    }
   ],
   "source": [
    "for ticker in tickers:\n",
    "    correlation = hourly_returns[ticker].corr(hourly_sentiments[ticker])\n",
    "    print(f'{ticker}: {correlation:.2f}')"
   ]
  },
  {
   "cell_type": "markdown",
   "metadata": {},
   "source": [
    "This confirms the absence of correlation between the sentiment and the returns. "
   ]
  },
  {
   "cell_type": "code",
   "execution_count": 36,
   "metadata": {},
   "outputs": [
    {
     "data": {
      "image/png": "[encoded data removed]",
      "text/plain": [
       "<Figure size 640x480 with 1 Axes>"
      ]
     },
     "metadata": {},
     "output_type": "display_data"
    }
   ],
   "source": [
    "from statsmodels.tsa.stattools import ccf\n",
    "\n",
    "data = hourly_returns.join(hourly_sentiments, how='inner', lsuffix=\"_return\", rsuffix=\"_sentiment\")\n",
    "\n",
    "for ticker in tickers:\n",
    "    #inner join the two dataframes\n",
    "    cross_correlation = ccf(data[ticker+\"_return\"], data[ticker+\"_sentiment\"], nlags=10)\n",
    "    plt.plot(cross_correlation, label=ticker)\n",
    "\n",
    "plt.axhline(0, color='black', linestyle='--', linewidth=1)\n",
    "plt.xlabel('Lag')\n",
    "plt.ylabel('Cross-Correlation')\n",
    "plt.legend()\n",
    "plt.title('Cross-Correlation between Returns and Sentiment')\n",
    "plt.show()"
   ]
  },
  {
   "cell_type": "markdown",
   "metadata": {},
   "source": [
    "Even with lags, the correlation is not significant. This means that the sentiment of the news is not a good predictor of the returns, even in the case where the market would react with a delay to the news."
   ]
  },
  {
   "cell_type": "code",
   "execution_count": 27,
   "metadata": {},
   "outputs": [
    {
     "name": "stdout",
     "output_type": "stream",
     "text": [
      "BTCUSD: score=-7.20, p-value=0.00\n",
      "ETHUSD: score=-6.41, p-value=0.00\n"
     ]
    }
   ],
   "source": [
    "from statsmodels.tsa.stattools import coint\n",
    "\n",
    "for ticker in tickers:\n",
    "    result = coint(data[ticker+\"_return\"], data[ticker+\"_sentiment\"])\n",
    "    print(f'{ticker}: score={result[0]:.2f}, p-value={result[1]:.2f}') "
   ]
  },
  {
   "cell_type": "markdown",
   "metadata": {},
   "source": [
    "From the cointegration test, the return and sentiment time series seem to be cointegrated for both cryptocurrencies. This is surprising as the returns and sentiment are not correlated and should be confirmed by further analysis."
   ]
  },
  {
   "cell_type": "markdown",
   "metadata": {},
   "source": [
    "I am strongly limited by the quantity of data I can handle. To deal with this, I have focused my analysis on a couple of hours. As we have seen, it seems that no clear relationship between financial news and crypto returns can be observed in this short time frame. However, market sentiments may have a long-term relationship with returns. It would be interesting to a daily or weekly window with a longer history to assess a potential relationship."
   ]
  },
  {
   "cell_type": "markdown",
   "metadata": {},
   "source": [
    "# Improvements\n"
   ]
  },
  {
   "cell_type": "markdown",
   "metadata": {},
   "source": [
    "Use more data to to analyze a longer period of time and potnetially observing a long-term relationship between returns and sentiment. It might also be interesting to test with different cryptocurrencies or stocks."
   ]
  },
  {
   "cell_type": "markdown",
   "metadata": {},
   "source": [
    "Use tweepy to get the tweets and the sentiment analysis. See the following model in case of using tweets: StephanAkkerman/FinTwitBERT\n",
    "\n",
    "```python\n",
    "import tweepy\n",
    "import pandas as pd\n",
    "\n",
    "# Authenticate to Twitter\n",
    "auth = tweepy.OAuth1UserHandler(consumer_key, consumer_secret, access_token, access_token_secret)\n",
    "api = tweepy.API(auth)\n",
    "\n",
    "def fetch_tweets(stock_ticker, count=100):\n",
    "    query = f\"${stock_ticker} OR {stock_ticker}\"  # Use $ for stock symbols\n",
    "    tweets = api.search(q=query, count=count, lang='en', tweet_mode='extended')\n",
    "    \n",
    "    data = []\n",
    "    for tweet in tweets:\n",
    "        data.append({\n",
    "            'text': tweet.full_text,\n",
    "            'created_at': tweet.created_at,\n",
    "            'user': tweet.user.screen_name,\n",
    "            'sentiment': None  # Placeholder for sentiment later\n",
    "        })\n",
    "    \n",
    "    return pd.DataFrame(data)\n",
    "```"
   ]
  },
  {
   "cell_type": "markdown",
   "metadata": {},
   "source": [
    "sentiment analysis with nltk: https://medium.com/@deepml1818/financial-sentiment-analysis-and-stock-information-retrieval-with-python-a1d6e821deb6\n",
    "\n",
    "ML on sentiment analysis (with data): https://www.kaggle.com/code/chibss/financial-sentiment-analysis/notebook\n",
    "\n",
    "terminal open-source: https://github.com/OpenBB-finance/OpenBB\n",
    "\n",
    "example of sentiment analysis: https://github.com/SaloniJhalani/Stock-Market-Live-Sentiment/blob/main/update_sentiment_page.py\n",
    "\n"
   ]
  }
 ],
 "metadata": {
  "kernelspec": {
   "display_name": "base",
   "language": "python",
   "name": "python3"
  },
  "language_info": {
   "codemirror_mode": {
    "name": "ipython",
    "version": 3
   },
   "file_extension": ".py",
   "mimetype": "text/x-python",
   "name": "python",
   "nbconvert_exporter": "python",
   "pygments_lexer": "ipython3",
   "version": "3.12.3"
  }
 },
 "nbformat": 4,
 "nbformat_minor": 2
}
