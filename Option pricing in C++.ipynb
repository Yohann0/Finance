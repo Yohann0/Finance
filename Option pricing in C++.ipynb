{
 "cells": [
  {
   "cell_type": "markdown",
   "metadata": {},
   "source": [
    "### How to install C++ kernel in Jupyter? \n",
    "1. Install miniconda\n",
    "2. Create a new environment: ```conda create -n cpp_env```\n",
    "<!-- (3. Initialise the environment: ```conda init```) -->\n",
    "4. Activate the environment: ```conda activate cpp_env```\n",
    "5. Install xeus-cling: ```conda install jupyter xeus-cling -c conda-forge```\n",
    "<!--6. Launch Jupyter: ```jupyter notebook --no-browser```\n",
    "7. Change kernel, select another kernel, existing jupyter server and copy-paste (if needed) the url provided in the terminal -->\n",
    "8. Change kernel and select a C++ kernel"
   ]
  },
  {
   "cell_type": "markdown",
   "metadata": {},
   "source": [
    "# Option pricing"
   ]
  },
  {
   "cell_type": "markdown",
   "metadata": {},
   "source": [
    "This notebook presents different methods to calculate option prices. \\\n",
    "For the moment, it only supports European and American options. "
   ]
  },
  {
   "cell_type": "code",
   "execution_count": 1,
   "metadata": {
    "vscode": {
     "languageId": "cpp"
    }
   },
   "outputs": [],
   "source": [
    "#include <cmath>\n",
    "#include <iostream>\n",
    "#include <string>\n",
    "#include <algorithm>\n",
    "#include <stdexcept>\n",
    "#include <random>\n",
    "using namespace std;"
   ]
  },
  {
   "cell_type": "code",
   "execution_count": 2,
   "metadata": {
    "vscode": {
     "languageId": "cpp"
    }
   },
   "outputs": [],
   "source": [
    "double St=100;\n",
    "double K=100;\n",
    "double T=1.;\n",
    "double t=0;\n",
    "double r=.05;\n",
    "double q=0.5;\n",
    "double sigma=.2;"
   ]
  },
  {
   "cell_type": "markdown",
   "metadata": {},
   "source": [
    "### Black-Scholes\n",
    "$$C(S_t, t) = N(d_+)S_t e^{-q(T - t)} - N(d_-)Ke^{-r(T - t)}$$\n",
    "$$d_+ = \\frac{1}{\\sigma\\sqrt{T - t}}\\left[\\ln\\left(\\frac{S_t}{K}\\right) + \\left(r-q + \\frac{\\sigma^2}{2}\\right)(T - t)\\right] $$\n",
    "$$     d_- = d_+ - \\sigma\\sqrt{T - t} $$"
   ]
  },
  {
   "cell_type": "code",
   "execution_count": null,
   "metadata": {
    "vscode": {
     "languageId": "cpp"
    }
   },
   "outputs": [],
   "source": [
    "/**\n",
    " * @brief Approximates the standard normal cumulative distribution function (CDF) from -∞ to a given point using the Riemann sum method.\n",
    " *\n",
    " * This function calculates the integral of the standard normal probability density function (PDF) from -50 to `b` using a Riemann sum approximation.\n",
    " * The integral is approximated by summing the area of rectangles under the curve of the standard normal PDF.\n",
    " *\n",
    " * @param b The upper limit of integration for the CDF approximation.\n",
    " * @return double The approximated value of the standard normal CDF at `b`.\n",
    " *\n",
    " * @note\n",
    " * - The lower limit of integration is fixed at -50, which is effectively -∞ for the standard normal distribution.\n",
    " * - The number of subintervals for the Riemann sum is fixed at 100,000 for accuracy.\n",
    " * - The function uses the standard normal PDF: \\( \\frac{1}{\\sqrt{2\\pi}} e^{-x^2/2} \\).\n",
    " */\n",
    "double normal_cdf_riemann(double b) {\n",
    "    // Riemann sum approximation of the normal CDF from -infinity to b\n",
    "    double a = -50; // Limit of integration\n",
    "    int n = 100000; // Number of subintervals\n",
    "    double dx = (b - a) / n;\n",
    "    double s = 0.0;\n",
    "    double x = a;\n",
    "    for (int i = 0; i < n; i++) {\n",
    "        s += exp(-pow(x, 2) / 2) * dx;\n",
    "        x += dx;\n",
    "    }\n",
    "    return s / sqrt(2 * M_PI);\n",
    "}\n"
   ]
  },
  {
   "cell_type": "code",
   "execution_count": null,
   "metadata": {
    "vscode": {
     "languageId": "cpp"
    }
   },
   "outputs": [],
   "source": [
    "/**\n",
    " * @brief Computes the price of a European call or put option using the Black-Scholes model.\n",
    " *\n",
    " * @param call_put A string indicating the type of option: \"call\" or \"put\".\n",
    " * @param sigma The volatility of the underlying asset (annualized standard deviation of returns).\n",
    " * @param K The strike price of the option.\n",
    " * @param T The time to maturity of the option (in years).\n",
    " * @param t The current time (in years).\n",
    " * @param St The current price of the underlying asset.\n",
    " * @param r The risk-free interest rate (annualized, continuously compounded).\n",
    " * @param q The dividend yield of the underlying asset (annualized, continuously compounded).\n",
    " *\n",
    " * @return double The price of the European call or put option.\n",
    " *\n",
    " * @throws runtime_error If the `call_put` parameter is not \"call\" or \"put\".\n",
    " *\n",
    " * @details\n",
    " * The Black-Scholes model is used to calculate the theoretical price of European-style options.\n",
    " * The formula for a call option is:\n",
    " * \\[\n",
    " * C = S_t e^{-q(T-t)} N(d_+) - K e^{-r(T-t)} N(d_-)\n",
    " * \\]\n",
    " * The formula for a put option is:\n",
    " * \\[\n",
    " * P = K e^{-r(T-t)} N(-d_-) - S_t e^{-q(T-t)} N(-d_+)\n",
    " * \\]\n",
    " * where:\n",
    " * \\[\n",
    " * d_+ = \\frac{\\ln(S_t/K) + (r - q + \\sigma^2/2)(T-t)}{\\sigma \\sqrt{T-t}}\n",
    " * \\]\n",
    " * \\[\n",
    " * d_- = d_+ - \\sigma \\sqrt{T-t}\n",
    " * \\]\n",
    " * and \\( N(x) \\) is the cumulative distribution function of the standard normal distribution.\n",
    " */\n",
    "double Black_Scholes(string call_put, double sigma, double K, double T, double t, double St, double r, double q) {\n",
    "    // Black-Scholes formula for European options\n",
    "    double d_plus = (log(St/K)+(r-q+pow(sigma,2)/2)*(T-t))/(sigma*sqrt(T-t));\n",
    "    double d_minus = d_plus - sigma*sqrt(T-t);\n",
    "    if(call_put==\"call\"){\n",
    "        return normal_cdf_riemann(d_plus)*St*exp(-q*(T-t))- normal_cdf_riemann(d_minus)*K*exp(-r*(T-t));\n",
    "    }\n",
    "    else if (call_put==\"put\"){\n",
    "        return -normal_cdf_riemann(-d_plus)*St*exp(-q*(T-t))+ normal_cdf_riemann(-d_minus)*K*exp(-r*(T-t));\n",
    "    }\n",
    "    else{\n",
    "        throw runtime_error(\"Please choose between call and put\");\n",
    "    }\n",
    "}\n"
   ]
  },
  {
   "cell_type": "code",
   "execution_count": 5,
   "metadata": {
    "vscode": {
     "languageId": "cpp"
    }
   },
   "outputs": [
    {
     "name": "stdout",
     "output_type": "stream",
     "text": [
      "Black-Scholes call price: 0.064067\n",
      "Black-Scholes put price: 34.533943\n"
     ]
    }
   ],
   "source": [
    "cout << \"Black-Scholes call price: \"+to_string(Black_Scholes(\"call\", sigma, K, T, t, St, r, q)) << endl;\n",
    "cout << \"Black-Scholes put price: \"+to_string(Black_Scholes(\"put\", sigma, K, T, t, St, r, q)) << endl;"
   ]
  },
  {
   "cell_type": "markdown",
   "metadata": {},
   "source": [
    "### Monte-Carlo simulation"
   ]
  },
  {
   "cell_type": "code",
   "execution_count": null,
   "metadata": {
    "vscode": {
     "languageId": "cpp"
    }
   },
   "outputs": [],
   "source": [
    "/**\n",
    " * @brief Estimates the price of a European call or put option using Monte Carlo simulation.\n",
    " *\n",
    " * @param call_put A string indicating the type of option: \"call\" or \"put\".\n",
    " * @param sigma The volatility of the underlying asset (annualized standard deviation of returns).\n",
    " * @param K The strike price of the option.\n",
    " * @param T The time to maturity of the option (in years).\n",
    " * @param t The current time (in years).\n",
    " * @param St The current price of the underlying asset.\n",
    " * @param r The risk-free interest rate (annualized, continuously compounded).\n",
    " * @param q The dividend yield of the underlying asset (annualized, continuously compounded).\n",
    " *\n",
    " * @return double The estimated price of the European call or put option, discounted to present value.\n",
    " *\n",
    " * @throws runtime_error If the `call_put` parameter is not \"call\" or \"put\".\n",
    " *\n",
    " * @details\n",
    " * This function uses a Monte Carlo simulation to estimate the price of a European option.\n",
    " * It simulates `N` paths of the underlying asset price using geometric Brownian motion:\n",
    " * \\[\n",
    " * S_{t+dt} = S_t \\exp\\left(\\left(r - q - \\frac{\\sigma^2}{2}\\right)dt + \\sigma \\sqrt{dt} \\, Z\\right)\n",
    " * \\]\n",
    " * where \\( Z \\) is a standard normal random variable.\n",
    " * The option price is estimated as the average discounted payoff across all simulated paths.\n",
    " * The number of time steps is fixed at 10, and the number of paths is fixed at 50,000.\n",
    " */\n",
    "double Monte_Carlo(string call_put, double sigma, double K, double T, double t, double St, double r, double q) {\n",
    "    // Monte Carlo simulation for European options\n",
    "    default_random_engine generator; // Create a generator\n",
    "    normal_distribution<double> distribution(0,1); // Specify the distribution\n",
    "    int n=10; // Number of time points\n",
    "    double dt=(T-t)/(n-1);\n",
    "    int N=50000; // Number of paths\n",
    "    double S[N][n];\n",
    "    for (int i=0; i<N; i++){\n",
    "      S[i][0]=St; // Initialize all the paths at St\n",
    "    }\n",
    "    for (int i = 0; i < N; i++) {\n",
    "      for (int j=1; j<n; j++){\n",
    "        S[i][j] = S[i][j-1]*exp((r-q-pow(sigma,2)/2)*dt+sigma*sqrt(dt)*distribution(generator)); // Simulate the paths\n",
    "      }\n",
    "    }\n",
    "    double payoff_sum = 0.0;\n",
    "    if (call_put==\"call\"){\n",
    "        for (int i=0; i<N; i++){\n",
    "            payoff_sum += max(S[i][n-1]-K,0.);  // Calculate the payoff for call\n",
    "        }\n",
    "    }\n",
    "    else if(call_put==\"put\"){\n",
    "        for (int i=0; i<N; i++){\n",
    "            payoff_sum += max(K-S[i][n-1],0.);  // Calculate the payoff for put\n",
    "        }\n",
    "    }\n",
    "    else{\n",
    "        throw runtime_error(\"Please choose between call and put\");\n",
    "    }\n",
    "    return payoff_sum/N*exp(-r*(T-t)); // Return the average discounted payoff\n",
    "}\n"
   ]
  },
  {
   "cell_type": "code",
   "execution_count": 7,
   "metadata": {
    "vscode": {
     "languageId": "cpp"
    }
   },
   "outputs": [
    {
     "name": "stdout",
     "output_type": "stream",
     "text": [
      "Monte-Carlo European call price: 0.063259\n",
      "Monte-Carlo European put price: 34.588330\n"
     ]
    }
   ],
   "source": [
    "cout << \"Monte-Carlo European call price: \"+to_string(Monte_Carlo(\"call\", sigma, K, T, t, St, r, q)) << endl;\n",
    "cout << \"Monte-Carlo European put price: \"+to_string(Monte_Carlo(\"put\", sigma, K, T, t, St, r, q)) << endl;"
   ]
  },
  {
   "cell_type": "markdown",
   "metadata": {},
   "source": [
    "### Tree"
   ]
  },
  {
   "cell_type": "code",
   "execution_count": null,
   "metadata": {
    "vscode": {
     "languageId": "cpp"
    }
   },
   "outputs": [],
   "source": [
    "/**\n",
    " * @brief Prices American or European call/put options using a binomial tree model.\n",
    " *\n",
    " * @param call_put A string indicating the type of option: \"call\" or \"put\".\n",
    " * @param am_eu A string indicating the exercise style: \"American\" or \"European\".\n",
    " * @param sigma The volatility of the underlying asset (annualized standard deviation of returns).\n",
    " * @param K The strike price of the option.\n",
    " * @param T The time to maturity of the option (in years).\n",
    " * @param t The current time (in years).\n",
    " * @param St The current price of the underlying asset.\n",
    " * @param r The risk-free interest rate (annualized, continuously compounded).\n",
    " * @param q The dividend yield of the underlying asset (annualized, continuously compounded).\n",
    " *\n",
    " * @return double The price of the American or European call/put option.\n",
    " *\n",
    " * @throws runtime_error If `call_put` is not \"call\" or \"put\", or if `am_eu` is not \"American\" or \"European\".\n",
    " *\n",
    " * @details\n",
    " * This function uses a binomial tree model to price options. The tree is constructed with `n` time steps.\n",
    " * The up and down factors are calculated as:\n",
    " * \\[\n",
    " * U = e^{\\sigma \\sqrt{dt}}, \\quad D = \\frac{1}{U}\n",
    " * \\]\n",
    " * where \\( dt = \\frac{T-t}{n} \\).\n",
    " * The risk-neutral probability \\( p \\) is given by:\n",
    " * \\[\n",
    " * p = \\frac{e^{(r-q)dt} - D}{U - D}\n",
    " * \\]\n",
    " * For European options, the price at each node is the discounted expected value of the option at the next time step.\n",
    " * For American options, the price at each node is the maximum of the discounted expected value and the immediate exercise value.\n",
    " * The tree recombines, resulting in \\( i+1 \\) nodes at each time step \\( i \\).\n",
    " */\n",
    "double Tree(string call_put, string am_eu, double sigma, double K, double T, double t, double St, double r, double q) {\n",
    "    // Binomial tree for American and European options\n",
    "    int n=150; // Number of time periods\n",
    "    double dt=(T-t)/n;\n",
    "    double S[n][n+1];\n",
    "    double U=exp(sigma*sqrt(dt));\n",
    "    double D=1/U;\n",
    "    S[0][0]=St; // Initialize the tree\n",
    "\n",
    "    // Build the stock price tree\n",
    "    for (int i = 0; i<n-1; i++) {\n",
    "      for (int j=0; j<i+1; j++){\n",
    "        S[i+1][j] = S[i][j]*U; // Up movement\n",
    "      }\n",
    "      S[i+1][i+1]=S[i][i]*D; // Down movement for the last node\n",
    "    }\n",
    "\n",
    "    // Initialize option prices at maturity\n",
    "    double prices[n][n+1];\n",
    "    if(call_put==\"call\"){\n",
    "      for (int j=0; j<n+1; j++) {\n",
    "        prices[n-1][j]=max(S[n-1][j]-K,0.); // Payoff at maturity for call\n",
    "      }\n",
    "    }\n",
    "    else if(call_put==\"put\"){\n",
    "      for (int j=0; j<n+1; j++) {\n",
    "        prices[n-1][j]=max(K-S[n-1][j],0.); // Payoff at maturity for put\n",
    "      }\n",
    "    }\n",
    "    else{\n",
    "        throw runtime_error(\"Please choose between call and put\");\n",
    "    }\n",
    "\n",
    "    // Risk-neutral probability\n",
    "    double p=(exp((r-q)*dt)-D)/(U-D);\n",
    "\n",
    "    // Backward induction for European options\n",
    "    if(am_eu==\"European\"){\n",
    "      for (int i = n-2; i>=0; i--) {\n",
    "        for (int j=0; j<i+1; j++) {\n",
    "          prices[i][j] = (p*prices[i+1][j]+(1-p)*prices[i+1][j+1])*exp(-r*dt);\n",
    "        }\n",
    "      }\n",
    "    }\n",
    "    // Backward induction for American options\n",
    "    else if(am_eu==\"American\"){\n",
    "      if(call_put==\"call\"){\n",
    "        for (int i = n-2; i>=0; i--) {\n",
    "          for (int j=0; j<i+1; j++) {\n",
    "            prices[i][j] = max((p*prices[i+1][j]+(1-p)*prices[i+1][j+1])*exp(-r*dt), S[i][j]-K); // Early exercise adjustment for call\n",
    "          }\n",
    "        }\n",
    "      }\n",
    "      else if(call_put==\"put\"){\n",
    "        for (int i = n-2; i>=0; i--) {\n",
    "          for (int j=0; j<i+1; j++) {\n",
    "            prices[i][j] = max((p*prices[i+1][j]+(1-p)*prices[i+1][j+1])*exp(-r*dt), K-S[i][j]); // Early exercise adjustment for put\n",
    "          }\n",
    "        }\n",
    "      }\n",
    "    }\n",
    "    else {\n",
    "        throw runtime_error(\"Please choose American or European.\");\n",
    "    }\n",
    "    return prices[0][0];\n",
    "}\n"
   ]
  },
  {
   "cell_type": "code",
   "execution_count": 9,
   "metadata": {
    "vscode": {
     "languageId": "cpp"
    }
   },
   "outputs": [
    {
     "name": "stdout",
     "output_type": "stream",
     "text": [
      "Binomial tree European call price: 0.062082\n",
      "Binomial tree European put price: 34.361158\n",
      "Binomial tree American call price: 1.556477\n",
      "Binomial tree American put price: 34.361158\n"
     ]
    }
   ],
   "source": [
    "cout << \"Binomial tree European call price: \"+to_string(Tree(\"call\", \"European\", sigma, K, T, t, St, r, q)) << endl;\n",
    "cout << \"Binomial tree European put price: \"+to_string(Tree(\"put\", \"European\", sigma, K, T, t, St, r, q)) << endl;\n",
    "\n",
    "cout << \"Binomial tree American call price: \"+to_string(Tree(\"call\", \"American\", sigma, K, T, t, St, r, q)) << endl;\n",
    "cout << \"Binomial tree American put price: \"+to_string(Tree(\"put\", \"American\", sigma, K, T, t, St, r, q)) << endl;"
   ]
  },
  {
   "cell_type": "markdown",
   "metadata": {
    "vscode": {
     "languageId": "cpp"
    }
   },
   "source": [
    "### PDE and finite difference methods"
   ]
  },
  {
   "cell_type": "markdown",
   "metadata": {},
   "source": [
    "$$\\frac{\\partial V}{\\partial t} + \\frac{1}{2}\\sigma^2 S^2 \\frac{\\partial^2 V}{\\partial S^2} +  (r-q)S\\frac{\\partial V}{\\partial S} -  rV = 0$$\n",
    "$$\\Theta + \\frac{1}{2}\\sigma^2 S^2 \\Gamma +  (r-q)S \\Delta -  rV = 0$$\n",
    "We can discretize the Greeks (I choose to use the explicit method, ie backward approximation for $\\Theta$, central approximation for $\\Delta$ and standard approximation for $\\Gamma$):\n",
    "$$\\Theta =\\frac{\\partial V}{\\partial t} = \\frac{V(t_i,S_j)-V(t_{i-1},S_j)}{\\delta t}$$\n",
    "$$\\Gamma =\\frac{\\partial^2 V}{\\partial S^2}= \\frac{V(t_i,S_{j+1})-2V(t_i,S_j)+V(t_i,S_{j-1})}{(\\delta S)^2}$$\n",
    "$$ \\Delta =\\frac{\\partial V}{\\partial S}= \\frac{V(t_i,S_{j+1})-V(t_i,S_{j-1})}{2\\delta S}$$\n",
    "Thus, we have:\n",
    "$$V(t_{i-1},S_j)=(1-r \\delta t) V(t_i,S_j)+\\frac{1}{2}\\sigma^2 \\delta t S_j^2 \\frac{V(t_i,S_{j+1})+2V(t_i,S_j)+V(t_i,S_{j-1})}{(\\delta S)^2} + (r-q) \\delta t S_j \\frac{V(t_i,S_{j+1})-V(t_i,S_{j-1})}{2\\delta S}$$\n",
    "$$V(t_{i-1},S_j)= a_j V(t_i,S_{j-1}) + b_j V(t_i, S_j) + c_j V(t_i, S_{j+1})$$\n",
    "with $a_j=\\frac{1}{2} \\delta t (\\sigma^2 j^2-(r-q)j) $, $b_j=1-\\delta t (\\sigma^2 j^2 +r)$ and $c_j=\\frac{1}{2} \\delta t (\\sigma^2 j^2+(r-q)j)$ using $S_j=j \\delta S$.\n",
    "\n",
    "We set boundaries conditions:\n",
    "$$ \\forall i, V(t_i,0) = 0 $$\n",
    "$$ \\forall i, V(t_i, S_j) \\underset{S_j \\rightarrow \\infty}{\\sim} S_j - K e^{-r(T-t_i)}$$\n",
    "$$ \\forall j, V(T, S_j) = \\max(S_j - K, 0)$$"
   ]
  },
  {
   "cell_type": "code",
   "execution_count": null,
   "metadata": {
    "vscode": {
     "languageId": "cpp"
    }
   },
   "outputs": [],
   "source": [
    "/**\n",
    " * @brief Prices American or European call/put options using the finite difference method.\n",
    " *\n",
    " * @param call_put A string indicating the type of option: \"call\" or \"put\".\n",
    " * @param am_eu A string indicating the exercise style: \"American\" or \"European\".\n",
    " * @param sigma The volatility of the underlying asset (annualized standard deviation of returns).\n",
    " * @param K The strike price of the option.\n",
    " * @param T The time to maturity of the option (in years).\n",
    " * @param St The current price of the underlying asset.\n",
    " * @param r The risk-free interest rate (annualized, continuously compounded).\n",
    " * @param q The dividend yield of the underlying asset (annualized, continuously compounded).\n",
    " *\n",
    " * @return double The price of the American or European call/put option.\n",
    " *\n",
    " * @throws runtime_error If `call_put` is not \"call\" or \"put\", or if `am_eu` is not \"American\" or \"European\".\n",
    " *\n",
    " * @details\n",
    " * This function uses an explicit finite difference method to solve the Black-Scholes PDE for option pricing.\n",
    " * The grid is defined by `n_t` time steps and `n_S` price steps, with a maximum asset price of \\( S_{\\text{max}} = St(1 + 2\\sigma\\sqrt{T}) \\).\n",
    " * The stability condition for the explicit method is checked:\n",
    " * \\[\n",
    " * \\Delta t \\cdot \\sigma^2 \\cdot n_S^2 \\leq 1\n",
    " * \\]\n",
    " * If this condition is violated, a warning is printed.\n",
    " *\n",
    " * For European options, the PDE is solved using backward induction without early exercise.\n",
    " * For American options, the solution includes an early exercise check at each step.\n",
    " *\n",
    " * The coefficients for the finite difference scheme are:\n",
    " * \\[\n",
    " * a = 0.5 \\cdot \\Delta t \\cdot (\\sigma^2 j^2 - (r-q)j)\n",
    " * \\]\n",
    " * \\[\n",
    " * b = 1 - \\Delta t \\cdot (\\sigma^2 j^2 + r)\n",
    " * \\]\n",
    " * \\[\n",
    " * c = 0.5 \\cdot \\Delta t \\cdot (\\sigma^2 j^2 + (r-q)j)\n",
    " * \\]\n",
    " * The option value at each grid point is updated as:\n",
    " * \\[\n",
    " * V_{i-1,j} = a V_{i,j-1} + b V_{i,j} + c V_{i,j+1}\n",
    " * \\]\n",
    " * For American options, the value is also compared to the immediate exercise value.\n",
    " */\n",
    "double PDE(string call_put, string am_eu, double sigma, double K, double T, double St, double r, double q) {\n",
    "    // Finite difference method for American and European options\n",
    "    double S_max = St * (1 + 2 * sigma * sqrt(T));\n",
    "    int n_t = 1000; // Number of time points\n",
    "    int n_S = 50;   // Number of price points\n",
    "    double dt = T / (n_t - 1);\n",
    "    double dS = S_max / (n_S - 1);\n",
    "    double V[n_t][n_S];\n",
    "\n",
    "    // Stability check\n",
    "    if (dt * sigma * sigma * n_S * n_S > 1) {\n",
    "        cout << \"Change the parameters in order to assure the stability.\" << endl;\n",
    "    }\n",
    "\n",
    "    // Initial and boundary conditions\n",
    "    if (call_put == \"call\") {\n",
    "        for (int i = 0; i < n_t; i++) {\n",
    "            V[i][0] = 0.;\n",
    "            V[i][n_S - 1] = S_max - K * exp(-r * (T - i * dt));\n",
    "        }\n",
    "        for (int j = 0; j < n_S; j++) {\n",
    "            V[n_t - 1][j] = max(j * dS - K, 0.);\n",
    "        }\n",
    "    } else if (call_put == \"put\") {\n",
    "        for (int i = 0; i < n_t; i++) {\n",
    "            V[i][0] = K * exp(-r * (T - i * dt));\n",
    "            V[i][n_S - 1] = 0.;\n",
    "        }\n",
    "        for (int j = 0; j < n_S; j++) {\n",
    "            V[n_t - 1][j] = max(K - j * dS, 0.);\n",
    "        }\n",
    "    } else {\n",
    "        throw runtime_error(\"Please choose between call and put\");\n",
    "    }\n",
    "\n",
    "    // Backward computation\n",
    "    double a, b, c;\n",
    "    if (am_eu == \"European\") {\n",
    "        for (int i = n_t - 1; i > 0; i--) {\n",
    "            for (int j = 1; j < n_S - 1; j++) {\n",
    "                a = 0.5 * dt * (sigma * sigma * j * j - (r - q) * j);\n",
    "                b = 1 - dt * (sigma * sigma * j * j + r);\n",
    "                c = 0.5 * dt * (sigma * sigma * j * j + (r - q) * j);\n",
    "                V[i - 1][j] = a * V[i][j - 1] + b * V[i][j] + c * V[i][j + 1];\n",
    "            }\n",
    "        }\n",
    "    } else if (am_eu == \"American\") {\n",
    "        if (call_put == \"call\") {\n",
    "            for (int i = n_t - 1; i > 0; i--) {\n",
    "                for (int j = 1; j < n_S - 1; j++) {\n",
    "                    a = 0.5 * dt * (sigma * sigma * j * j - (r - q) * j);\n",
    "                    b = 1 - dt * (sigma * sigma * j * j + r);\n",
    "                    c = 0.5 * dt * (sigma * sigma * j * j + (r - q) * j);\n",
    "                    V[i - 1][j] = max(a * V[i][j - 1] + b * V[i][j] + c * V[i][j + 1], j * dS - K);\n",
    "                }\n",
    "            }\n",
    "        } else if (call_put == \"put\") {\n",
    "            for (int i = n_t - 1; i > 0; i--) {\n",
    "                for (int j = 1; j < n_S - 1; j++) {\n",
    "                    a = 0.5 * dt * (sigma * sigma * j * j - (r - q) * j);\n",
    "                    b = 1 - dt * (sigma * sigma * j * j + r);\n",
    "                    c = 0.5 * dt * (sigma * sigma * j * j + (r - q) * j);\n",
    "                    V[i - 1][j] = max(a * V[i][j - 1] + b * V[i][j] + c * V[i][j + 1], K - j * dS);\n",
    "                }\n",
    "            }\n",
    "        }\n",
    "    } else {\n",
    "        throw runtime_error(\"Please choose between American and European\");\n",
    "    }\n",
    "    return V[0][int(round(St / dS))];\n",
    "}"
   ]
  },
  {
   "cell_type": "code",
   "execution_count": 11,
   "metadata": {
    "vscode": {
     "languageId": "cpp"
    }
   },
   "outputs": [
    {
     "name": "stdout",
     "output_type": "stream",
     "text": [
      "PDE European call price: 0.061975\n",
      "PDE European put price: 34.533300\n",
      "PDE American call price: 1.461421\n",
      "PDE American put price: 34.533300\n"
     ]
    }
   ],
   "source": [
    "cout << \"PDE European call price: \"+to_string(PDE(\"call\", \"European\", sigma, K, T, St, r, q)) << endl;\n",
    "cout << \"PDE European put price: \"+to_string(PDE(\"put\", \"European\", sigma, K, T, St, r, q)) << endl;\n",
    "\n",
    "cout << \"PDE American call price: \"+to_string(PDE(\"call\", \"American\", sigma, K, T, St, r, q)) << endl;\n",
    "cout << \"PDE American put price: \"+to_string(PDE(\"put\", \"American\", sigma, K, T, St, r, q)) << endl;"
   ]
  }
 ],
 "metadata": {
  "kernelspec": {
   "display_name": "C++17",
   "language": "C++17",
   "name": "xcpp17"
  },
  "language_info": {
   "codemirror_mode": "text/x-c++src",
   "file_extension": ".cpp",
   "mimetype": "text/x-c++src",
   "name": "c++",
   "version": "17"
  }
 },
 "nbformat": 4,
 "nbformat_minor": 2
}
